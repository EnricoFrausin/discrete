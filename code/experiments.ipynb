{
 "cells": [
  {
   "cell_type": "code",
   "execution_count": 1,
   "id": "16c727bc",
   "metadata": {},
   "outputs": [],
   "source": [
    "%load_ext autoreload\n",
    "%autoreload 2"
   ]
  },
  {
   "cell_type": "code",
   "execution_count": null,
   "id": "f7ba3fbd",
   "metadata": {},
   "outputs": [],
   "source": [
    "import torch\n",
    "#import numpy as np\n"
   ]
  },
  {
   "cell_type": "code",
   "execution_count": 4,
   "id": "0252fd1f",
   "metadata": {},
   "outputs": [],
   "source": [
    "device = torch.device('cpu')"
   ]
  },
  {
   "cell_type": "code",
   "execution_count": null,
   "id": "657d5e28",
   "metadata": {},
   "outputs": [
    {
     "name": "stdout",
     "output_type": "stream",
     "text": [
      "Feature frequencies: [0.625 0.5   0.375 0.    0.375 0.5  ], Sorted indices: [0 1 5 2 4 3]\n",
      "Good Gauged Dictionary: {(1, 0, 1, 0, 0, 0): 0.1, (0, 0, 0, 0, 0, 0): 0.3, (1, 1, 0, 0, 1, 0): 0.2, (1, 1, 0, 1, 0, 0): 0.1, (1, 1, 0, 1, 1, 0): 0.1, (1, 1, 1, 1, 0, 0): 0.1, (0, 0, 1, 0, 1, 0): 0.05, (0, 0, 1, 0, 0, 0): 0.05}\n"
     ]
    }
   ],
   "source": [
    "debug_dict = {(1,1,0,1,0,0): 0.1,\n",
    "              (0,1,0,1,0,1): 0.3,\n",
    "              (1,0,0,1,1,1): 0.2,\n",
    "              (1,0,1,1,0,1): 0.1,\n",
    "              (1,0,1,1,1,1): 0.1,\n",
    "              (1,0,1,1,0,0): 0.1,\n",
    "              (0,1,0,1,1,0): 0.05,\n",
    "              (0,1,0,1,0,0): 0.05}\n"
   ]
  },
  {
   "cell_type": "markdown",
   "id": "76909d5d",
   "metadata": {},
   "source": [
    "# Find optimal g"
   ]
  }
 ],
 "metadata": {
  "kernelspec": {
   "display_name": "Python 3.11 (Python_nn)",
   "language": "python",
   "name": "python_nn_3.11"
  },
  "language_info": {
   "codemirror_mode": {
    "name": "ipython",
    "version": 3
   },
   "file_extension": ".py",
   "mimetype": "text/x-python",
   "name": "python",
   "nbconvert_exporter": "python",
   "pygments_lexer": "ipython3",
   "version": "3.11.12"
  }
 },
 "nbformat": 4,
 "nbformat_minor": 5
}
