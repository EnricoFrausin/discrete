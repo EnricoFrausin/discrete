{
 "cells": [
  {
   "cell_type": "code",
   "execution_count": 1,
   "id": "a8903979",
   "metadata": {},
   "outputs": [],
   "source": [
    "%load_ext autoreload\n",
    "%autoreload 2\n"
   ]
  },
  {
   "cell_type": "code",
   "execution_count": 2,
   "id": "7d5d6afa",
   "metadata": {},
   "outputs": [],
   "source": [
    "\n",
    "import torch\n",
    "from torchvision import datasets, transforms\n",
    "import numpy as np\n",
    "#import matplotlib.pyplot as plt\n",
    "from torch.utils.data import DataLoader\n",
    "\n",
    "\n",
    "from model import VAE_priorCategorical, VAE_priorHFM\n",
    "import metadata as md\n",
    "from datasets import Dataset_HFM, Dataset_pureHFM, load_dsprites, MNISTDigit2Dataset\n",
    "from utilities import sample_images\n",
    "from find_gauge import return_minimum_kl_in_g_range\n",
    "from find_gauge import plot_kl_multiline_from_dicts, save_individual_plots_from_dicts, create_combined_multiline_plot\n",
    "\n",
    "\n"
   ]
  },
  {
   "cell_type": "code",
   "execution_count": 4,
   "id": "ee629f87",
   "metadata": {},
   "outputs": [],
   "source": [
    "from utilities import get_empirical_latent_distribution"
   ]
  },
  {
   "cell_type": "code",
   "execution_count": 3,
   "id": "47fb67e3",
   "metadata": {},
   "outputs": [],
   "source": [
    "\n",
    "device = torch.device('cpu')\n"
   ]
  },
  {
   "cell_type": "code",
   "execution_count": 127,
   "id": "d93a1bb2",
   "metadata": {},
   "outputs": [
    {
     "name": "stdout",
     "output_type": "stream",
     "text": [
      "Found 5958 original samples of digit '2'\n",
      "Generated 60000 augmented samples\n",
      "Dataset size: 60000\n",
      "Image shape: torch.Size([1, 28, 28])\n",
      "Label: 2\n",
      "Batch images shape: torch.Size([32, 1, 28, 28])\n",
      "Batch labels shape: torch.Size([32])\n",
      "All labels are 2: True\n",
      "\n",
      "––––––––––––––––––––––––––––––––––––––––––––––––––––––\n",
      "\n",
      "Found 1032 original samples of digit '2'\n",
      "Generated 10000 augmented samples\n",
      "Dataset size: 60000\n",
      "Image shape: torch.Size([1, 28, 28])\n",
      "Label: 2\n",
      "All labels are 2: True\n",
      "Batch images shape: torch.Size([32, 1, 28, 28])\n",
      "Batch labels shape: torch.Size([32])\n",
      "All labels are 2: True\n"
     ]
    }
   ],
   "source": [
    "dataset_2MNIST_train = MNISTDigit2Dataset(train=True, download=True, target_size=60000)\n",
    "print(f\"Dataset size: {len(dataset_2MNIST_train)}\")\n",
    "print(f\"Image shape: {dataset_2MNIST_train[0][0].shape}\")\n",
    "print(f\"Label: {dataset_2MNIST_train[0][1]}\")\n",
    "train_loader_2MNIST = DataLoader(dataset_2MNIST_train, batch_size=32, shuffle=True)\n",
    "batch_images, batch_labels = next(iter(train_loader_2MNIST))\n",
    "print(f\"Batch images shape: {batch_images.shape}\")\n",
    "print(f\"Batch labels shape: {batch_labels.shape}\")\n",
    "print(f\"All labels are 2: {torch.all(batch_labels == 2)}\")\n",
    "\n",
    "print(\"\\n––––––––––––––––––––––––––––––––––––––––––––––––––––––\\n\")\n",
    "\n",
    "dataset_2MNIST_val = MNISTDigit2Dataset(train=False, download=True, target_size=10000)\n",
    "print(f\"Dataset size: {len(dataset_2MNIST_train)}\")\n",
    "print(f\"Image shape: {dataset_2MNIST_train[0][0].shape}\")\n",
    "print(f\"Label: {dataset_2MNIST_train[0][1]}\")\n",
    "print(f\"All labels are 2: {torch.all(batch_labels == 2)}\")\n",
    "val_loader_2MNIST = DataLoader(dataset_2MNIST_val, batch_size=32, shuffle=True)\n",
    "batch_images, batch_labels = next(iter(val_loader_2MNIST))\n",
    "print(f\"Batch images shape: {batch_images.shape}\")\n",
    "print(f\"Batch labels shape: {batch_labels.shape}\")\n",
    "print(f\"All labels are 2: {torch.all(batch_labels == 2)}\")"
   ]
  },
  {
   "cell_type": "code",
   "execution_count": 131,
   "id": "a521ddb0",
   "metadata": {},
   "outputs": [],
   "source": [
    "train_loader_MNIST = torch.utils.data.DataLoader(\n",
    "    datasets.MNIST(\n",
    "        '/Users/enricofrausin/Programmazione/PythonProjects/Fisica/data',\n",
    "        train=True,\n",
    "        download=True,\n",
    "        transform=transforms.ToTensor()\n",
    "        ),\n",
    "    batch_size=md.batch_size,\n",
    "    shuffle=True\n",
    "    )\n",
    "\n",
    "val_loader_MNIST = torch.utils.data.DataLoader(\n",
    "    datasets.MNIST(\n",
    "        '/Users/enricofrausin/Programmazione/PythonProjects/Fisica/data',\n",
    "        train=False,\n",
    "        download=True,\n",
    "        transform=transforms.ToTensor()\n",
    "        ),\n",
    "    batch_size=md.batch_size,\n",
    "    shuffle=False\n",
    "    )"
   ]
  },
  {
   "cell_type": "code",
   "execution_count": 132,
   "id": "1d150dd4",
   "metadata": {},
   "outputs": [],
   "source": [
    "train_loader = train_loader_MNIST\n",
    "val_loader = val_loader_MNIST\n",
    "input_dim = 784"
   ]
  },
  {
   "cell_type": "code",
   "execution_count": 6,
   "id": "cb57d19b",
   "metadata": {},
   "outputs": [],
   "source": [
    "train_loader = train_loader_2MNIST\n",
    "val_loader = val_loader_2MNIST\n",
    "input_dim = 784\n"
   ]
  },
  {
   "cell_type": "code",
   "execution_count": 7,
   "id": "68bd2169",
   "metadata": {},
   "outputs": [
    {
     "data": {
      "text/plain": [
       "<All keys matched successfully>"
      ]
     },
     "execution_count": 7,
     "metadata": {},
     "output_type": "execute_result"
    }
   ],
   "source": [
    "my_model = VAE_priorCategorical(input_dim=input_dim, categorical_dim=2, latent_dim=10, decrease_rate=0.5, device=device, num_hidden_layers=1, LayerNorm=True).to(device)\n",
    "my_model.load_state_dict(torch.load('/Users/enricofrausin/Programmazione/PythonProjects/Fisica/Architetture/VAE/discrete/models_parameters/priorCategorical/CoarseGrainMNIST/2MNIST/ld10_glog2_ep15_lmb01_dr05_gKLlog2_LN_1hl_0.pth', map_location=device))"
   ]
  },
  {
   "cell_type": "code",
   "execution_count": 114,
   "id": "f1ed7622",
   "metadata": {},
   "outputs": [
    {
     "data": {
      "text/plain": [
       "<All keys matched successfully>"
      ]
     },
     "execution_count": 114,
     "metadata": {},
     "output_type": "execute_result"
    }
   ],
   "source": [
    "my_model = VAE_priorCategorical(input_dim=input_dim, categorical_dim=2, latent_dim=8, decrease_rate=0.5, device=device, num_hidden_layers=1, LayerNorm=True).to(device)\n",
    "my_model.load_state_dict(torch.load('/Users/enricofrausin/Programmazione/PythonProjects/Fisica/Architetture/VAE/discrete/models_parameters/priorCategorical/2MNIST/ld8_glog2_ep15_lmb01_dr05_gKLlog2_LN_1hl_0.pth', map_location=device))"
   ]
  },
  {
   "cell_type": "code",
   "execution_count": 128,
   "id": "e7d11364",
   "metadata": {},
   "outputs": [
    {
     "data": {
      "text/plain": [
       "<All keys matched successfully>"
      ]
     },
     "execution_count": 128,
     "metadata": {},
     "output_type": "execute_result"
    }
   ],
   "source": [
    "my_model = VAE_priorCategorical(input_dim=input_dim, categorical_dim=2, latent_dim=4, decrease_rate=0.5, device=device, num_hidden_layers=4, LayerNorm=True).to(device)\n",
    "my_model.load_state_dict(torch.load('/Users/enricofrausin/Programmazione/PythonProjects/Fisica/Architetture/VAE/discrete/models_parameters/priorCategorical/2MNIST/ld4_glog2_ep15_lmb01_dr05_gKLlog2_LN_4hl_0.pth', map_location=device))"
   ]
  },
  {
   "cell_type": "code",
   "execution_count": null,
   "id": "0c209ca2",
   "metadata": {},
   "outputs": [],
   "source": [
    "my_model = VAE_priorCategorical(input_dim=input_dim, categorical_dim=2, latent_dim=4, decrease_rate=0.5, device=device, num_hidden_layers=4, LayerNorm=True).to(device)\n",
    "my_model.load_state_dict(torch.load('/Users/enricofrausin/Programmazione/PythonProjects/Fisica/Architetture/VAE/discrete/models_parameters/priorCategorical/2MNIST/ld4_glog2_ep15_lmb01_dr05_gKLlog2_4hl_0.pth', map_location=device))"
   ]
  },
  {
   "cell_type": "markdown",
   "id": "787e6a17",
   "metadata": {},
   "source": [
    "# MNIST"
   ]
  },
  {
   "cell_type": "code",
   "execution_count": 133,
   "id": "79f5e3d1",
   "metadata": {},
   "outputs": [
    {
     "data": {
      "text/plain": [
       "<All keys matched successfully>"
      ]
     },
     "execution_count": 133,
     "metadata": {},
     "output_type": "execute_result"
    }
   ],
   "source": [
    "my_model = VAE_priorCategorical(input_dim=input_dim, categorical_dim=2, latent_dim=8, decrease_rate=0.5, device=device, num_hidden_layers=4, LayerNorm=True).to(device)\n",
    "my_model.load_state_dict(torch.load('/Users/enricofrausin/Programmazione/PythonProjects/Fisica/Architetture/VAE/discrete/models_parameters/priorCategorical/MNIST/ld8_glog2_ep15_lmb01_dr05_gKLlog2_LN_4hl_0.pth', map_location=device))"
   ]
  },
  {
   "cell_type": "code",
   "execution_count": 134,
   "id": "c21fd7d5",
   "metadata": {},
   "outputs": [],
   "source": [
    "empirical_probs, total_samples = get_empirical_latent_distribution(my_model, val_loader, device=device)"
   ]
  },
  {
   "cell_type": "code",
   "execution_count": 117,
   "id": "7b5af167",
   "metadata": {},
   "outputs": [],
   "source": [
    "batch_images, batch_labels = next(iter(val_loader))\n",
    "from torch.utils.data import TensorDataset, DataLoader\n",
    "single_batch_loader = DataLoader(TensorDataset(batch_images, batch_labels), batch_size=10000)\n",
    "empirical_probs, total_samples = get_empirical_latent_distribution(my_model, single_batch_loader, device=device)"
   ]
  },
  {
   "cell_type": "code",
   "execution_count": 120,
   "id": "6b44c31a",
   "metadata": {},
   "outputs": [],
   "source": [
    "from torch.utils.data import Subset, DataLoader\n",
    "import numpy as np\n",
    "\n",
    "# Suppose you want 10% of the validation set\n",
    "fraction = 0.1\n",
    "dataset = val_loader.dataset  # get the underlying dataset from your DataLoader\n",
    "total_len = len(dataset)\n",
    "subset_len = int(total_len * fraction)\n",
    "\n",
    "# Randomly select indices for the subset\n",
    "indices = np.random.choice(total_len, subset_len, replace=False)\n",
    "subset = Subset(dataset, indices)\n",
    "\n",
    "# Create a new DataLoader for the subset\n",
    "subset_loader = DataLoader(subset, batch_size=val_loader.batch_size, shuffle=False)\n"
   ]
  },
  {
   "cell_type": "code",
   "execution_count": 125,
   "id": "a4c0a735",
   "metadata": {},
   "outputs": [],
   "source": [
    "\n",
    "# Now use this loader\n",
    "empirical_probs, total_samples = get_empirical_latent_distribution(my_model, subset_loader, device=device)"
   ]
  },
  {
   "cell_type": "code",
   "execution_count": 9,
   "id": "ca34d66e",
   "metadata": {},
   "outputs": [],
   "source": [
    "def count_prob_occurrences(state_prob_dict):\n",
    "    \"\"\"\n",
    "    Given a dictionary with states as keys and probabilities as values,\n",
    "    returns a dictionary with probabilities as keys and the number of times\n",
    "    each probability appears as values.\n",
    "    \"\"\"\n",
    "    from collections import Counter\n",
    "    return dict(Counter(state_prob_dict.values()))"
   ]
  },
  {
   "cell_type": "code",
   "execution_count": 135,
   "id": "35e65505",
   "metadata": {},
   "outputs": [
    {
     "name": "stdout",
     "output_type": "stream",
     "text": [
      "{0.0043: 4, 0.0062: 3, 0.0052: 2, 0.0063: 6, 0.0028: 4, 0.0029: 2, 0.0032: 6, 0.008: 2, 0.0054: 2, 0.0075: 1, 0.0107: 1, 0.0124: 2, 0.0093: 2, 0.004: 2, 0.0027: 6, 0.0081: 1, 0.0051: 1, 0.0084: 2, 0.0071: 6, 0.0026: 5, 0.0034: 2, 0.0073: 2, 0.0023: 3, 0.0019: 2, 0.0066: 3, 0.0035: 4, 0.0089: 2, 0.0037: 5, 0.0007: 4, 0.0067: 2, 0.0041: 4, 0.0056: 2, 0.0047: 4, 0.0018: 3, 0.0038: 6, 0.0031: 2, 0.0017: 9, 0.0013: 4, 0.0044: 2, 0.0112: 1, 0.0057: 3, 0.0039: 5, 0.0129: 1, 0.0025: 6, 0.0045: 4, 0.0014: 10, 0.0065: 2, 0.005: 4, 0.0059: 2, 0.0036: 4, 0.0095: 1, 0.0082: 1, 0.0097: 1, 0.0024: 2, 0.0022: 2, 0.0094: 1, 0.0046: 2, 0.0061: 3, 0.0058: 2, 0.006: 2, 0.0003: 2, 0.0055: 5, 0.0011: 6, 0.0021: 4, 0.0049: 2, 0.0068: 1, 0.0079: 1, 0.0076: 1, 0.0008: 4, 0.0087: 2, 0.003: 4, 0.002: 4, 0.0064: 1, 0.0005: 3, 0.0098: 1, 0.0004: 2, 0.0104: 1, 0.0053: 1, 0.0048: 1, 0.0033: 4, 0.0002: 2, 0.0015: 4, 0.0012: 2, 0.001: 1, 0.0001: 2, 0.0042: 2, 0.0006: 3, 0.0009: 1}\n",
      "{43.0: 4, 62.0: 3, 52.0: 2, 63.0: 6, 28.0: 4, 28.999999999999996: 2, 32.0: 6, 80.0: 2, 54.0: 2, 75.0: 1, 107.0: 1, 124.0: 2, 92.99999999999999: 2, 40.0: 2, 27.0: 6, 81.0: 1, 51.00000000000001: 1, 84.0: 2, 71.0: 6, 26.0: 5, 34.0: 2, 73.0: 2, 23.0: 3, 19.0: 2, 66.0: 3, 35.0: 4, 89.0: 2, 37.0: 5, 7.0: 4, 67.0: 2, 41.0: 4, 56.0: 2, 47.0: 4, 18.0: 3, 38.0: 6, 31.0: 2, 17.0: 9, 13.0: 4, 44.0: 2, 112.0: 1, 57.0: 3, 39.0: 5, 129.0: 1, 25.0: 6, 45.0: 4, 14.0: 10, 65.0: 2, 50.0: 4, 59.0: 2, 36.0: 4, 95.0: 1, 82.0: 1, 97.0: 1, 23.999999999999996: 2, 22.0: 2, 94.0: 1, 46.0: 2, 61.00000000000001: 3, 57.99999999999999: 2, 60.0: 2, 2.9999999999999996: 2, 55.0: 5, 11.0: 6, 21.0: 4, 49.0: 2, 68.0: 1, 79.00000000000001: 1, 76.0: 1, 8.0: 4, 87.0: 2, 30.0: 4, 20.0: 4, 64.0: 1, 5.0: 3, 98.0: 1, 4.0: 2, 104.0: 1, 53.0: 1, 47.99999999999999: 1, 33.0: 4, 2.0: 2, 15.0: 4, 11.999999999999998: 2, 10.0: 1, 1.0: 2, 42.0: 2, 5.999999999999999: 3, 9.0: 1}\n"
     ]
    }
   ],
   "source": [
    "checkdict = count_prob_occurrences(empirical_probs)\n",
    "print(checkdict)\n",
    "# If you want to scale the counts (multiplicities) by 10000:\n",
    "scaled_checkdict = {prob*10000: count for prob, count in checkdict.items()}\n",
    "print(scaled_checkdict)"
   ]
  },
  {
   "cell_type": "code",
   "execution_count": 103,
   "id": "ad078d5f",
   "metadata": {},
   "outputs": [
    {
     "data": {
      "text/plain": [
       "5625"
      ]
     },
     "execution_count": 103,
     "metadata": {},
     "output_type": "execute_result"
    }
   ],
   "source": [
    "3750+1875"
   ]
  },
  {
   "cell_type": "code",
   "execution_count": 98,
   "id": "24176cac",
   "metadata": {},
   "outputs": [
    {
     "data": {
      "text/plain": [
       "7500"
      ]
     },
     "execution_count": 98,
     "metadata": {},
     "output_type": "execute_result"
    }
   ],
   "source": [
    "3750*2"
   ]
  },
  {
   "cell_type": "code",
   "execution_count": 12,
   "id": "24c96b90",
   "metadata": {},
   "outputs": [],
   "source": [
    "def check_probs_normalized(prob_count_dict):\n",
    "    \"\"\"\n",
    "    Given a dictionary with probabilities as keys and their multiplicities as values,\n",
    "    returns the sum over all probabilities weighted by their multiplicity.\n",
    "    \"\"\"\n",
    "    total = sum(prob * count for prob, count in prob_count_dict.items())\n",
    "    return total"
   ]
  },
  {
   "cell_type": "code",
   "execution_count": 55,
   "id": "efaeedd0",
   "metadata": {},
   "outputs": [
    {
     "data": {
      "text/plain": [
       "1.0000000000000002"
      ]
     },
     "execution_count": 55,
     "metadata": {},
     "output_type": "execute_result"
    }
   ],
   "source": [
    "check_probs_normalized(checkdict)"
   ]
  },
  {
   "cell_type": "code",
   "execution_count": 16,
   "id": "555039e8",
   "metadata": {},
   "outputs": [],
   "source": [
    "def relevance_calculation(prob_count_dict):\n",
    "    \"\"\"Returns the relevance of the representation. A dict with probabilities as keys and their multiplicities as values is expected.\"\"\"\n",
    "    total = - sum(prob * count * np.log(prob * count) for prob, count in prob_count_dict.items())\n",
    "    return float(total)"
   ]
  },
  {
   "cell_type": "code",
   "execution_count": 44,
   "id": "f314ee9d",
   "metadata": {},
   "outputs": [
    {
     "data": {
      "text/plain": [
       "5.034840722913546"
      ]
     },
     "execution_count": 44,
     "metadata": {},
     "output_type": "execute_result"
    }
   ],
   "source": [
    "relevance_calculation(checkdict)"
   ]
  },
  {
   "cell_type": "code",
   "execution_count": 18,
   "id": "062e00ef",
   "metadata": {},
   "outputs": [],
   "source": [
    "import matplotlib.pyplot as plt\n",
    "\n",
    "def plot_prob_multiplicities(prob_count_dict):\n",
    "    \"\"\"\n",
    "    Plots multiplicity (number of times a probability appears) vs. probability value\n",
    "    in log-log scale.\n",
    "    \"\"\"\n",
    "    multiplicities = list(prob_count_dict.values())\n",
    "    probabilities = list(prob_count_dict.keys())\n",
    "    plt.figure(figsize=(6,4))\n",
    "    plt.scatter(multiplicities, probabilities)\n",
    "    plt.xscale('log')\n",
    "    plt.yscale('log')\n",
    "    plt.xlabel('Multiplicity')\n",
    "    plt.ylabel('Probability')\n",
    "    plt.title('Multiplicity vs Probability (log-log scale)')\n",
    "    plt.grid(True, which=\"both\", ls=\"--\")\n",
    "    plt.show()"
   ]
  },
  {
   "cell_type": "code",
   "execution_count": 137,
   "id": "a0753f2b",
   "metadata": {},
   "outputs": [
    {
     "data": {
      "image/png": "[encoded data removed]",
      "text/plain": [
       "<Figure size 600x400 with 1 Axes>"
      ]
     },
     "metadata": {},
     "output_type": "display_data"
    }
   ],
   "source": [
    "def plot_prob_vs_count(prob_count_dict, total_samples=1):\n",
    "    \"\"\"\n",
    "    Plots probability*total_samples (x-axis) vs. count (y-axis) in log-log scale.\n",
    "    \"\"\"\n",
    "    probabilities = np.array(list(prob_count_dict.keys()))\n",
    "    counts = np.array(list(prob_count_dict.values()))\n",
    "    x = probabilities * total_samples\n",
    "    y = counts\n",
    "    plt.figure(figsize=(6,4))\n",
    "    plt.scatter(x, y)\n",
    "    #plt.xscale('log')\n",
    "    #plt.yscale('log')\n",
    "    plt.xlabel('Probability × {}'.format(total_samples))\n",
    "    plt.ylabel('Multiplicity (count)')\n",
    "    plt.title('Probability × N vs Count (log-log scale)')\n",
    "    plt.grid(True, which=\"both\", ls=\"--\")\n",
    "    plt.show()\n",
    "plot_prob_vs_count(scaled_checkdict, total_samples=1)"
   ]
  },
  {
   "cell_type": "code",
   "execution_count": null,
   "id": "0f6e75cd",
   "metadata": {},
   "outputs": [],
   "source": []
  },
  {
   "cell_type": "code",
   "execution_count": null,
   "id": "d3d7ced5",
   "metadata": {},
   "outputs": [],
   "source": []
  }
 ],
 "metadata": {
  "kernelspec": {
   "display_name": "Python 3.11 (Python_nn)",
   "language": "python",
   "name": "python_nn_3.11"
  },
  "language_info": {
   "codemirror_mode": {
    "name": "ipython",
    "version": 3
   },
   "file_extension": ".py",
   "mimetype": "text/x-python",
   "name": "python",
   "nbconvert_exporter": "python",
   "pygments_lexer": "ipython3",
   "version": "3.11.12"
  }
 },
 "nbformat": 4,
 "nbformat_minor": 5
}
