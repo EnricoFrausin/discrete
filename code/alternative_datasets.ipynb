{
 "cells": [
  {
   "cell_type": "code",
   "execution_count": 2,
   "id": "329b4766",
   "metadata": {},
   "outputs": [],
   "source": [
    "%load_ext autoreload\n",
    "%autoreload 2"
   ]
  },
  {
   "cell_type": "code",
   "execution_count": null,
   "id": "23f28347",
   "metadata": {},
   "outputs": [],
   "source": [
    "import torch\n",
    "from torchvision import datasets, transforms\n",
    "import torch.nn as nn\n",
    "from torch.distributions import Categorical\n",
    "import torch.nn.functional as F\n",
    "import numpy as np\n",
    "import torch.optim as optim\n",
    "import matplotlib.pyplot as plt\n",
    "from torch.utils.tensorboard import SummaryWriter\n",
    "from torch.utils.data import Dataset, DataLoader\n",
    "\n",
    "from model import VAE_priorCategorical, VAE_priorHFM\n",
    "import metadata as md\n",
    "from train import train\n",
    "from datasets import Dataset_HFM, Dataset_pureHFM, load_dsprites\n",
    "from utilities import sample_images"
   ]
  },
  {
   "cell_type": "code",
   "execution_count": 4,
   "id": "2cf75c99",
   "metadata": {},
   "outputs": [
    {
     "name": "stdout",
     "output_type": "stream",
     "text": [
      "Utilizzo Apple Silicon GPU (MPS)\n"
     ]
    }
   ],
   "source": [
    "if torch.backends.mps.is_available():\n",
    "    device = torch.device(\"mps\")\n",
    "    print(\"Utilizzo Apple Silicon GPU (MPS)\")\n",
    "elif torch.cuda.is_available():\n",
    "    device = torch.device(\"cuda\")\n",
    "    print(\"Utilizzo NVIDIA GPU (CUDA)\")\n",
    "else:\n",
    "    device = torch.device(\"cpu\")\n",
    "    print(\"Utilizzo la CPU\")\n",
    "\n",
    "device = torch.device('cpu')\n",
    "\n",
    "if device.type == \"cuda\": \n",
    "    torch.cuda.manual_seed(md.seed)\n",
    "elif device.type == \"mps\": \n",
    "    torch.mps.manual_seed(md.seed)"
   ]
  },
  {
   "cell_type": "markdown",
   "id": "9f2c6895",
   "metadata": {},
   "source": [
    "# Datasets"
   ]
  },
  {
   "cell_type": "markdown",
   "id": "ea42e7e2",
   "metadata": {},
   "source": [
    "## dSprites"
   ]
  },
  {
   "cell_type": "code",
   "execution_count": 5,
   "id": "46a29395",
   "metadata": {},
   "outputs": [],
   "source": [
    "train_loader_dSprites, val_loader_dSprites = load_dsprites()"
   ]
  },
  {
   "cell_type": "markdown",
   "id": "c405d1be",
   "metadata": {},
   "source": [
    "# priorHFM"
   ]
  },
  {
   "cell_type": "markdown",
   "id": "b88408ac",
   "metadata": {},
   "source": [
    "## train over dSprites"
   ]
  },
  {
   "cell_type": "code",
   "execution_count": 6,
   "id": "73534cf5",
   "metadata": {},
   "outputs": [],
   "source": [
    "train_loader = train_loader_dSprites\n",
    "val_loader = val_loader_dSprites\n",
    "input_dim = 4096"
   ]
  },
  {
   "cell_type": "markdown",
   "id": "5a19d176",
   "metadata": {},
   "source": [
    "\n",
    "#### features = 20, g_model = log(2), epochs = 7, decrease_rate = 0.5, g_HFM per KL = log2, hidden layer = 2\n"
   ]
  },
  {
   "cell_type": "code",
   "execution_count": null,
   "id": "d76c3def",
   "metadata": {},
   "outputs": [],
   "source": [
    "\n",
    "writer = SummaryWriter(log_dir='/Users/enricofrausin/Programmazione/PythonProjects/Fisica/runs/discrete_VAE/prior_HFM/dSprites/ld20_glog2_ep7_lmb01_dr05_gKLlog2_NL_2hl_0')\n",
    "my_model = VAE_priorHFM(input_dim=input_dim, latent_dim=20, g=np.log(2), decrease_rate=0.5, device=device, num_hidden_layers=2, LayerNorm=True).to(device)\n",
    "optimizer = optim.Adam(my_model.parameters(), lr=md.learning_rate)\n",
    "train(my_model, _lambda=0.1, writer=writer, train_loader=train_loader, val_loader=val_loader, optimizer=optimizer, device=device, epochs=7, calculate_KL_HFM=True)\n",
    "torch.save(my_model.state_dict(), '/Users/enricofrausin/Programmazione/PythonProjects/Fisica/Architetture/VAE/discrete/models_parameters/priorHFM/dSprites/ld20_glog2_ep7_lmb01_dr05_gKLlog2_NL_2hl_0.pth')\n",
    "print('Parameters saved')\n"
   ]
  },
  {
   "cell_type": "markdown",
   "id": "470b079e",
   "metadata": {},
   "source": [
    "### latent_dim = 8 cca 5 min"
   ]
  },
  {
   "cell_type": "markdown",
   "id": "005c387f",
   "metadata": {},
   "source": [
    "#### features = 8, g_model = log(2), epochs = 7, decrease_rate = 0.5, g_HFM per KL = log2, hidden layer = 1"
   ]
  },
  {
   "cell_type": "code",
   "execution_count": null,
   "id": "7a73843d",
   "metadata": {},
   "outputs": [
    {
     "name": "stdout",
     "output_type": "stream",
     "text": [
      "Epoch: 0/7, Average loss: 141.6870\n",
      "Epoch: 1/7, Average loss: 63.3648\n",
      "Epoch: 2/7, Average loss: 38.5965\n",
      "Epoch: 3/7, Average loss: 26.3504\n",
      "Epoch: 4/7, Average loss: 20.1462\n",
      "Epoch: 5/7, Average loss: 16.7022\n",
      "Epoch: 6/7, Average loss: 14.5588\n",
      "Training completato e dati scritti su tensorboard\n",
      "Parameters saved\n"
     ]
    }
   ],
   "source": [
    "writer = SummaryWriter(log_dir='/Users/enricofrausin/Programmazione/PythonProjects/Fisica/runs/discrete_VAE/prior_HFM/dSprites/ld8_glog2_ep7_lmb01_dr05_gKLlog2_LN_1hl_0')\n",
    "my_model = VAE_priorHFM(input_dim=input_dim, latent_dim=8, g=np.log(2), decrease_rate=0.5, device=device, num_hidden_layers=1, LayerNorm=True).to(device)\n",
    "optimizer = optim.Adam(my_model.parameters(), lr=md.learning_rate)\n",
    "train(my_model, _lambda=0.1, writer=writer, train_loader=train_loader, val_loader=val_loader, optimizer=optimizer, device=device, epochs=7, calculate_KL_HFM=True)\n",
    "torch.save(my_model.state_dict(), '/Users/enricofrausin/Programmazione/PythonProjects/Fisica/Architetture/VAE/discrete/models_parameters/priorHFM/dSprites/ld8_glog2_ep7_lmb01_dr05_gKLlog2_LN_1hl_0.pth')\n",
    "print('Parameters saved')\n"
   ]
  },
  {
   "cell_type": "markdown",
   "id": "4cd24165",
   "metadata": {},
   "source": [
    "\n",
    "#### features = 8, g_model = log(2), epochs = 7, decrease_rate = 0.5, g_HFM per KL = log2, hidden layer = 2"
   ]
  },
  {
   "cell_type": "code",
   "execution_count": 14,
   "id": "d68af23b",
   "metadata": {},
   "outputs": [
    {
     "name": "stdout",
     "output_type": "stream",
     "text": [
      "Epoch: 0/7, Average loss: 141.7822\n",
      "Epoch: 1/7, Average loss: 62.9691\n",
      "Epoch: 2/7, Average loss: 38.1532\n",
      "Epoch: 3/7, Average loss: 25.8302\n",
      "Epoch: 4/7, Average loss: 19.6127\n",
      "Epoch: 5/7, Average loss: 16.0907\n",
      "Epoch: 6/7, Average loss: 13.9218\n",
      "Training completato e dati scritti su tensorboard\n",
      "Parameters saved\n"
     ]
    }
   ],
   "source": [
    "\n",
    "writer = SummaryWriter(log_dir='/Users/enricofrausin/Programmazione/PythonProjects/Fisica/runs/discrete_VAE/prior_HFM/dSprites/ld8_glog2_ep7_lmb01_dr05_gKLlog2_NL_2hl_0')\n",
    "my_model = VAE_priorHFM(input_dim=input_dim, latent_dim=8, g=np.log(2), decrease_rate=0.5, device=device, num_hidden_layers=2, LayerNorm=True).to(device)\n",
    "optimizer = optim.Adam(my_model.parameters(), lr=md.learning_rate)\n",
    "train(my_model, _lambda=0.1, writer=writer, train_loader=train_loader, val_loader=val_loader, optimizer=optimizer, device=device, epochs=7, calculate_KL_HFM=True)\n",
    "torch.save(my_model.state_dict(), '/Users/enricofrausin/Programmazione/PythonProjects/Fisica/Architetture/VAE/discrete/models_parameters/priorHFM/dSprites/ld8_glog2_ep7_lmb01_dr05_gKLlog2_NL_2hl_0.pth')\n",
    "print('Parameters saved')"
   ]
  },
  {
   "cell_type": "markdown",
   "id": "67f9570e",
   "metadata": {},
   "source": [
    "\n",
    "#### features = 8, g_model = log(2), epochs = 7, decrease_rate = 0.5, g_HFM per KL = log2, hidden layer = 3\n"
   ]
  },
  {
   "cell_type": "code",
   "execution_count": 34,
   "id": "89a4f190",
   "metadata": {},
   "outputs": [
    {
     "name": "stdout",
     "output_type": "stream",
     "text": [
      "Epoch: 0/7, Average loss: 143.1033\n",
      "Epoch: 1/7, Average loss: 63.9786\n",
      "Epoch: 2/7, Average loss: 39.8840\n",
      "Epoch: 3/7, Average loss: 26.7291\n",
      "Epoch: 4/7, Average loss: 19.9180\n",
      "Epoch: 5/7, Average loss: 16.2188\n",
      "Epoch: 6/7, Average loss: 13.9987\n",
      "Training completato e dati scritti su tensorboard\n",
      "Parameters saved\n"
     ]
    }
   ],
   "source": [
    "\n",
    "writer = SummaryWriter(log_dir='/Users/enricofrausin/Programmazione/PythonProjects/Fisica/runs/discrete_VAE/prior_HFM/dSprites/ld8_glog2_ep7_lmb01_dr05_gKLlog2_NL_3hl_0')\n",
    "my_model = VAE_priorHFM(input_dim=input_dim, latent_dim=8, g=np.log(2), decrease_rate=0.5, device=device, num_hidden_layers=3, LayerNorm=True).to(device)\n",
    "optimizer = optim.Adam(my_model.parameters(), lr=md.learning_rate)\n",
    "train(my_model, _lambda=0.1, writer=writer, train_loader=train_loader, val_loader=val_loader, optimizer=optimizer, device=device, epochs=7, calculate_KL_HFM=True)\n",
    "torch.save(my_model.state_dict(), '/Users/enricofrausin/Programmazione/PythonProjects/Fisica/Architetture/VAE/discrete/models_parameters/priorHFM/dSprites/ld8_glog2_ep7_lmb01_dr05_gKLlog2_NL_3hl_0.pth')\n",
    "print('Parameters saved')\n"
   ]
  },
  {
   "cell_type": "markdown",
   "id": "e784ee36",
   "metadata": {},
   "source": [
    "\n",
    "#### features = 8, g_model = log(2), epochs = 7, decrease_rate = 0.5, g_HFM per KL = log2, hidden layers = 4\n"
   ]
  },
  {
   "cell_type": "code",
   "execution_count": 35,
   "id": "e847bef0",
   "metadata": {},
   "outputs": [
    {
     "name": "stdout",
     "output_type": "stream",
     "text": [
      "Epoch: 0/7, Average loss: 149.1392\n",
      "Epoch: 1/7, Average loss: 66.4225\n",
      "Epoch: 2/7, Average loss: 40.8866\n",
      "Epoch: 3/7, Average loss: 27.6467\n",
      "Epoch: 4/7, Average loss: 20.2615\n",
      "Epoch: 5/7, Average loss: 16.3531\n",
      "Epoch: 6/7, Average loss: 14.1098\n",
      "Training completato e dati scritti su tensorboard\n",
      "Parameters saved\n"
     ]
    }
   ],
   "source": [
    "\n",
    "writer = SummaryWriter(log_dir='/Users/enricofrausin/Programmazione/PythonProjects/Fisica/runs/discrete_VAE/prior_HFM/dSprites/ld8_glog2_ep7_lmb01_dr05_gKLlog2_LN_4hl_0')\n",
    "my_model = VAE_priorHFM(input_dim=input_dim, latent_dim=8, g=np.log(2), decrease_rate=0.5, device=device, num_hidden_layers=4, LayerNorm=True).to(device)\n",
    "optimizer = optim.Adam(my_model.parameters(), lr=md.learning_rate)\n",
    "train(my_model, _lambda=0.1, writer=writer, train_loader=train_loader, val_loader=val_loader, optimizer=optimizer, device=device, epochs=7, calculate_KL_HFM=True)\n",
    "torch.save(my_model.state_dict(), '/Users/enricofrausin/Programmazione/PythonProjects/Fisica/Architetture/VAE/discrete/models_parameters/priorHFM/dSprites/ld8_glog2_ep7_lmb01_dr05_gKLlog2_LN_4hl_0.pth')\n",
    "print('Parameters saved')\n"
   ]
  },
  {
   "cell_type": "markdown",
   "id": "3573f5f7",
   "metadata": {},
   "source": [
    "\n",
    "#### features = 8, g_model = log(2), epochs = 7, decrease_rate = 0.55, g_HFM per KL = log2, hidden layers = 5\n"
   ]
  },
  {
   "cell_type": "code",
   "execution_count": null,
   "id": "dacb99c3",
   "metadata": {},
   "outputs": [],
   "source": [
    "\n",
    "writer = SummaryWriter(log_dir='/Users/enricofrausin/Programmazione/PythonProjects/Fisica/runs/discrete_VAE/prior_HFM/dSprites/ld8_glog2_ep20_lmb01_dr055_gKLlog2_NL_5hl_0')\n",
    "my_model = VAE_priorHFM(input_dim=input_dim, latent_dim=8, g=np.log(2), decrease_rate=0.55, device=device, num_hidden_layers=5, LayerNorm=True).to(device)\n",
    "optimizer = optim.Adam(my_model.parameters(), lr=md.learning_rate)\n",
    "train(my_model, _lambda=0.1, writer=writer, train_loader=train_loader, val_loader=val_loader, optimizer=optimizer, device=device, epochs=7, calculate_KL_HFM=True)\n",
    "torch.save(my_model.state_dict(), '/Users/enricofrausin/Programmazione/PythonProjects/Fisica/Architetture/VAE/discrete/models_parameters/priorHFM/dSprites/ld8_glog2_ep7_lmb01_dr055_gKLlog2_NL_5hl_0.pth')\n",
    "print('Parameters saved')\n"
   ]
  },
  {
   "cell_type": "markdown",
   "id": "c514c83f",
   "metadata": {},
   "source": [
    "\n",
    "#### features = 8, g_model = log(2), epochs = 7, decrease_rate = 0.6, g_HFM per KL = log2, hidden layers = 6\n"
   ]
  },
  {
   "cell_type": "code",
   "execution_count": null,
   "id": "3fcca75b",
   "metadata": {},
   "outputs": [],
   "source": [
    "writer = SummaryWriter(log_dir='/Users/enricofrausin/Programmazione/PythonProjects/Fisica/runs/discrete_VAE/prior_HFM/dSprites/ld8_glog2_ep20_lmb01_dr06_gKLlog2_NL_6hl_0')\n",
    "my_model = VAE_priorHFM(input_dim=input_dim, latent_dim=8, g=np.log(2), decrease_rate=0.6, device=device, num_hidden_layers=6, LayerNorm=True).to(device)\n",
    "optimizer = optim.Adam(my_model.parameters(), lr=md.learning_rate)\n",
    "train(my_model, _lambda=0.1, writer=writer, train_loader=train_loader, val_loader=val_loader, optimizer=optimizer, device=device, epochs=7, calculate_KL_HFM=True)\n",
    "torch.save(my_model.state_dict(), '/Users/enricofrausin/Programmazione/PythonProjects/Fisica/Architetture/VAE/discrete/models_parameters/priorHFM/dSprites/ld8_glog2_ep20_lmb01_dr06_gKLlog2_NL_6hl_0.pth')\n",
    "print('Parameters saved')"
   ]
  }
 ],
 "metadata": {
  "kernelspec": {
   "display_name": "Python 3.11 (Python_nn)",
   "language": "python",
   "name": "python_nn_3.11"
  },
  "language_info": {
   "codemirror_mode": {
    "name": "ipython",
    "version": 3
   },
   "file_extension": ".py",
   "mimetype": "text/x-python",
   "name": "python",
   "nbconvert_exporter": "python",
   "pygments_lexer": "ipython3",
   "version": "3.11.12"
  }
 },
 "nbformat": 4,
 "nbformat_minor": 5
}
