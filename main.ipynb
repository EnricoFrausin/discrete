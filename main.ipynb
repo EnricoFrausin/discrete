{
 "cells": [
  {
   "cell_type": "markdown",
   "id": "9d041b96",
   "metadata": {},
   "source": [
    "# Initialize"
   ]
  },
  {
   "cell_type": "code",
   "execution_count": 24,
   "id": "512e8a78",
   "metadata": {},
   "outputs": [
    {
     "name": "stdout",
     "output_type": "stream",
     "text": [
      "The autoreload extension is already loaded. To reload it, use:\n",
      "  %reload_ext autoreload\n"
     ]
    }
   ],
   "source": [
    "%load_ext autoreload\n",
    "%autoreload 2"
   ]
  },
  {
   "cell_type": "code",
   "execution_count": 25,
   "id": "4e1f5087",
   "metadata": {},
   "outputs": [],
   "source": [
    "import torch\n",
    "from torchvision import datasets, transforms\n",
    "import torch.nn as nn\n",
    "from torch.distributions import Categorical\n",
    "import torch.nn.functional as F\n",
    "import numpy as np\n",
    "import torch.optim as optim\n",
    "import matplotlib.pyplot as plt\n",
    "from torch.utils.tensorboard import SummaryWriter\n",
    "from torch.utils.data import Dataset, DataLoader\n",
    "\n",
    "from model import VAE_priorCategorical, VAE_priorHFM\n",
    "import metadata as md\n",
    "from train import train\n",
    "from datasets import Dataset_HFM, Dataset_pureHFM\n",
    "from utilities import sample_images\n",
    "from find_gauge import get_feature_frequencies_sorted"
   ]
  },
  {
   "cell_type": "code",
   "execution_count": 20,
   "id": "d58f0132",
   "metadata": {},
   "outputs": [
    {
     "name": "stdout",
     "output_type": "stream",
     "text": [
      "Utilizzo Apple Silicon GPU (MPS)\n"
     ]
    }
   ],
   "source": [
    "if torch.backends.mps.is_available():\n",
    "    device = torch.device(\"mps\")\n",
    "    print(\"Utilizzo Apple Silicon GPU (MPS)\")\n",
    "elif torch.cuda.is_available():\n",
    "    device = torch.device(\"cuda\")\n",
    "    print(\"Utilizzo NVIDIA GPU (CUDA)\")\n",
    "else:\n",
    "    device = torch.device(\"cpu\")\n",
    "    print(\"Utilizzo la CPU\")\n",
    "\n",
    "device = torch.device('cpu')\n",
    "\n",
    "if device.type == \"cuda\": \n",
    "    torch.cuda.manual_seed(md.seed)\n",
    "elif device.type == \"mps\": \n",
    "    torch.mps.manual_seed(md.seed)"
   ]
  },
  {
   "cell_type": "markdown",
   "id": "d2bf1647",
   "metadata": {},
   "source": [
    "# Datasets"
   ]
  },
  {
   "cell_type": "markdown",
   "id": "09921586",
   "metadata": {},
   "source": [
    "## train over MNIST"
   ]
  },
  {
   "cell_type": "code",
   "execution_count": 18,
   "id": "6f7171d5",
   "metadata": {},
   "outputs": [],
   "source": [
    "train_loader_MNIST = torch.utils.data.DataLoader(\n",
    "    datasets.MNIST(\n",
    "        '/Users/enricofrausin/Programmazione/PythonProjects/Fisica/data',\n",
    "        train=True,\n",
    "        download=True,\n",
    "        transform=transforms.ToTensor()\n",
    "        ),\n",
    "    batch_size=md.batch_size,\n",
    "    shuffle=True\n",
    "    )\n",
    "\n",
    "val_loader_MNIST = torch.utils.data.DataLoader(\n",
    "    datasets.MNIST(\n",
    "        '/Users/enricofrausin/Programmazione/PythonProjects/Fisica/data',\n",
    "        train=False,\n",
    "        download=True,\n",
    "        transform=transforms.ToTensor()\n",
    "        ),\n",
    "    batch_size=md.batch_size,\n",
    "    shuffle=False\n",
    "    )"
   ]
  },
  {
   "cell_type": "markdown",
   "id": "ae9f0bae",
   "metadata": {},
   "source": [
    "## train over FashionMNIST"
   ]
  },
  {
   "cell_type": "code",
   "execution_count": 5,
   "id": "d2094def",
   "metadata": {},
   "outputs": [],
   "source": [
    "train_loader_FashionMNIST = torch.utils.data.DataLoader(\n",
    "    datasets.FashionMNIST(\n",
    "        '/Users/enricofrausin/Programmazione/PythonProjects/Fisica/data',\n",
    "        train=True,\n",
    "        download=True,\n",
    "        transform=transforms.ToTensor()\n",
    "        ),\n",
    "    batch_size=md.batch_size,\n",
    "    shuffle=True\n",
    "    )\n",
    "\n",
    "val_loader_FashionMNIST = torch.utils.data.DataLoader(\n",
    "    datasets.FashionMNIST(\n",
    "        '/Users/enricofrausin/Programmazione/PythonProjects/Fisica/data',\n",
    "        train=False,\n",
    "        download=True,\n",
    "        transform=transforms.ToTensor()\n",
    "        ),\n",
    "    batch_size=md.batch_size,\n",
    "    shuffle=False\n",
    "    )"
   ]
  },
  {
   "cell_type": "markdown",
   "id": "ba6682e2",
   "metadata": {},
   "source": [
    "## train over pureHFM"
   ]
  },
  {
   "cell_type": "code",
   "execution_count": 6,
   "id": "bec3b379",
   "metadata": {},
   "outputs": [],
   "source": [
    "dataset_HFM_train = Dataset_pureHFM(csv_file='/Users/enricofrausin/Programmazione/PythonProjects/Fisica/data/pureHFM/512features/glog2_train60000.pt',\n",
    "                        root_dir='/Users/enricofrausin/Programmazione/PythonProjects/Fisica/data/pureHFM')\n",
    "\n",
    "train_loader_pureHFM = DataLoader(\n",
    "    dataset_HFM_train,\n",
    "    batch_size=md.batch_size,\n",
    "    shuffle=True\n",
    ")\n",
    "\n",
    "dataset_HFM_val = Dataset_pureHFM(csv_file='/Users/enricofrausin/Programmazione/PythonProjects/Fisica/data/pureHFM/512features/glog2_validation10000.pt',\n",
    "                            root_dir='/Users/enricofrausin/Programmazione/PythonProjects/Fisica/data/pureHFM')\n",
    "\n",
    "val_loader_pureHFM = DataLoader(\n",
    "    dataset_HFM_val, # Importante: usa dataset_HFM_val qui, non dataset_HFM\n",
    "    batch_size=md.batch_size,\n",
    "    shuffle=False\n",
    ")"
   ]
  },
  {
   "cell_type": "markdown",
   "id": "bd2822c7",
   "metadata": {},
   "source": [
    "## train over expandedHFM"
   ]
  },
  {
   "cell_type": "code",
   "execution_count": 6,
   "id": "4a2fa0df",
   "metadata": {},
   "outputs": [],
   "source": [
    "dataset_HFM_train = Dataset_HFM(csv_file='/Users/enricofrausin/Programmazione/PythonProjects/Fisica/data/expandedHFM/16_1024features/2hl_glog2_train60000.pt',\n",
    "                        root_dir='/Users/enricofrausin/Programmazione/PythonProjects/Fisica/data/pureHFM')\n",
    "\n",
    "train_loader_expandedHFM = DataLoader(\n",
    "    dataset_HFM_train,\n",
    "    batch_size=md.batch_size,\n",
    "    shuffle=True\n",
    ")\n",
    "\n",
    "dataset_HFM_val = Dataset_HFM(csv_file='/Users/enricofrausin/Programmazione/PythonProjects/Fisica/data/expandedHFM/16_1024features/2hl_glog2_validation10000.pt',\n",
    "                            root_dir='/Users/enricofrausin/Programmazione/PythonProjects/Fisica/data/pureHFM')\n",
    "\n",
    "val_loader_expandedHFM = DataLoader(\n",
    "    dataset_HFM_val, # Importante: usa dataset_HFM_val qui, non dataset_HFM\n",
    "    batch_size=md.batch_size,\n",
    "    shuffle=False\n",
    ")"
   ]
  },
  {
   "cell_type": "markdown",
   "id": "c10db343",
   "metadata": {},
   "source": [
    "## train over expandedHFM 32-1024"
   ]
  },
  {
   "cell_type": "code",
   "execution_count": 5,
   "id": "03f505c6",
   "metadata": {},
   "outputs": [],
   "source": [
    "dataset_HFM_train = Dataset_HFM(csv_file='/Users/enricofrausin/Programmazione/PythonProjects/Fisica/data/expandedHFM/32_1024features/2hl_glog2_train60000.pt',\n",
    "                        root_dir='/Users/enricofrausin/Programmazione/PythonProjects/Fisica/data/pureHFM')\n",
    "\n",
    "train_loader_expandedHFM_32_1024 = DataLoader(\n",
    "    dataset_HFM_train,\n",
    "    batch_size=md.batch_size,\n",
    "    shuffle=True\n",
    ")\n",
    "\n",
    "dataset_HFM_val = Dataset_HFM(csv_file='/Users/enricofrausin/Programmazione/PythonProjects/Fisica/data/expandedHFM/32_1024features/2hl_glog2_validation10000.pt',\n",
    "                            root_dir='/Users/enricofrausin/Programmazione/PythonProjects/Fisica/data/pureHFM')\n",
    "\n",
    "val_loader_expandedHFM_32_1024 = DataLoader(\n",
    "    dataset_HFM_val, # Importante: usa dataset_HFM_val qui, non dataset_HFM\n",
    "    batch_size=md.batch_size,\n",
    "    shuffle=False\n",
    ")"
   ]
  },
  {
   "cell_type": "markdown",
   "id": "7e9adabe",
   "metadata": {},
   "source": [
    "# Prior Categorical"
   ]
  },
  {
   "cell_type": "markdown",
   "id": "cb7130fe",
   "metadata": {},
   "source": [
    "## train over MNIST"
   ]
  },
  {
   "cell_type": "code",
   "execution_count": 7,
   "id": "b489f0d7",
   "metadata": {},
   "outputs": [],
   "source": [
    "train_loader = train_loader_MNIST\n",
    "val_loader = val_loader_MNIST\n",
    "input_dim = 784"
   ]
  },
  {
   "cell_type": "markdown",
   "id": "7aac8c5d",
   "metadata": {},
   "source": [
    "### latent_dim = 8\n"
   ]
  },
  {
   "cell_type": "code",
   "execution_count": 8,
   "id": "7ced2c08",
   "metadata": {},
   "outputs": [
    {
     "name": "stdout",
     "output_type": "stream",
     "text": [
      "Epoch: 0/15, Average loss: 387.2214\n",
      "Epoch: 1/15, Average loss: 273.8701\n",
      "Epoch: 2/15, Average loss: 226.0219\n",
      "Epoch: 3/15, Average loss: 198.7820\n",
      "Epoch: 4/15, Average loss: 179.1189\n",
      "Epoch: 5/15, Average loss: 165.0554\n",
      "Epoch: 6/15, Average loss: 155.2160\n",
      "Epoch: 7/15, Average loss: 147.9891\n",
      "Epoch: 8/15, Average loss: 142.7795\n",
      "Epoch: 9/15, Average loss: 138.7503\n",
      "Epoch: 10/15, Average loss: 135.5485\n",
      "Epoch: 11/15, Average loss: 132.9366\n",
      "Epoch: 12/15, Average loss: 130.8681\n",
      "Epoch: 13/15, Average loss: 129.1318\n",
      "Epoch: 14/15, Average loss: 127.7810\n",
      "Training completato e dati scritti su tensorboard\n",
      "Parameters saved\n"
     ]
    }
   ],
   "source": [
    "\n",
    "#### features = 8, g_model = log(2), epochs = 15, decrease_rate = 0.5, g_HFM per KL = log2, hidden layer = 1\n",
    "\n",
    "writer = SummaryWriter(log_dir='/Users/enricofrausin/Programmazione/PythonProjects/Fisica/Architetture/VAE/discrete/runs/prior_Categorical/MNIST/prior_Categorical/MNIST/ld8_glog2_ep15_lmb01_dr05_gKLlog2_LN_1hl_0')\n",
    "my_model = VAE_priorCategorical(input_dim=input_dim, latent_dim=8, categorical_dim=2, decrease_rate=0.5, device=device, num_hidden_layers=1, LayerNorm=True).to(device)\n",
    "optimizer = optim.Adam(my_model.parameters(), lr=md.learning_rate)\n",
    "train(my_model, writer=writer, train_loader=train_loader, val_loader=val_loader, optimizer=optimizer, device=device, epochs=15, _lambda=1)\n",
    "torch.save(my_model.state_dict(), '/Users/enricofrausin/Programmazione/PythonProjects/Fisica/Architetture/VAE/discrete/models_parameters/priorCategorical/MNIST/ld8_glog2_ep15_lmb01_dr05_gKLlog2_LN_1hl_0.pth')\n",
    "print('Parameters saved')\n"
   ]
  },
  {
   "cell_type": "code",
   "execution_count": 14,
   "id": "4b53d3df",
   "metadata": {},
   "outputs": [
    {
     "name": "stdout",
     "output_type": "stream",
     "text": [
      "Epoch: 0/15, Average loss: 389.5810\n",
      "Epoch: 1/15, Average loss: 272.9245\n",
      "Epoch: 2/15, Average loss: 224.3924\n",
      "Epoch: 3/15, Average loss: 196.1950\n",
      "Epoch: 4/15, Average loss: 175.8703\n",
      "Epoch: 5/15, Average loss: 161.4573\n",
      "Epoch: 6/15, Average loss: 151.1268\n",
      "Epoch: 7/15, Average loss: 143.5675\n",
      "Epoch: 8/15, Average loss: 137.9279\n",
      "Epoch: 9/15, Average loss: 133.4935\n",
      "Epoch: 10/15, Average loss: 130.0795\n",
      "Epoch: 11/15, Average loss: 127.3539\n",
      "Epoch: 12/15, Average loss: 125.0256\n",
      "Epoch: 13/15, Average loss: 123.2869\n",
      "Epoch: 14/15, Average loss: 121.7311\n",
      "Training completato e dati scritti su tensorboard\n",
      "Parameters saved\n",
      "Epoch: 0/15, Average loss: 396.2289\n",
      "Epoch: 1/15, Average loss: 274.0455\n",
      "Epoch: 2/15, Average loss: 225.6387\n",
      "Epoch: 3/15, Average loss: 197.5839\n",
      "Epoch: 4/15, Average loss: 177.1822\n",
      "Epoch: 5/15, Average loss: 162.4309\n",
      "Epoch: 6/15, Average loss: 152.1034\n",
      "Epoch: 7/15, Average loss: 144.3967\n",
      "Epoch: 8/15, Average loss: 138.8854\n",
      "Epoch: 9/15, Average loss: 134.5667\n",
      "Epoch: 10/15, Average loss: 131.3657\n",
      "Epoch: 11/15, Average loss: 128.9836\n",
      "Epoch: 12/15, Average loss: 126.8194\n",
      "Epoch: 13/15, Average loss: 125.1062\n",
      "Epoch: 14/15, Average loss: 123.7093\n",
      "Training completato e dati scritti su tensorboard\n",
      "Parameters saved\n",
      "Epoch: 0/15, Average loss: 401.6955\n",
      "Epoch: 1/15, Average loss: 277.8787\n",
      "Epoch: 2/15, Average loss: 231.1103\n",
      "Epoch: 3/15, Average loss: 205.0764\n",
      "Epoch: 4/15, Average loss: 184.1718\n",
      "Epoch: 5/15, Average loss: 169.0195\n",
      "Epoch: 6/15, Average loss: 158.4487\n",
      "Epoch: 7/15, Average loss: 151.1160\n",
      "Epoch: 8/15, Average loss: 145.3018\n",
      "Epoch: 9/15, Average loss: 140.4248\n",
      "Epoch: 10/15, Average loss: 137.0231\n",
      "Epoch: 11/15, Average loss: 134.2711\n",
      "Epoch: 12/15, Average loss: 132.0752\n",
      "Epoch: 13/15, Average loss: 130.4365\n",
      "Epoch: 14/15, Average loss: 129.0076\n",
      "Training completato e dati scritti su tensorboard\n",
      "Parameters saved\n",
      "Epoch: 0/15, Average loss: 406.0553\n",
      "Epoch: 1/15, Average loss: 286.5170\n",
      "Epoch: 2/15, Average loss: 245.0898\n",
      "Epoch: 3/15, Average loss: 228.9989\n",
      "Epoch: 4/15, Average loss: 220.7183\n",
      "Epoch: 5/15, Average loss: 215.8021\n",
      "Epoch: 6/15, Average loss: 212.7106\n",
      "Epoch: 7/15, Average loss: 210.7006\n",
      "Epoch: 8/15, Average loss: 209.3399\n",
      "Epoch: 9/15, Average loss: 208.4070\n",
      "Epoch: 10/15, Average loss: 207.7568\n",
      "Epoch: 11/15, Average loss: 207.2948\n",
      "Epoch: 12/15, Average loss: 206.9638\n",
      "Epoch: 13/15, Average loss: 206.7283\n",
      "Epoch: 14/15, Average loss: 206.5594\n",
      "Training completato e dati scritti su tensorboard\n",
      "Parameters saved\n",
      "Epoch: 0/15, Average loss: 406.0930\n",
      "Epoch: 1/15, Average loss: 286.7583\n",
      "Epoch: 2/15, Average loss: 245.0405\n",
      "Epoch: 3/15, Average loss: 228.9681\n",
      "Epoch: 4/15, Average loss: 220.7014\n",
      "Epoch: 5/15, Average loss: 215.8057\n",
      "Epoch: 6/15, Average loss: 212.7268\n",
      "Epoch: 7/15, Average loss: 210.7016\n",
      "Epoch: 8/15, Average loss: 209.3477\n",
      "Epoch: 9/15, Average loss: 208.4078\n",
      "Epoch: 10/15, Average loss: 207.7578\n",
      "Epoch: 11/15, Average loss: 207.2985\n",
      "Epoch: 12/15, Average loss: 206.9670\n",
      "Epoch: 13/15, Average loss: 206.7290\n",
      "Epoch: 14/15, Average loss: 206.5562\n",
      "Training completato e dati scritti su tensorboard\n",
      "Parameters saved\n"
     ]
    }
   ],
   "source": [
    "#### features = 8, g_model = log(2), epochs = 15, decrease_rate = 0.5, g_HFM per KL = log2, hidden layer = 2\n",
    "\n",
    "writer = SummaryWriter(log_dir='/Users/enricofrausin/Programmazione/PythonProjects/Fisica/Architetture/VAE/discrete/runs/prior_Categorical/MNIST/ld8_glog2_ep15_lmb1_dr05_gKLlog2_NL_2hl_0')\n",
    "my_model = VAE_priorCategorical(input_dim=input_dim, latent_dim=8, categorical_dim=2, decrease_rate=0.5, device=device, num_hidden_layers=2, LayerNorm=True).to(device)\n",
    "optimizer = optim.Adam(my_model.parameters(), lr=md.learning_rate)\n",
    "train(my_model, writer=writer, train_loader=train_loader, val_loader=val_loader, optimizer=optimizer, device=device, epochs=15, _lambda=1)\n",
    "torch.save(my_model.state_dict(), '/Users/enricofrausin/Programmazione/PythonProjects/Fisica/Architetture/VAE/discrete/models_parameters/priorCategorical/MNIST/ld8_glog2_ep15_lmb1_dr05_gKLlog2_NL_2hl_0.pth')\n",
    "print('Parameters saved')\n",
    "\n",
    "\n",
    "#### features = 8, g_model = log(2), epochs = 15, decrease_rate = 0.5, g_HFM per KL = log2, hidden layer = 3\n",
    "\n",
    "writer = SummaryWriter(log_dir='/Users/enricofrausin/Programmazione/PythonProjects/Fisica/Architetture/VAE/discrete/runs/prior_Categorical/MNIST/ld8_glog2_ep15_lmb1_dr05_gKLlog2_NL_3hl_0')\n",
    "my_model = VAE_priorCategorical(input_dim=input_dim, latent_dim=8, categorical_dim=2, decrease_rate=0.5, device=device, num_hidden_layers=3, LayerNorm=True).to(device)\n",
    "optimizer = optim.Adam(my_model.parameters(), lr=md.learning_rate)\n",
    "train(my_model, writer=writer, train_loader=train_loader, val_loader=val_loader, optimizer=optimizer, device=device, epochs=15, _lambda=1)\n",
    "torch.save(my_model.state_dict(), '/Users/enricofrausin/Programmazione/PythonProjects/Fisica/Architetture/VAE/discrete/models_parameters/priorCategorical/MNIST/ld8_glog2_ep15_lmb1_dr05_gKLlog2_NL_3hl_0.pth')\n",
    "print('Parameters saved')\n",
    "\n",
    "\n",
    "#### features = 8, g_model = log(2), epochs = 15, decrease_rate = 0.5, g_HFM per KL = log2, hidden layers = 4\n",
    "\n",
    "writer = SummaryWriter(log_dir='/Users/enricofrausin/Programmazione/PythonProjects/Fisica/Architetture/VAE/discrete/runs/prior_Categorical/MNIST/ld8_glog2_ep15_lmb1_dr05_gKLlog2_LN_4hl_0')\n",
    "my_model = VAE_priorCategorical(input_dim=input_dim, latent_dim=8, categorical_dim=2, decrease_rate=0.5, device=device, num_hidden_layers=4, LayerNorm=True).to(device)\n",
    "optimizer = optim.Adam(my_model.parameters(), lr=md.learning_rate)\n",
    "train(my_model, writer=writer, train_loader=train_loader, val_loader=val_loader, optimizer=optimizer, device=device, epochs=15, _lambda=1)\n",
    "torch.save(my_model.state_dict(), '/Users/enricofrausin/Programmazione/PythonProjects/Fisica/Architetture/VAE/discrete/models_parameters/priorCategorical/MNIST/ld8_glog2_ep15_lmb1_dr05_gKLlog2_LN_4hl_0.pth')\n",
    "print('Parameters saved')\n",
    "\n"
   ]
  },
  {
   "cell_type": "code",
   "execution_count": null,
   "id": "d78b5160",
   "metadata": {},
   "outputs": [
    {
     "name": "stdout",
     "output_type": "stream",
     "text": [
      "Epoch: 0/15, Average loss: 406.1312\n",
      "Epoch: 1/15, Average loss: 286.6929\n",
      "Epoch: 2/15, Average loss: 245.0724\n",
      "Epoch: 3/15, Average loss: 228.9505\n",
      "Epoch: 4/15, Average loss: 220.6820\n",
      "Epoch: 5/15, Average loss: 215.7933\n",
      "Epoch: 6/15, Average loss: 212.7011\n",
      "Epoch: 7/15, Average loss: 210.6946\n",
      "Epoch: 8/15, Average loss: 209.3343\n",
      "Epoch: 9/15, Average loss: 208.4053\n",
      "Epoch: 10/15, Average loss: 207.7541\n",
      "Epoch: 11/15, Average loss: 207.2952\n",
      "Epoch: 12/15, Average loss: 206.9622\n",
      "Epoch: 13/15, Average loss: 206.7289\n",
      "Epoch: 14/15, Average loss: 206.5564\n",
      "Training completato e dati scritti su tensorboard\n",
      "Parameters saved\n",
      "Epoch: 0/15, Average loss: 406.1138\n",
      "Epoch: 1/15, Average loss: 287.0436\n",
      "Epoch: 2/15, Average loss: 245.4392\n",
      "Epoch: 3/15, Average loss: 229.2813\n",
      "Epoch: 4/15, Average loss: 220.8981\n",
      "Epoch: 5/15, Average loss: 215.9010\n",
      "Epoch: 6/15, Average loss: 212.7603\n",
      "Epoch: 7/15, Average loss: 210.7333\n",
      "Epoch: 8/15, Average loss: 209.3567\n",
      "Epoch: 9/15, Average loss: 208.4134\n",
      "Epoch: 10/15, Average loss: 207.7604\n",
      "Epoch: 11/15, Average loss: 207.2899\n",
      "Epoch: 12/15, Average loss: 206.9614\n",
      "Epoch: 13/15, Average loss: 206.7287\n",
      "Epoch: 14/15, Average loss: 206.5513\n",
      "Training completato e dati scritti su tensorboard\n",
      "Parameters saved\n"
     ]
    }
   ],
   "source": [
    "\n"
   ]
  },
  {
   "cell_type": "code",
   "execution_count": null,
   "id": "8f39bd31",
   "metadata": {},
   "outputs": [
    {
     "name": "stdout",
     "output_type": "stream",
     "text": [
      "Epoch: 0/15, Average loss: 395.7954\n",
      "Epoch: 1/15, Average loss: 273.6304\n",
      "Epoch: 2/15, Average loss: 224.9896\n",
      "Epoch: 3/15, Average loss: 197.5184\n",
      "Epoch: 4/15, Average loss: 177.4550\n",
      "Epoch: 5/15, Average loss: 163.1144\n",
      "Epoch: 6/15, Average loss: 153.2959\n",
      "Epoch: 7/15, Average loss: 146.2907\n",
      "Epoch: 8/15, Average loss: 141.3657\n",
      "Epoch: 9/15, Average loss: 137.5538\n",
      "Epoch: 10/15, Average loss: 134.8549\n",
      "Epoch: 11/15, Average loss: 132.4067\n",
      "Epoch: 12/15, Average loss: 130.7438\n",
      "Epoch: 13/15, Average loss: 129.3027\n",
      "Epoch: 14/15, Average loss: 127.9742\n",
      "Training completato e dati scritti su tensorboard\n",
      "Parameters saved\n",
      "Epoch: 0/15, Average loss: 404.6317\n",
      "Epoch: 1/15, Average loss: 286.6195\n",
      "Epoch: 2/15, Average loss: 245.0425\n",
      "Epoch: 3/15, Average loss: 228.9936\n",
      "Epoch: 4/15, Average loss: 220.7149\n",
      "Epoch: 5/15, Average loss: 215.8072\n",
      "Epoch: 6/15, Average loss: 212.7196\n",
      "Epoch: 7/15, Average loss: 210.7017\n",
      "Epoch: 8/15, Average loss: 209.3442\n",
      "Epoch: 9/15, Average loss: 208.4157\n",
      "Epoch: 10/15, Average loss: 207.7630\n",
      "Epoch: 11/15, Average loss: 207.2950\n",
      "Epoch: 12/15, Average loss: 206.9689\n",
      "Epoch: 13/15, Average loss: 206.7273\n",
      "Epoch: 14/15, Average loss: 206.5598\n",
      "Training completato e dati scritti su tensorboard\n",
      "Parameters saved\n"
     ]
    }
   ],
   "source": [
    "\n",
    "#### features = 8, g_model = log(2), epochs = 15, decrease_rate = 0.55, g_HFM per KL = log2, hidden layers = 5\n",
    "\n",
    "writer = SummaryWriter(log_dir='/Users/enricofrausin/Programmazione/PythonProjects/Fisica/Architetture/VAE/discrete/runs/prior_Categorical/MNIST/ld8_glog2_ep15_lmb01_dr055_gKLlog2_NL_5hl_0')\n",
    "my_model = VAE_priorCategorical(input_dim=input_dim, latent_dim=8, categorical_dim=2, decrease_rate=0.55, device=device, num_hidden_layers=5, LayerNorm=True).to(device)\n",
    "optimizer = optim.Adam(my_model.parameters(), lr=md.learning_rate)\n",
    "train(my_model, writer=writer, train_loader=train_loader, val_loader=val_loader, optimizer=optimizer, device=device, epochs=15, _lambda=0.1)\n",
    "torch.save(my_model.state_dict(), '/Users/enricofrausin/Programmazione/PythonProjects/Fisica/Architetture/VAE/discrete/models_parameters/priorCategorical/MNIST/ld8_glog2_ep15_lmb01_dr055_gKLlog2_NL_5hl_0.pth')\n",
    "print('Parameters saved')\n"
   ]
  },
  {
   "cell_type": "code",
   "execution_count": 23,
   "id": "d7fc8e5c",
   "metadata": {},
   "outputs": [
    {
     "name": "stdout",
     "output_type": "stream",
     "text": [
      "Epoch: 0/15, Average loss: 398.0999\n",
      "Epoch: 1/15, Average loss: 274.7463\n",
      "Epoch: 2/15, Average loss: 225.8005\n",
      "Epoch: 3/15, Average loss: 198.8731\n",
      "Epoch: 4/15, Average loss: 178.7910\n",
      "Epoch: 5/15, Average loss: 164.1575\n",
      "Epoch: 6/15, Average loss: 154.1215\n",
      "Epoch: 7/15, Average loss: 147.2208\n",
      "Epoch: 8/15, Average loss: 142.1926\n",
      "Epoch: 9/15, Average loss: 138.4858\n",
      "Epoch: 10/15, Average loss: 135.6056\n",
      "Epoch: 11/15, Average loss: 133.4099\n",
      "Epoch: 12/15, Average loss: 131.6860\n",
      "Epoch: 13/15, Average loss: 130.0864\n",
      "Epoch: 14/15, Average loss: 128.7931\n",
      "Training completato e dati scritti su tensorboard\n",
      "Parameters saved\n"
     ]
    }
   ],
   "source": [
    "\n",
    "#### features = 8, g_model = log(2), epochs = 15, decrease_rate = 0.6, g_HFM per KL = log2, hidden layers = 6\n",
    "\n",
    "writer = SummaryWriter(log_dir='/Users/enricofrausin/Programmazione/PythonProjects/Fisica/Architetture/VAE/discrete/runs/prior_Categorical/MNIST/ld8_glog2_ep15_lmb01_dr06_gKLlog2_NL_6hl_0')\n",
    "my_model = VAE_priorCategorical(input_dim=input_dim, latent_dim=8, categorical_dim=2, decrease_rate=0.6, device=device, num_hidden_layers=6, LayerNorm=True).to(device)\n",
    "optimizer = optim.Adam(my_model.parameters(), lr=md.learning_rate)\n",
    "train(my_model, writer=writer, train_loader=train_loader, val_loader=val_loader, optimizer=optimizer, device=device, epochs=15, _lambda=0.1)\n",
    "torch.save(my_model.state_dict(), '/Users/enricofrausin/Programmazione/PythonProjects/Fisica/Architetture/VAE/discrete/models_parameters/priorCategorical/MNIST/ld8_glog2_ep15_lmb01_dr06_gKLlog2_NL_6hl_0.pth')\n",
    "print('Parameters saved')"
   ]
  },
  {
   "cell_type": "markdown",
   "id": "6b384a81",
   "metadata": {},
   "source": [
    "## train over pureHFM"
   ]
  },
  {
   "cell_type": "code",
   "execution_count": 4,
   "id": "57784a96",
   "metadata": {},
   "outputs": [],
   "source": [
    "train_loader = train_loader_pureHFM\n",
    "val_loader = val_loader_pureHFM\n",
    "input_dim = 512"
   ]
  },
  {
   "cell_type": "markdown",
   "id": "6ada8b8f",
   "metadata": {},
   "source": [
    "## train over expandedHFM"
   ]
  },
  {
   "cell_type": "code",
   "execution_count": 5,
   "id": "c005f05b",
   "metadata": {},
   "outputs": [],
   "source": [
    "train_loader = train_loader_expandedHFM\n",
    "val_loader = val_loader_expandedHFM\n",
    "input_dim = 1024"
   ]
  },
  {
   "cell_type": "markdown",
   "id": "b19a2b00",
   "metadata": {},
   "source": [
    "# Prior HFM"
   ]
  },
  {
   "cell_type": "markdown",
   "id": "87ee7b08",
   "metadata": {},
   "source": [
    "## train over MNIST"
   ]
  },
  {
   "cell_type": "code",
   "execution_count": null,
   "id": "1a97c660",
   "metadata": {},
   "outputs": [],
   "source": [
    "train_loader = train_loader_MNIST\n",
    "val_loader = val_loader_MNIST\n",
    "input_dim = 784"
   ]
  },
  {
   "cell_type": "markdown",
   "id": "e75ebb4a",
   "metadata": {},
   "source": [
    "### latent_dim = 12\n"
   ]
  },
  {
   "cell_type": "markdown",
   "id": "b1505e8f",
   "metadata": {},
   "source": [
    "\n",
    "#### features = 12, g_model = log(2), epochs = 15, decrease_rate = 0.5, g_HFM per KL = log2, hidden layer = 1\n"
   ]
  },
  {
   "cell_type": "code",
   "execution_count": 13,
   "id": "d20a552c",
   "metadata": {},
   "outputs": [
    {
     "name": "stdout",
     "output_type": "stream",
     "text": [
      "Epoch: 0/15, Average loss: 381.2235\n",
      "Epoch: 1/15, Average loss: 267.2092\n",
      "Epoch: 2/15, Average loss: 217.5806\n",
      "Epoch: 3/15, Average loss: 188.0966\n",
      "Epoch: 4/15, Average loss: 167.0413\n",
      "Epoch: 5/15, Average loss: 152.4087\n",
      "Epoch: 6/15, Average loss: 142.3722\n",
      "Epoch: 7/15, Average loss: 135.2797\n",
      "Epoch: 8/15, Average loss: 129.9808\n",
      "Epoch: 9/15, Average loss: 125.8942\n",
      "Epoch: 10/15, Average loss: 122.6558\n",
      "Epoch: 11/15, Average loss: 119.9359\n",
      "Epoch: 12/15, Average loss: 117.7380\n",
      "Epoch: 13/15, Average loss: 115.8091\n",
      "Epoch: 14/15, Average loss: 114.0555\n",
      "Training completato e dati scritti su tensorboard\n",
      "Parameters saved\n"
     ]
    }
   ],
   "source": [
    "\n",
    "\n",
    "writer = SummaryWriter(log_dir='/Users/enricofrausin/Programmazione/PythonProjects/Fisica/runs/discrete_VAE/prior_HFM/MNIST/ld12_glog2_ep7_lmb01_dr05_gKLlog2_LN_1hl_0')\n",
    "my_model = VAE_priorHFM(input_dim=input_dim, latent_dim=12, g=np.log(2), decrease_rate=0.5, device=device, num_hidden_layers=1, LayerNorm=True).to(device)\n",
    "optimizer = optim.Adam(my_model.parameters(), lr=md.learning_rate)\n",
    "train(my_model, _lambda=0.1, writer=writer, train_loader=train_loader, val_loader=val_loader, optimizer=optimizer, device=device, epochs=15, calculate_KL_HFM=True)\n",
    "torch.save(my_model.state_dict(), '/Users/enricofrausin/Programmazione/PythonProjects/Fisica/Architetture/VAE/discrete/models_parameters/priorHFM/MNIST/ld12_glog2_ep7_lmb01_dr05_gKLlog2_LN_1hl_0.pth')\n",
    "print('Parameters saved')\n"
   ]
  },
  {
   "cell_type": "markdown",
   "id": "ee27ae24",
   "metadata": {},
   "source": [
    "\n",
    "\n",
    "#### features = 10, g_model = log(2), epochs = 15, decrease_rate = 0.5, g_HFM per KL = log2, hidden layer = 2\n"
   ]
  },
  {
   "cell_type": "code",
   "execution_count": null,
   "id": "d40d9ab4",
   "metadata": {},
   "outputs": [
    {
     "name": "stdout",
     "output_type": "stream",
     "text": [
      "Epoch: 0/15, Average loss: 384.0407\n",
      "Epoch: 1/15, Average loss: 267.2638\n",
      "Epoch: 2/15, Average loss: 217.0715\n",
      "Epoch: 3/15, Average loss: 187.1329\n",
      "Epoch: 4/15, Average loss: 165.7336\n",
      "Epoch: 5/15, Average loss: 151.0280\n",
      "Epoch: 6/15, Average loss: 140.8218\n",
      "Epoch: 7/15, Average loss: 133.6518\n",
      "Epoch: 8/15, Average loss: 128.1828\n",
      "Epoch: 9/15, Average loss: 124.1656\n",
      "Epoch: 10/15, Average loss: 120.9789\n",
      "Epoch: 11/15, Average loss: 118.3214\n",
      "Epoch: 12/15, Average loss: 116.1554\n",
      "Epoch: 13/15, Average loss: 114.2890\n",
      "Epoch: 14/15, Average loss: 112.6553\n",
      "Training completato e dati scritti su tensorboard\n",
      "Parameters saved\n"
     ]
    }
   ],
   "source": [
    "writer = SummaryWriter(log_dir='/Users/enricofrausin/Programmazione/PythonProjects/Fisica/runs/discrete_VAE/prior_HFM/MNIST/ld12_glog2_ep15_lmb01_dr05_gKLlog2_NL_2hl_0')\n",
    "my_model = VAE_priorHFM(input_dim=input_dim, latent_dim=12, g=np.log(2), decrease_rate=0.5, device=device, num_hidden_layers=2, LayerNorm=True).to(device)\n",
    "optimizer = optim.Adam(my_model.parameters(), lr=md.learning_rate)\n",
    "train(my_model, _lambda=0.1, writer=writer, train_loader=train_loader, val_loader=val_loader, optimizer=optimizer, device=device, epochs=15, calculate_KL_HFM=True)\n",
    "torch.save(my_model.state_dict(), '/Users/enricofrausin/Programmazione/PythonProjects/Fisica/Architetture/VAE/discrete/models_parameters/priorHFM/MNIST/ld12_glog2_ep15_lmb01_dr05_gKLlog2_NL_2hl_0.pth')\n",
    "print('Parameters saved')"
   ]
  },
  {
   "cell_type": "markdown",
   "id": "acd61d5b",
   "metadata": {},
   "source": [
    "#### features = 12, g_model = log(2), epochs = 15, decrease_rate = 0.5, g_HFM per KL = log2, hidden layer = 3\n"
   ]
  },
  {
   "cell_type": "code",
   "execution_count": 15,
   "id": "5ce8fb73",
   "metadata": {},
   "outputs": [
    {
     "name": "stdout",
     "output_type": "stream",
     "text": [
      "Epoch: 0/15, Average loss: 388.0177\n",
      "Epoch: 1/15, Average loss: 268.3313\n",
      "Epoch: 2/15, Average loss: 218.4126\n",
      "Epoch: 3/15, Average loss: 188.6445\n",
      "Epoch: 4/15, Average loss: 167.0999\n",
      "Epoch: 5/15, Average loss: 152.2866\n",
      "Epoch: 6/15, Average loss: 141.9315\n",
      "Epoch: 7/15, Average loss: 134.4886\n",
      "Epoch: 8/15, Average loss: 129.2678\n",
      "Epoch: 9/15, Average loss: 125.2033\n",
      "Epoch: 10/15, Average loss: 122.0196\n",
      "Epoch: 11/15, Average loss: 119.5765\n",
      "Epoch: 12/15, Average loss: 117.3921\n",
      "Epoch: 13/15, Average loss: 115.6194\n",
      "Epoch: 14/15, Average loss: 114.1646\n",
      "Training completato e dati scritti su tensorboard\n",
      "Parameters saved\n"
     ]
    }
   ],
   "source": [
    "writer = SummaryWriter(log_dir='/Users/enricofrausin/Programmazione/PythonProjects/Fisica/runs/discrete_VAE/prior_HFM/MNIST/ld12_glog2_ep15_lmb01_dr05_gKLlog2_NL_3hl_0')\n",
    "my_model = VAE_priorHFM(input_dim=input_dim, latent_dim=12, g=np.log(2), decrease_rate=0.5, device=device, num_hidden_layers=3, LayerNorm=True).to(device)\n",
    "optimizer = optim.Adam(my_model.parameters(), lr=md.learning_rate)\n",
    "train(my_model, _lambda=0.1, writer=writer, train_loader=train_loader, val_loader=val_loader, optimizer=optimizer, device=device, epochs=15, calculate_KL_HFM=True)\n",
    "torch.save(my_model.state_dict(), '/Users/enricofrausin/Programmazione/PythonProjects/Fisica/Architetture/VAE/discrete/models_parameters/priorHFM/MNIST/ld12_glog2_ep15_lmb01_dr05_gKLlog2_NL_3hl_0.pth')\n",
    "print('Parameters saved')\n"
   ]
  },
  {
   "cell_type": "markdown",
   "id": "9a1efe33",
   "metadata": {},
   "source": [
    "#### features = 12, g_model = log(2), epochs = 15, decrease_rate = 0.5, g_HFM per KL = log2, hidden layers = 4\n"
   ]
  },
  {
   "cell_type": "code",
   "execution_count": 16,
   "id": "173f34aa",
   "metadata": {},
   "outputs": [
    {
     "name": "stdout",
     "output_type": "stream",
     "text": [
      "Epoch: 0/15, Average loss: 393.6342\n",
      "Epoch: 1/15, Average loss: 269.6998\n",
      "Epoch: 2/15, Average loss: 219.6953\n",
      "Epoch: 3/15, Average loss: 190.3475\n",
      "Epoch: 4/15, Average loss: 169.2802\n",
      "Epoch: 5/15, Average loss: 154.4133\n",
      "Epoch: 6/15, Average loss: 144.3866\n",
      "Epoch: 7/15, Average loss: 137.1287\n",
      "Epoch: 8/15, Average loss: 132.0503\n",
      "Epoch: 9/15, Average loss: 128.1275\n",
      "Epoch: 10/15, Average loss: 125.1531\n",
      "Epoch: 11/15, Average loss: 122.7621\n",
      "Epoch: 12/15, Average loss: 121.0150\n",
      "Epoch: 13/15, Average loss: 119.3108\n",
      "Epoch: 14/15, Average loss: 118.1421\n",
      "Training completato e dati scritti su tensorboard\n",
      "Parameters saved\n"
     ]
    }
   ],
   "source": [
    "writer = SummaryWriter(log_dir='/Users/enricofrausin/Programmazione/PythonProjects/Fisica/runs/discrete_VAE/prior_HFM/MNIST/ld12_glog2_ep15_lmb01_dr05_gKLlog2_LN_4hl_0')\n",
    "my_model = VAE_priorHFM(input_dim=input_dim, latent_dim=12, g=np.log(2), decrease_rate=0.5, device=device, num_hidden_layers=4, LayerNorm=True).to(device)\n",
    "optimizer = optim.Adam(my_model.parameters(), lr=md.learning_rate)\n",
    "train(my_model, _lambda=0.1, writer=writer, train_loader=train_loader, val_loader=val_loader, optimizer=optimizer, device=device, epochs=15, calculate_KL_HFM=True)\n",
    "torch.save(my_model.state_dict(), '/Users/enricofrausin/Programmazione/PythonProjects/Fisica/Architetture/VAE/discrete/models_parameters/priorHFM/MNIST/ld12_glog2_ep15_lmb01_dr05_gKLlog2_LN_4hl_0.pth')\n",
    "print('Parameters saved')\n"
   ]
  },
  {
   "cell_type": "markdown",
   "id": "919bd709",
   "metadata": {},
   "source": [
    "#### features = 12, g_model = log(2), epochs = 15, decrease_rate = 0.55, g_HFM per KL = log2, hidden layers = 5\n"
   ]
  },
  {
   "cell_type": "code",
   "execution_count": 17,
   "id": "9162f318",
   "metadata": {},
   "outputs": [
    {
     "name": "stdout",
     "output_type": "stream",
     "text": [
      "Epoch: 0/15, Average loss: 395.5249\n",
      "Epoch: 1/15, Average loss: 272.2222\n",
      "Epoch: 2/15, Average loss: 222.2275\n",
      "Epoch: 3/15, Average loss: 193.0322\n",
      "Epoch: 4/15, Average loss: 171.9084\n",
      "Epoch: 5/15, Average loss: 156.9654\n",
      "Epoch: 6/15, Average loss: 146.6863\n",
      "Epoch: 7/15, Average loss: 139.2100\n",
      "Epoch: 8/15, Average loss: 134.0216\n",
      "Epoch: 9/15, Average loss: 129.9386\n",
      "Epoch: 10/15, Average loss: 126.7252\n",
      "Epoch: 11/15, Average loss: 124.2133\n",
      "Epoch: 12/15, Average loss: 122.3124\n",
      "Epoch: 13/15, Average loss: 120.6604\n",
      "Epoch: 14/15, Average loss: 119.1750\n",
      "Training completato e dati scritti su tensorboard\n",
      "Parameters saved\n"
     ]
    }
   ],
   "source": [
    "writer = SummaryWriter(log_dir='/Users/enricofrausin/Programmazione/PythonProjects/Fisica/runs/discrete_VAE/prior_HFM/MNIST/ld12_glog2_ep15_lmb01_dr055_gKLlog2_NL_5hl_0')\n",
    "my_model = VAE_priorHFM(input_dim=input_dim, latent_dim=12, g=np.log(2), decrease_rate=0.55, device=device, num_hidden_layers=5, LayerNorm=True).to(device)\n",
    "optimizer = optim.Adam(my_model.parameters(), lr=md.learning_rate)\n",
    "train(my_model, _lambda=0.1, writer=writer, train_loader=train_loader, val_loader=val_loader, optimizer=optimizer, device=device, epochs=15, calculate_KL_HFM=True)\n",
    "torch.save(my_model.state_dict(), '/Users/enricofrausin/Programmazione/PythonProjects/Fisica/Architetture/VAE/discrete/models_parameters/priorHFM/MNIST/ld12_glog2_ep15_lmb01_dr055_gKLlog2_NL_5hl_0.pth')\n",
    "print('Parameters saved')\n"
   ]
  },
  {
   "cell_type": "markdown",
   "id": "55a280e4",
   "metadata": {},
   "source": [
    "#### features = 12, g_model = log(2), epochs = 15, decrease_rate = 0.6, g_HFM per KL = log2, hidden layers = 6\n"
   ]
  },
  {
   "cell_type": "code",
   "execution_count": 18,
   "id": "dc004937",
   "metadata": {},
   "outputs": [
    {
     "name": "stdout",
     "output_type": "stream",
     "text": [
      "Epoch: 0/15, Average loss: 401.8110\n",
      "Epoch: 1/15, Average loss: 276.7550\n",
      "Epoch: 2/15, Average loss: 227.4809\n",
      "Epoch: 3/15, Average loss: 199.2246\n",
      "Epoch: 4/15, Average loss: 177.7921\n",
      "Epoch: 5/15, Average loss: 162.2182\n",
      "Epoch: 6/15, Average loss: 151.3351\n",
      "Epoch: 7/15, Average loss: 143.7801\n",
      "Epoch: 8/15, Average loss: 138.3514\n",
      "Epoch: 9/15, Average loss: 134.4793\n",
      "Epoch: 10/15, Average loss: 131.3795\n",
      "Epoch: 11/15, Average loss: 129.0269\n",
      "Epoch: 12/15, Average loss: 127.2262\n",
      "Epoch: 13/15, Average loss: 125.5772\n",
      "Epoch: 14/15, Average loss: 124.3121\n",
      "Training completato e dati scritti su tensorboard\n",
      "Parameters saved\n"
     ]
    }
   ],
   "source": [
    "\n",
    "\n",
    "writer = SummaryWriter(log_dir='/Users/enricofrausin/Programmazione/PythonProjects/Fisica/runs/discrete_VAE/prior_HFM/MNIST/ld12_glog2_ep15_lmb01_dr06_gKLlog2_NL_6hl_0')\n",
    "my_model = VAE_priorHFM(input_dim=input_dim, latent_dim=12, g=np.log(2), decrease_rate=0.6, device=device, num_hidden_layers=6, LayerNorm=True).to(device)\n",
    "optimizer = optim.Adam(my_model.parameters(), lr=md.learning_rate)\n",
    "train(my_model, _lambda=0.1, writer=writer, train_loader=train_loader, val_loader=val_loader, optimizer=optimizer, device=device, epochs=15, calculate_KL_HFM=True)\n",
    "torch.save(my_model.state_dict(), '/Users/enricofrausin/Programmazione/PythonProjects/Fisica/Architetture/VAE/discrete/models_parameters/priorHFM/MNIST/ld12_glog2_ep15_lmb01_dr06_gKLlog2_NL_6hl_0.pth')\n",
    "print('Parameters saved')"
   ]
  },
  {
   "cell_type": "markdown",
   "id": "c2367c38",
   "metadata": {},
   "source": [
    "### latent_dim = 6\n"
   ]
  },
  {
   "cell_type": "markdown",
   "id": "a33e3b15",
   "metadata": {},
   "source": [
    "\n",
    "#### features = 6, g_model = log(2), epochs = 15, decrease_rate = 0.5, g_HFM per KL = log2, hidden layer = 1\n"
   ]
  },
  {
   "cell_type": "code",
   "execution_count": 7,
   "id": "0f139778",
   "metadata": {},
   "outputs": [
    {
     "name": "stdout",
     "output_type": "stream",
     "text": [
      "Epoch: 0/15, Average loss: 387.0440\n",
      "Epoch: 1/15, Average loss: 272.8479\n",
      "Epoch: 2/15, Average loss: 225.5189\n",
      "Epoch: 3/15, Average loss: 199.2283\n",
      "Epoch: 4/15, Average loss: 180.2615\n",
      "Epoch: 5/15, Average loss: 166.6176\n",
      "Epoch: 6/15, Average loss: 156.7113\n",
      "Epoch: 7/15, Average loss: 149.4788\n",
      "Epoch: 8/15, Average loss: 144.0979\n",
      "Epoch: 9/15, Average loss: 140.0381\n",
      "Epoch: 10/15, Average loss: 136.9199\n",
      "Epoch: 11/15, Average loss: 134.4511\n",
      "Epoch: 12/15, Average loss: 132.6279\n",
      "Epoch: 13/15, Average loss: 131.0840\n",
      "Epoch: 14/15, Average loss: 130.0151\n",
      "Training completato e dati scritti su tensorboard\n",
      "Parameters saved\n"
     ]
    }
   ],
   "source": [
    "\n",
    "\n",
    "writer = SummaryWriter(log_dir='/Users/enricofrausin/Programmazione/PythonProjects/Fisica/runs/discrete_VAE/prior_HFM/MNIST/ld6_glog2_ep7_lmb01_dr05_gKLlog2_LN_1hl_0')\n",
    "my_model = VAE_priorHFM(input_dim=input_dim, latent_dim=6, g=np.log(2), decrease_rate=0.5, device=device, num_hidden_layers=1, LayerNorm=True).to(device)\n",
    "optimizer = optim.Adam(my_model.parameters(), lr=md.learning_rate)\n",
    "train(my_model, _lambda=0.1, writer=writer, train_loader=train_loader, val_loader=val_loader, optimizer=optimizer, device=device, epochs=15, calculate_KL_HFM=True)\n",
    "torch.save(my_model.state_dict(), '/Users/enricofrausin/Programmazione/PythonProjects/Fisica/Architetture/VAE/discrete/models_parameters/priorHFM/MNIST/ld6_glog2_ep7_lmb01_dr05_gKLlog2_LN_1hl_0.pth')\n",
    "print('Parameters saved')\n"
   ]
  },
  {
   "cell_type": "markdown",
   "id": "683b1a6b",
   "metadata": {},
   "source": [
    "\n",
    "\n",
    "#### features = 6, g_model = log(2), epochs = 15, decrease_rate = 0.5, g_HFM per KL = log2, hidden layer = 2\n"
   ]
  },
  {
   "cell_type": "code",
   "execution_count": 8,
   "id": "e517a09f",
   "metadata": {},
   "outputs": [
    {
     "name": "stdout",
     "output_type": "stream",
     "text": [
      "Epoch: 0/15, Average loss: 387.5959\n",
      "Epoch: 1/15, Average loss: 272.1826\n",
      "Epoch: 2/15, Average loss: 224.7308\n",
      "Epoch: 3/15, Average loss: 197.6505\n",
      "Epoch: 4/15, Average loss: 177.7356\n",
      "Epoch: 5/15, Average loss: 163.1281\n",
      "Epoch: 6/15, Average loss: 152.7592\n",
      "Epoch: 7/15, Average loss: 145.3947\n",
      "Epoch: 8/15, Average loss: 139.8405\n",
      "Epoch: 9/15, Average loss: 135.6575\n",
      "Epoch: 10/15, Average loss: 132.5980\n",
      "Epoch: 11/15, Average loss: 130.0530\n",
      "Epoch: 12/15, Average loss: 128.1629\n",
      "Epoch: 13/15, Average loss: 126.4687\n",
      "Epoch: 14/15, Average loss: 125.1941\n",
      "Training completato e dati scritti su tensorboard\n",
      "Parameters saved\n"
     ]
    }
   ],
   "source": [
    "writer = SummaryWriter(log_dir='/Users/enricofrausin/Programmazione/PythonProjects/Fisica/runs/discrete_VAE/prior_HFM/MNIST/ld6_glog2_ep15_lmb01_dr05_gKLlog2_NL_2hl_0')\n",
    "my_model = VAE_priorHFM(input_dim=input_dim, latent_dim=6, g=np.log(2), decrease_rate=0.5, device=device, num_hidden_layers=2, LayerNorm=True).to(device)\n",
    "optimizer = optim.Adam(my_model.parameters(), lr=md.learning_rate)\n",
    "train(my_model, _lambda=0.1, writer=writer, train_loader=train_loader, val_loader=val_loader, optimizer=optimizer, device=device, epochs=15, calculate_KL_HFM=True)\n",
    "torch.save(my_model.state_dict(), '/Users/enricofrausin/Programmazione/PythonProjects/Fisica/Architetture/VAE/discrete/models_parameters/priorHFM/MNIST/ld6_glog2_ep15_lmb01_dr05_gKLlog2_NL_2hl_0.pth')\n",
    "print('Parameters saved')\n"
   ]
  },
  {
   "cell_type": "markdown",
   "id": "b36161cf",
   "metadata": {},
   "source": [
    "\n",
    "#### features = 6, g_model = log(2), epochs = 15, decrease_rate = 0.5, g_HFM per KL = log2, hidden layer = 3\n"
   ]
  },
  {
   "cell_type": "code",
   "execution_count": 9,
   "id": "c1d765a9",
   "metadata": {},
   "outputs": [
    {
     "name": "stdout",
     "output_type": "stream",
     "text": [
      "Epoch: 0/15, Average loss: 389.2973\n",
      "Epoch: 1/15, Average loss: 272.2578\n",
      "Epoch: 2/15, Average loss: 224.7092\n",
      "Epoch: 3/15, Average loss: 197.7860\n",
      "Epoch: 4/15, Average loss: 178.3064\n",
      "Epoch: 5/15, Average loss: 163.9842\n",
      "Epoch: 6/15, Average loss: 153.8460\n",
      "Epoch: 7/15, Average loss: 146.4737\n",
      "Epoch: 8/15, Average loss: 141.0582\n",
      "Epoch: 9/15, Average loss: 137.0902\n",
      "Epoch: 10/15, Average loss: 133.8126\n",
      "Epoch: 11/15, Average loss: 131.3879\n",
      "Epoch: 12/15, Average loss: 129.5232\n",
      "Epoch: 13/15, Average loss: 127.8610\n",
      "Epoch: 14/15, Average loss: 126.6031\n",
      "Training completato e dati scritti su tensorboard\n",
      "Parameters saved\n"
     ]
    }
   ],
   "source": [
    "\n",
    "writer = SummaryWriter(log_dir='/Users/enricofrausin/Programmazione/PythonProjects/Fisica/runs/discrete_VAE/prior_HFM/MNIST/ld6_glog2_ep15_lmb01_dr05_gKLlog2_NL_3hl_0')\n",
    "my_model = VAE_priorHFM(input_dim=input_dim, latent_dim=6, g=np.log(2), decrease_rate=0.5, device=device, num_hidden_layers=3, LayerNorm=True).to(device)\n",
    "optimizer = optim.Adam(my_model.parameters(), lr=md.learning_rate)\n",
    "train(my_model, _lambda=0.1, writer=writer, train_loader=train_loader, val_loader=val_loader, optimizer=optimizer, device=device, epochs=15, calculate_KL_HFM=True)\n",
    "torch.save(my_model.state_dict(), '/Users/enricofrausin/Programmazione/PythonProjects/Fisica/Architetture/VAE/discrete/models_parameters/priorHFM/MNIST/ld6_glog2_ep15_lmb01_dr05_gKLlog2_NL_3hl_0.pth')\n",
    "print('Parameters saved')\n",
    "\n"
   ]
  },
  {
   "cell_type": "markdown",
   "id": "aeac66cf",
   "metadata": {},
   "source": [
    "#### features = 6, g_model = log(2), epochs = 15, decrease_rate = 0.5, g_HFM per KL = log2, hidden layers = 4\n"
   ]
  },
  {
   "cell_type": "code",
   "execution_count": 10,
   "id": "a1252379",
   "metadata": {},
   "outputs": [
    {
     "name": "stdout",
     "output_type": "stream",
     "text": [
      "Epoch: 0/15, Average loss: 396.3191\n",
      "Epoch: 1/15, Average loss: 272.8376\n",
      "Epoch: 2/15, Average loss: 224.6855\n",
      "Epoch: 3/15, Average loss: 197.7511\n",
      "Epoch: 4/15, Average loss: 178.2524\n",
      "Epoch: 5/15, Average loss: 164.3228\n",
      "Epoch: 6/15, Average loss: 154.5431\n",
      "Epoch: 7/15, Average loss: 147.5874\n",
      "Epoch: 8/15, Average loss: 142.6433\n",
      "Epoch: 9/15, Average loss: 138.8007\n",
      "Epoch: 10/15, Average loss: 136.0297\n",
      "Epoch: 11/15, Average loss: 133.7757\n",
      "Epoch: 12/15, Average loss: 132.2615\n",
      "Epoch: 13/15, Average loss: 130.5843\n",
      "Epoch: 14/15, Average loss: 129.4097\n",
      "Training completato e dati scritti su tensorboard\n",
      "Parameters saved\n"
     ]
    }
   ],
   "source": [
    "\n",
    "writer = SummaryWriter(log_dir='/Users/enricofrausin/Programmazione/PythonProjects/Fisica/runs/discrete_VAE/prior_HFM/MNIST/ld6_glog2_ep15_lmb01_dr05_gKLlog2_LN_4hl_0')\n",
    "my_model = VAE_priorHFM(input_dim=input_dim, latent_dim=6, g=np.log(2), decrease_rate=0.5, device=device, num_hidden_layers=4, LayerNorm=True).to(device)\n",
    "optimizer = optim.Adam(my_model.parameters(), lr=md.learning_rate)\n",
    "train(my_model, _lambda=0.1, writer=writer, train_loader=train_loader, val_loader=val_loader, optimizer=optimizer, device=device, epochs=15, calculate_KL_HFM=True)\n",
    "torch.save(my_model.state_dict(), '/Users/enricofrausin/Programmazione/PythonProjects/Fisica/Architetture/VAE/discrete/models_parameters/priorHFM/MNIST/ld6_glog2_ep15_lmb01_dr05_gKLlog2_LN_4hl_0.pth')\n",
    "print('Parameters saved')\n"
   ]
  },
  {
   "cell_type": "markdown",
   "id": "d2a97cbc",
   "metadata": {},
   "source": [
    "#### features = 6, g_model = log(2), epochs = 15, decrease_rate = 0.55, g_HFM per KL = log2, hidden layers = 5\n"
   ]
  },
  {
   "cell_type": "code",
   "execution_count": 11,
   "id": "316bfc2f",
   "metadata": {},
   "outputs": [
    {
     "name": "stdout",
     "output_type": "stream",
     "text": [
      "Epoch: 0/15, Average loss: 394.5280\n",
      "Epoch: 1/15, Average loss: 274.2076\n",
      "Epoch: 2/15, Average loss: 226.2545\n",
      "Epoch: 3/15, Average loss: 199.6100\n",
      "Epoch: 4/15, Average loss: 180.4173\n",
      "Epoch: 5/15, Average loss: 166.7032\n",
      "Epoch: 6/15, Average loss: 157.1782\n",
      "Epoch: 7/15, Average loss: 150.2692\n",
      "Epoch: 8/15, Average loss: 145.1395\n",
      "Epoch: 9/15, Average loss: 141.3832\n",
      "Epoch: 10/15, Average loss: 138.5214\n",
      "Epoch: 11/15, Average loss: 136.2802\n",
      "Epoch: 12/15, Average loss: 134.5237\n",
      "Epoch: 13/15, Average loss: 133.1168\n",
      "Epoch: 14/15, Average loss: 132.0541\n",
      "Training completato e dati scritti su tensorboard\n",
      "Parameters saved\n"
     ]
    }
   ],
   "source": [
    "\n",
    "\n",
    "writer = SummaryWriter(log_dir='/Users/enricofrausin/Programmazione/PythonProjects/Fisica/runs/discrete_VAE/prior_HFM/MNIST/ld6_glog2_ep15_lmb01_dr055_gKLlog2_NL_5hl_0')\n",
    "my_model = VAE_priorHFM(input_dim=input_dim, latent_dim=6, g=np.log(2), decrease_rate=0.55, device=device, num_hidden_layers=5, LayerNorm=True).to(device)\n",
    "optimizer = optim.Adam(my_model.parameters(), lr=md.learning_rate)\n",
    "train(my_model, _lambda=0.1, writer=writer, train_loader=train_loader, val_loader=val_loader, optimizer=optimizer, device=device, epochs=15, calculate_KL_HFM=True)\n",
    "torch.save(my_model.state_dict(), '/Users/enricofrausin/Programmazione/PythonProjects/Fisica/Architetture/VAE/discrete/models_parameters/priorHFM/MNIST/ld6_glog2_ep15_lmb01_dr055_gKLlog2_NL_5hl_0.pth')\n",
    "print('Parameters saved')\n",
    "\n"
   ]
  },
  {
   "cell_type": "markdown",
   "id": "2dc3eea2",
   "metadata": {},
   "source": [
    "\n",
    "#### features = 6, g_model = log(2), epochs = 15, decrease_rate = 0.6, g_HFM per KL = log2, hidden layers = 6\n"
   ]
  },
  {
   "cell_type": "code",
   "execution_count": 12,
   "id": "09d9b182",
   "metadata": {},
   "outputs": [
    {
     "name": "stdout",
     "output_type": "stream",
     "text": [
      "Epoch: 0/15, Average loss: 404.0643\n",
      "Epoch: 1/15, Average loss: 279.7820\n",
      "Epoch: 2/15, Average loss: 231.1276\n",
      "Epoch: 3/15, Average loss: 204.6358\n",
      "Epoch: 4/15, Average loss: 185.7424\n",
      "Epoch: 5/15, Average loss: 171.7875\n",
      "Epoch: 6/15, Average loss: 161.4567\n",
      "Epoch: 7/15, Average loss: 154.0192\n",
      "Epoch: 8/15, Average loss: 148.8494\n",
      "Epoch: 9/15, Average loss: 144.7229\n",
      "Epoch: 10/15, Average loss: 141.8280\n",
      "Epoch: 11/15, Average loss: 139.6754\n",
      "Epoch: 12/15, Average loss: 137.8384\n",
      "Epoch: 13/15, Average loss: 136.3801\n",
      "Epoch: 14/15, Average loss: 134.8126\n",
      "Training completato e dati scritti su tensorboard\n",
      "Parameters saved\n"
     ]
    }
   ],
   "source": [
    "\n",
    "\n",
    "writer = SummaryWriter(log_dir='/Users/enricofrausin/Programmazione/PythonProjects/Fisica/runs/discrete_VAE/prior_HFM/MNIST/ld6_glog2_ep15_lmb01_dr06_gKLlog2_NL_6hl_0')\n",
    "my_model = VAE_priorHFM(input_dim=input_dim, latent_dim=6, g=np.log(2), decrease_rate=0.6, device=device, num_hidden_layers=6, LayerNorm=True).to(device)\n",
    "optimizer = optim.Adam(my_model.parameters(), lr=md.learning_rate)\n",
    "train(my_model, _lambda=0.1, writer=writer, train_loader=train_loader, val_loader=val_loader, optimizer=optimizer, device=device, epochs=15, calculate_KL_HFM=True)\n",
    "torch.save(my_model.state_dict(), '/Users/enricofrausin/Programmazione/PythonProjects/Fisica/Architetture/VAE/discrete/models_parameters/priorHFM/MNIST/ld6_glog2_ep15_lmb01_dr06_gKLlog2_NL_6hl_0.pth')\n",
    "print('Parameters saved')"
   ]
  },
  {
   "cell_type": "markdown",
   "id": "1bc0a6dc",
   "metadata": {},
   "source": [
    "### latent_dim = 10\n"
   ]
  },
  {
   "cell_type": "markdown",
   "id": "02a64c07",
   "metadata": {},
   "source": [
    "#### features = 10, g_model = log(2), epochs = 15, decrease_rate = 0.5, g_HFM per KL = log2, hidden layer = 1\n"
   ]
  },
  {
   "cell_type": "code",
   "execution_count": 22,
   "id": "9b15fddc",
   "metadata": {},
   "outputs": [
    {
     "name": "stdout",
     "output_type": "stream",
     "text": [
      "Epoch: 0/15, Average loss: 383.1762\n",
      "Epoch: 1/15, Average loss: 268.6504\n",
      "Epoch: 2/15, Average loss: 219.5911\n",
      "Epoch: 3/15, Average loss: 190.6701\n",
      "Epoch: 4/15, Average loss: 170.3356\n",
      "Epoch: 5/15, Average loss: 156.1361\n",
      "Epoch: 6/15, Average loss: 146.3509\n",
      "Epoch: 7/15, Average loss: 139.3945\n",
      "Epoch: 8/15, Average loss: 134.1125\n",
      "Epoch: 9/15, Average loss: 130.0846\n",
      "Epoch: 10/15, Average loss: 126.7365\n",
      "Epoch: 11/15, Average loss: 123.9843\n",
      "Epoch: 12/15, Average loss: 121.7459\n",
      "Epoch: 13/15, Average loss: 119.8368\n",
      "Epoch: 14/15, Average loss: 118.3179\n",
      "Training completato e dati scritti su tensorboard\n",
      "Parameters saved\n"
     ]
    }
   ],
   "source": [
    "\n",
    "writer = SummaryWriter(log_dir='/Users/enricofrausin/Programmazione/PythonProjects/Fisica/runs/discrete_VAE/prior_HFM/MNIST/ld10_glog2_ep7_lmb01_dr05_gKLlog2_LN_1hl_0')\n",
    "my_model = VAE_priorHFM(input_dim=input_dim, latent_dim=10, g=np.log(2), decrease_rate=0.5, device=device, num_hidden_layers=1, LayerNorm=True).to(device)\n",
    "optimizer = optim.Adam(my_model.parameters(), lr=md.learning_rate)\n",
    "train(my_model, _lambda=0.1, writer=writer, train_loader=train_loader, val_loader=val_loader, optimizer=optimizer, device=device, epochs=15, calculate_KL_HFM=True)\n",
    "torch.save(my_model.state_dict(), '/Users/enricofrausin/Programmazione/PythonProjects/Fisica/Architetture/VAE/discrete/models_parameters/priorHFM/MNIST/ld10_glog2_ep7_lmb01_dr05_gKLlog2_LN_1hl_0.pth')\n",
    "print('Parameters saved')\n"
   ]
  },
  {
   "cell_type": "markdown",
   "id": "f284440d",
   "metadata": {},
   "source": [
    "\n",
    "#### features = 10, g_model = log(2), epochs = 15, decrease_rate = 0.5, g_HFM per KL = log2, hidden layer = 2\n"
   ]
  },
  {
   "cell_type": "code",
   "execution_count": 23,
   "id": "e9e6544b",
   "metadata": {},
   "outputs": [
    {
     "name": "stdout",
     "output_type": "stream",
     "text": [
      "Epoch: 0/15, Average loss: 385.1324\n",
      "Epoch: 1/15, Average loss: 268.4826\n",
      "Epoch: 2/15, Average loss: 219.0720\n",
      "Epoch: 3/15, Average loss: 189.9261\n",
      "Epoch: 4/15, Average loss: 169.2491\n",
      "Epoch: 5/15, Average loss: 154.7276\n",
      "Epoch: 6/15, Average loss: 144.5990\n",
      "Epoch: 7/15, Average loss: 137.3649\n",
      "Epoch: 8/15, Average loss: 131.8118\n",
      "Epoch: 9/15, Average loss: 127.4682\n",
      "Epoch: 10/15, Average loss: 123.9615\n",
      "Epoch: 11/15, Average loss: 121.0202\n",
      "Epoch: 12/15, Average loss: 118.4307\n",
      "Epoch: 13/15, Average loss: 116.2330\n",
      "Epoch: 14/15, Average loss: 114.2826\n",
      "Training completato e dati scritti su tensorboard\n",
      "Parameters saved\n"
     ]
    }
   ],
   "source": [
    "\n",
    "\n",
    "\n",
    "writer = SummaryWriter(log_dir='/Users/enricofrausin/Programmazione/PythonProjects/Fisica/runs/discrete_VAE/prior_HFM/MNIST/ld10_glog2_ep15_lmb01_dr05_gKLlog2_NL_2hl_0')\n",
    "my_model = VAE_priorHFM(input_dim=input_dim, latent_dim=10, g=np.log(2), decrease_rate=0.5, device=device, num_hidden_layers=2, LayerNorm=True).to(device)\n",
    "optimizer = optim.Adam(my_model.parameters(), lr=md.learning_rate)\n",
    "train(my_model, _lambda=0.1, writer=writer, train_loader=train_loader, val_loader=val_loader, optimizer=optimizer, device=device, epochs=15, calculate_KL_HFM=True)\n",
    "torch.save(my_model.state_dict(), '/Users/enricofrausin/Programmazione/PythonProjects/Fisica/Architetture/VAE/discrete/models_parameters/priorHFM/MNIST/ld10_glog2_ep15_lmb01_dr05_gKLlog2_NL_2hl_0.pth')\n",
    "print('Parameters saved')\n",
    "\n"
   ]
  },
  {
   "cell_type": "markdown",
   "id": "1dab9cb1",
   "metadata": {},
   "source": [
    "\n",
    "\n",
    "#### features = 10, g_model = log(2), epochs = 15, decrease_rate = 0.5, g_HFM per KL = log2, hidden layer = 3\n",
    "\n"
   ]
  },
  {
   "cell_type": "code",
   "execution_count": 24,
   "id": "0fca54d5",
   "metadata": {},
   "outputs": [
    {
     "name": "stdout",
     "output_type": "stream",
     "text": [
      "Epoch: 0/15, Average loss: 387.0321\n",
      "Epoch: 1/15, Average loss: 268.9205\n",
      "Epoch: 2/15, Average loss: 219.2299\n",
      "Epoch: 3/15, Average loss: 189.8106\n",
      "Epoch: 4/15, Average loss: 168.9077\n",
      "Epoch: 5/15, Average loss: 154.3619\n",
      "Epoch: 6/15, Average loss: 144.4570\n",
      "Epoch: 7/15, Average loss: 137.2431\n",
      "Epoch: 8/15, Average loss: 131.8989\n",
      "Epoch: 9/15, Average loss: 127.8105\n",
      "Epoch: 10/15, Average loss: 124.7920\n",
      "Epoch: 11/15, Average loss: 122.3061\n",
      "Epoch: 12/15, Average loss: 120.3614\n",
      "Epoch: 13/15, Average loss: 118.5575\n",
      "Epoch: 14/15, Average loss: 117.1697\n",
      "Training completato e dati scritti su tensorboard\n",
      "Parameters saved\n"
     ]
    }
   ],
   "source": [
    "\n",
    "\n",
    "writer = SummaryWriter(log_dir='/Users/enricofrausin/Programmazione/PythonProjects/Fisica/runs/discrete_VAE/prior_HFM/MNIST/ld10_glog2_ep15_lmb01_dr05_gKLlog2_NL_3hl_0')\n",
    "my_model = VAE_priorHFM(input_dim=input_dim, latent_dim=10, g=np.log(2), decrease_rate=0.5, device=device, num_hidden_layers=3, LayerNorm=True).to(device)\n",
    "optimizer = optim.Adam(my_model.parameters(), lr=md.learning_rate)\n",
    "train(my_model, _lambda=0.1, writer=writer, train_loader=train_loader, val_loader=val_loader, optimizer=optimizer, device=device, epochs=15, calculate_KL_HFM=True)\n",
    "torch.save(my_model.state_dict(), '/Users/enricofrausin/Programmazione/PythonProjects/Fisica/Architetture/VAE/discrete/models_parameters/priorHFM/MNIST/ld10_glog2_ep15_lmb01_dr05_gKLlog2_NL_3hl_0.pth')\n",
    "print('Parameters saved')\n",
    "\n"
   ]
  },
  {
   "cell_type": "markdown",
   "id": "9a5402b5",
   "metadata": {},
   "source": [
    "\n",
    "\n",
    "#### features = 10, g_model = log(2), epochs = 15, decrease_rate = 0.5, g_HFM per KL = log2, hidden layers = 4\n"
   ]
  },
  {
   "cell_type": "code",
   "execution_count": 25,
   "id": "b552bcac",
   "metadata": {},
   "outputs": [
    {
     "name": "stdout",
     "output_type": "stream",
     "text": [
      "Epoch: 0/15, Average loss: 392.7803\n",
      "Epoch: 1/15, Average loss: 270.6597\n",
      "Epoch: 2/15, Average loss: 221.2276\n",
      "Epoch: 3/15, Average loss: 192.6594\n",
      "Epoch: 4/15, Average loss: 172.0431\n",
      "Epoch: 5/15, Average loss: 157.3659\n",
      "Epoch: 6/15, Average loss: 147.2441\n",
      "Epoch: 7/15, Average loss: 140.0963\n",
      "Epoch: 8/15, Average loss: 134.9187\n",
      "Epoch: 9/15, Average loss: 131.0110\n",
      "Epoch: 10/15, Average loss: 127.9503\n",
      "Epoch: 11/15, Average loss: 125.4441\n",
      "Epoch: 12/15, Average loss: 123.5264\n",
      "Epoch: 13/15, Average loss: 121.8168\n",
      "Epoch: 14/15, Average loss: 120.3490\n",
      "Training completato e dati scritti su tensorboard\n",
      "Parameters saved\n"
     ]
    }
   ],
   "source": [
    "\n",
    "\n",
    "\n",
    "writer = SummaryWriter(log_dir='/Users/enricofrausin/Programmazione/PythonProjects/Fisica/runs/discrete_VAE/prior_HFM/MNIST/ld10_glog2_ep15_lmb01_dr05_gKLlog2_LN_4hl_0')\n",
    "my_model = VAE_priorHFM(input_dim=input_dim, latent_dim=10, g=np.log(2), decrease_rate=0.5, device=device, num_hidden_layers=4, LayerNorm=True).to(device)\n",
    "optimizer = optim.Adam(my_model.parameters(), lr=md.learning_rate)\n",
    "train(my_model, _lambda=0.1, writer=writer, train_loader=train_loader, val_loader=val_loader, optimizer=optimizer, device=device, epochs=15, calculate_KL_HFM=True)\n",
    "torch.save(my_model.state_dict(), '/Users/enricofrausin/Programmazione/PythonProjects/Fisica/Architetture/VAE/discrete/models_parameters/priorHFM/MNIST/ld10_glog2_ep15_lmb01_dr05_gKLlog2_LN_4hl_0.pth')\n",
    "print('Parameters saved')\n",
    "\n"
   ]
  },
  {
   "cell_type": "markdown",
   "id": "3cdf31f0",
   "metadata": {},
   "source": [
    "\n",
    "\n",
    "#### features = 10, g_model = log(2), epochs = 15, hidden layers = 5, decrease_rate = 0.55, g_HFM per KL = log2\n",
    "\n"
   ]
  },
  {
   "cell_type": "code",
   "execution_count": 26,
   "id": "6da2b257",
   "metadata": {},
   "outputs": [
    {
     "name": "stdout",
     "output_type": "stream",
     "text": [
      "Epoch: 0/15, Average loss: 396.9351\n",
      "Epoch: 1/15, Average loss: 272.2454\n",
      "Epoch: 2/15, Average loss: 222.7689\n",
      "Epoch: 3/15, Average loss: 194.1453\n",
      "Epoch: 4/15, Average loss: 173.3943\n",
      "Epoch: 5/15, Average loss: 158.8272\n",
      "Epoch: 6/15, Average loss: 148.9317\n",
      "Epoch: 7/15, Average loss: 141.8160\n",
      "Epoch: 8/15, Average loss: 136.6592\n",
      "Epoch: 9/15, Average loss: 132.9064\n",
      "Epoch: 10/15, Average loss: 129.9749\n",
      "Epoch: 11/15, Average loss: 127.5991\n",
      "Epoch: 12/15, Average loss: 125.6838\n",
      "Epoch: 13/15, Average loss: 124.1039\n",
      "Epoch: 14/15, Average loss: 122.7595\n",
      "Training completato e dati scritti su tensorboard\n",
      "Parameters saved\n"
     ]
    }
   ],
   "source": [
    "\n",
    "\n",
    "writer = SummaryWriter(log_dir='/Users/enricofrausin/Programmazione/PythonProjects/Fisica/runs/discrete_VAE/prior_HFM/MNIST/ld10_glog2_ep15_lmb01_dr055_gKLlog2_NL_5hl_0')\n",
    "my_model = VAE_priorHFM(input_dim=input_dim, latent_dim=10, g=np.log(2), decrease_rate=0.55, device=device, num_hidden_layers=5, LayerNorm=True).to(device)\n",
    "optimizer = optim.Adam(my_model.parameters(), lr=md.learning_rate)\n",
    "train(my_model, _lambda=0.1, writer=writer, train_loader=train_loader, val_loader=val_loader, optimizer=optimizer, device=device, epochs=15, calculate_KL_HFM=True)\n",
    "torch.save(my_model.state_dict(), '/Users/enricofrausin/Programmazione/PythonProjects/Fisica/Architetture/VAE/discrete/models_parameters/priorHFM/MNIST/ld10_glog2_ep15_lmb01_dr055_gKLlog2_NL_5hl_0.pth')\n",
    "print('Parameters saved')\n"
   ]
  },
  {
   "cell_type": "markdown",
   "id": "f6aabc3a",
   "metadata": {},
   "source": [
    "\n",
    "\n",
    "\n",
    "#### features = 10, g_model = log(2), epochs = 15, decrease_rate = 0.6, g_HFM per KL = log2, hidden layers = 6\n"
   ]
  },
  {
   "cell_type": "code",
   "execution_count": 29,
   "id": "3f7ef060",
   "metadata": {},
   "outputs": [
    {
     "name": "stdout",
     "output_type": "stream",
     "text": [
      "Epoch: 0/15, Average loss: 398.9619\n",
      "Epoch: 1/15, Average loss: 275.8184\n",
      "Epoch: 2/15, Average loss: 226.5427\n",
      "Epoch: 3/15, Average loss: 199.0038\n",
      "Epoch: 4/15, Average loss: 179.0022\n",
      "Epoch: 5/15, Average loss: 164.5804\n",
      "Epoch: 6/15, Average loss: 154.2868\n",
      "Epoch: 7/15, Average loss: 147.1191\n",
      "Epoch: 8/15, Average loss: 141.9896\n",
      "Epoch: 9/15, Average loss: 137.8861\n",
      "Epoch: 10/15, Average loss: 134.6356\n",
      "Epoch: 11/15, Average loss: 132.0193\n",
      "Epoch: 12/15, Average loss: 129.9379\n",
      "Epoch: 13/15, Average loss: 128.3240\n",
      "Epoch: 14/15, Average loss: 127.1255\n",
      "Training completato e dati scritti su tensorboard\n",
      "Parameters saved\n"
     ]
    }
   ],
   "source": [
    "\n",
    "writer = SummaryWriter(log_dir='/Users/enricofrausin/Programmazione/PythonProjects/Fisica/runs/discrete_VAE/prior_HFM/MNIST/ld10_glog2_ep15_lmb01_dr06_gKLlog2_NL_6hl_0')\n",
    "my_model = VAE_priorHFM(input_dim=input_dim, latent_dim=10, g=np.log(2), decrease_rate=0.6, device=device, num_hidden_layers=6, LayerNorm=True).to(device)\n",
    "optimizer = optim.Adam(my_model.parameters(), lr=md.learning_rate)\n",
    "train(my_model, _lambda=0.1, writer=writer, train_loader=train_loader, val_loader=val_loader, optimizer=optimizer, device=device, epochs=15, calculate_KL_HFM=True)\n",
    "torch.save(my_model.state_dict(), '/Users/enricofrausin/Programmazione/PythonProjects/Fisica/Architetture/VAE/discrete/models_parameters/priorHFM/MNIST/ld10_glog2_ep15_lmb01_dr06_gKLlog2_NL_6hl_0.pth')\n",
    "print('Parameters saved')"
   ]
  },
  {
   "cell_type": "markdown",
   "id": "6c9ad21b",
   "metadata": {},
   "source": [
    "### latent_dim = 8"
   ]
  },
  {
   "cell_type": "markdown",
   "id": "07de2273",
   "metadata": {},
   "source": [
    "#### features = 8, g_model = log(2), epochs = 15, decrease_rate = 0.5, g_HFM per KL = log2, hidden layer = 1\n"
   ]
  },
  {
   "cell_type": "code",
   "execution_count": 12,
   "id": "c5cdd62d",
   "metadata": {},
   "outputs": [
    {
     "name": "stdout",
     "output_type": "stream",
     "text": [
      "Epoch: 0/15, Average loss: 385.5374\n",
      "Epoch: 1/15, Average loss: 270.4076\n",
      "Epoch: 2/15, Average loss: 221.8838\n",
      "Epoch: 3/15, Average loss: 193.9957\n",
      "Epoch: 4/15, Average loss: 174.2846\n",
      "Epoch: 5/15, Average loss: 160.5452\n",
      "Epoch: 6/15, Average loss: 151.0899\n",
      "Epoch: 7/15, Average loss: 144.1675\n",
      "Epoch: 8/15, Average loss: 139.0345\n",
      "Epoch: 9/15, Average loss: 135.0356\n",
      "Epoch: 10/15, Average loss: 131.8010\n",
      "Epoch: 11/15, Average loss: 129.2508\n",
      "Epoch: 12/15, Average loss: 127.2344\n",
      "Epoch: 13/15, Average loss: 125.4366\n",
      "Epoch: 14/15, Average loss: 124.0299\n",
      "Training completato e dati scritti su tensorboard\n",
      "Parameters saved\n"
     ]
    }
   ],
   "source": [
    "writer = SummaryWriter(log_dir='/Users/enricofrausin/Programmazione/PythonProjects/Fisica/runs/discrete_VAE/prior_HFM/MNIST/ld8_glog2_ep7_lmb01_dr05_gKLlog2_LN_1hl_0')\n",
    "my_model = VAE_priorHFM(input_dim=input_dim, latent_dim=8, g=np.log(2), decrease_rate=0.5, device=device, num_hidden_layers=1, LayerNorm=True).to(device)\n",
    "optimizer = optim.Adam(my_model.parameters(), lr=md.learning_rate)\n",
    "train(my_model, _lambda=0.1, writer=writer, train_loader=train_loader, val_loader=val_loader, optimizer=optimizer, device=device, epochs=15, calculate_KL_HFM=True)\n",
    "torch.save(my_model.state_dict(), '/Users/enricofrausin/Programmazione/PythonProjects/Fisica/Architetture/VAE/discrete/models_parameters/priorHFM/MNIST/ld8_glog2_ep7_lmb01_dr05_gKLlog2_LN_1hl_0.pth')\n",
    "print('Parameters saved')\n"
   ]
  },
  {
   "cell_type": "markdown",
   "id": "8e307691",
   "metadata": {},
   "source": [
    "\n",
    "\n",
    "#### features = 8, g_model = log(2), epochs = 15, decrease_rate = 0.5, g_HFM per KL = log2, hidden layer = 2\n"
   ]
  },
  {
   "cell_type": "code",
   "execution_count": 14,
   "id": "26cd7055",
   "metadata": {},
   "outputs": [
    {
     "name": "stdout",
     "output_type": "stream",
     "text": [
      "Epoch: 0/15, Average loss: 385.5536\n",
      "Epoch: 1/15, Average loss: 270.0968\n",
      "Epoch: 2/15, Average loss: 221.6856\n",
      "Epoch: 3/15, Average loss: 193.5973\n",
      "Epoch: 4/15, Average loss: 173.3367\n",
      "Epoch: 5/15, Average loss: 158.6900\n",
      "Epoch: 6/15, Average loss: 148.3585\n",
      "Epoch: 7/15, Average loss: 140.6620\n",
      "Epoch: 8/15, Average loss: 134.9014\n",
      "Epoch: 9/15, Average loss: 130.4423\n",
      "Epoch: 10/15, Average loss: 126.8215\n",
      "Epoch: 11/15, Average loss: 123.9568\n",
      "Epoch: 12/15, Average loss: 121.7570\n",
      "Epoch: 13/15, Average loss: 119.8965\n",
      "Epoch: 14/15, Average loss: 118.3773\n",
      "Training completato e dati scritti su tensorboard\n",
      "Parameters saved\n"
     ]
    }
   ],
   "source": [
    "\n",
    "\n",
    "writer = SummaryWriter(log_dir='/Users/enricofrausin/Programmazione/PythonProjects/Fisica/runs/discrete_VAE/prior_HFM/MNIST/ld8_glog2_ep15_lmb01_dr05_gKLlog2_NL_2hl_0')\n",
    "my_model = VAE_priorHFM(input_dim=input_dim, latent_dim=8, g=np.log(2), decrease_rate=0.5, device=device, num_hidden_layers=2, LayerNorm=True).to(device)\n",
    "optimizer = optim.Adam(my_model.parameters(), lr=md.learning_rate)\n",
    "train(my_model, _lambda=0.1, writer=writer, train_loader=train_loader, val_loader=val_loader, optimizer=optimizer, device=device, epochs=15, calculate_KL_HFM=True)\n",
    "torch.save(my_model.state_dict(), '/Users/enricofrausin/Programmazione/PythonProjects/Fisica/Architetture/VAE/discrete/models_parameters/priorHFM/MNIST/ld8_glog2_ep15_lmb01_dr05_gKLlog2_NL_2hl_0.pth')\n",
    "print('Parameters saved')\n",
    "\n"
   ]
  },
  {
   "cell_type": "markdown",
   "id": "03fd416b",
   "metadata": {},
   "source": [
    "\n",
    "#### features = 8, g_model = log(2), epochs = 15, decrease_rate = 0.5, g_HFM per KL = log2, hidden layer = 3\n"
   ]
  },
  {
   "cell_type": "code",
   "execution_count": 15,
   "id": "f398416d",
   "metadata": {},
   "outputs": [
    {
     "name": "stdout",
     "output_type": "stream",
     "text": [
      "Epoch: 0/15, Average loss: 386.0043\n",
      "Epoch: 1/15, Average loss: 270.1266\n",
      "Epoch: 2/15, Average loss: 221.6020\n",
      "Epoch: 3/15, Average loss: 193.5423\n",
      "Epoch: 4/15, Average loss: 173.0970\n",
      "Epoch: 5/15, Average loss: 158.8722\n",
      "Epoch: 6/15, Average loss: 148.5503\n",
      "Epoch: 7/15, Average loss: 141.1077\n",
      "Epoch: 8/15, Average loss: 135.6479\n",
      "Epoch: 9/15, Average loss: 131.4073\n",
      "Epoch: 10/15, Average loss: 128.0857\n",
      "Epoch: 11/15, Average loss: 125.3988\n",
      "Epoch: 12/15, Average loss: 123.2765\n",
      "Epoch: 13/15, Average loss: 121.5404\n",
      "Epoch: 14/15, Average loss: 120.0439\n",
      "Training completato e dati scritti su tensorboard\n",
      "Parameters saved\n"
     ]
    }
   ],
   "source": [
    "\n",
    "\n",
    "writer = SummaryWriter(log_dir='/Users/enricofrausin/Programmazione/PythonProjects/Fisica/runs/discrete_VAE/prior_HFM/MNIST/ld8_glog2_ep15_lmb01_dr05_gKLlog2_NL_3hl_0')\n",
    "my_model = VAE_priorHFM(input_dim=input_dim, latent_dim=8, g=np.log(2), decrease_rate=0.5, device=device, num_hidden_layers=3, LayerNorm=True).to(device)\n",
    "optimizer = optim.Adam(my_model.parameters(), lr=md.learning_rate)\n",
    "train(my_model, _lambda=0.1, writer=writer, train_loader=train_loader, val_loader=val_loader, optimizer=optimizer, device=device, epochs=15, calculate_KL_HFM=True)\n",
    "torch.save(my_model.state_dict(), '/Users/enricofrausin/Programmazione/PythonProjects/Fisica/Architetture/VAE/discrete/models_parameters/priorHFM/MNIST/ld8_glog2_ep15_lmb01_dr05_gKLlog2_NL_3hl_0.pth')\n",
    "print('Parameters saved')\n"
   ]
  },
  {
   "cell_type": "markdown",
   "id": "74113c73",
   "metadata": {},
   "source": [
    "\n",
    "\n",
    "#### features = 8, g_model = log(2), epochs = 15, decrease_rate = 0.5, g_HFM per KL = log2, hidden layers = 4\n",
    "\n"
   ]
  },
  {
   "cell_type": "code",
   "execution_count": 16,
   "id": "e1398a85",
   "metadata": {},
   "outputs": [
    {
     "name": "stdout",
     "output_type": "stream",
     "text": [
      "Epoch: 0/15, Average loss: 394.4963\n",
      "Epoch: 1/15, Average loss: 271.5268\n",
      "Epoch: 2/15, Average loss: 222.4439\n",
      "Epoch: 3/15, Average loss: 194.1568\n",
      "Epoch: 4/15, Average loss: 173.8201\n",
      "Epoch: 5/15, Average loss: 159.5451\n",
      "Epoch: 6/15, Average loss: 149.7136\n",
      "Epoch: 7/15, Average loss: 142.6117\n",
      "Epoch: 8/15, Average loss: 137.7010\n",
      "Epoch: 9/15, Average loss: 133.6084\n",
      "Epoch: 10/15, Average loss: 130.5410\n",
      "Epoch: 11/15, Average loss: 127.8862\n",
      "Epoch: 12/15, Average loss: 126.0378\n",
      "Epoch: 13/15, Average loss: 124.2359\n",
      "Epoch: 14/15, Average loss: 122.9636\n",
      "Training completato e dati scritti su tensorboard\n",
      "Parameters saved\n"
     ]
    }
   ],
   "source": [
    "\n",
    "writer = SummaryWriter(log_dir='/Users/enricofrausin/Programmazione/PythonProjects/Fisica/runs/discrete_VAE/prior_HFM/MNIST/ld8_glog2_ep15_lmb01_dr05_gKLlog2_LN_4hl_0')\n",
    "my_model = VAE_priorHFM(input_dim=input_dim, latent_dim=8, g=np.log(2), decrease_rate=0.5, device=device, num_hidden_layers=4, LayerNorm=True).to(device)\n",
    "optimizer = optim.Adam(my_model.parameters(), lr=md.learning_rate)\n",
    "train(my_model, _lambda=0.1, writer=writer, train_loader=train_loader, val_loader=val_loader, optimizer=optimizer, device=device, epochs=15, calculate_KL_HFM=True)\n",
    "torch.save(my_model.state_dict(), '/Users/enricofrausin/Programmazione/PythonProjects/Fisica/Architetture/VAE/discrete/models_parameters/priorHFM/MNIST/ld8_glog2_ep15_lmb01_dr05_gKLlog2_LN_4hl_0.pth')\n",
    "print('Parameters saved')\n"
   ]
  },
  {
   "cell_type": "markdown",
   "id": "2f525fb5",
   "metadata": {},
   "source": [
    "\n",
    "\n",
    "#### features = 8, g_model = log(2), epochs = 15, hidden layers = 5, decrease_rate = 0.55, g_HFM per KL = log2\n"
   ]
  },
  {
   "cell_type": "code",
   "execution_count": 17,
   "id": "7020f7d0",
   "metadata": {},
   "outputs": [
    {
     "name": "stdout",
     "output_type": "stream",
     "text": [
      "Epoch: 0/15, Average loss: 393.1247\n",
      "Epoch: 1/15, Average loss: 271.6345\n",
      "Epoch: 2/15, Average loss: 223.4829\n",
      "Epoch: 3/15, Average loss: 196.0521\n",
      "Epoch: 4/15, Average loss: 176.3467\n",
      "Epoch: 5/15, Average loss: 162.2854\n",
      "Epoch: 6/15, Average loss: 152.6328\n",
      "Epoch: 7/15, Average loss: 145.7995\n",
      "Epoch: 8/15, Average loss: 140.8579\n",
      "Epoch: 9/15, Average loss: 136.9776\n",
      "Epoch: 10/15, Average loss: 134.0712\n",
      "Epoch: 11/15, Average loss: 131.6691\n",
      "Epoch: 12/15, Average loss: 129.8249\n",
      "Epoch: 13/15, Average loss: 128.1605\n",
      "Epoch: 14/15, Average loss: 126.7619\n",
      "Training completato e dati scritti su tensorboard\n",
      "Parameters saved\n"
     ]
    }
   ],
   "source": [
    "\n",
    "\n",
    "writer = SummaryWriter(log_dir='/Users/enricofrausin/Programmazione/PythonProjects/Fisica/runs/discrete_VAE/prior_HFM/MNIST/ld8_glog2_ep15_lmb01_dr055_gKLlog2_NL_5hl_0')\n",
    "my_model = VAE_priorHFM(input_dim=input_dim, latent_dim=8, g=np.log(2), decrease_rate=0.55, device=device, num_hidden_layers=5, LayerNorm=True).to(device)\n",
    "optimizer = optim.Adam(my_model.parameters(), lr=md.learning_rate)\n",
    "train(my_model, _lambda=0.1, writer=writer, train_loader=train_loader, val_loader=val_loader, optimizer=optimizer, device=device, epochs=15, calculate_KL_HFM=True)\n",
    "torch.save(my_model.state_dict(), '/Users/enricofrausin/Programmazione/PythonProjects/Fisica/Architetture/VAE/discrete/models_parameters/priorHFM/MNIST/ld8_glog2_ep15_lmb01_dr055_gKLlog2_NL_5hl_0.pth')\n",
    "print('Parameters saved')\n",
    "\n"
   ]
  },
  {
   "cell_type": "markdown",
   "id": "01306666",
   "metadata": {},
   "source": [
    "\n",
    "#### features = 8, g_model = log(2), epochs = 15, decrease_rate = 0.6, g_HFM per KL = log2, hidden layers = 6\n"
   ]
  },
  {
   "cell_type": "code",
   "execution_count": null,
   "id": "5ca40810",
   "metadata": {},
   "outputs": [
    {
     "name": "stdout",
     "output_type": "stream",
     "text": [
      "Epoch: 0/15, Average loss: 405.5456\n",
      "Epoch: 1/15, Average loss: 281.1150\n",
      "Epoch: 2/15, Average loss: 233.4960\n",
      "Epoch: 3/15, Average loss: 205.8958\n",
      "Epoch: 4/15, Average loss: 185.1832\n",
      "Epoch: 5/15, Average loss: 169.6680\n",
      "Epoch: 6/15, Average loss: 159.0213\n",
      "Epoch: 7/15, Average loss: 151.6857\n",
      "Epoch: 8/15, Average loss: 146.3823\n",
      "Epoch: 9/15, Average loss: 142.5077\n",
      "Epoch: 10/15, Average loss: 140.3031\n",
      "Epoch: 11/15, Average loss: 137.4579\n",
      "Epoch: 12/15, Average loss: 135.6326\n",
      "Epoch: 13/15, Average loss: 134.2292\n",
      "Epoch: 14/15, Average loss: 133.4637\n",
      "Training completato e dati scritti su tensorboard\n",
      "Parameters saved\n"
     ]
    }
   ],
   "source": [
    "writer = SummaryWriter(log_dir='/Users/enricofrausin/Programmazione/PythonProjects/Fisica/runs/discrete_VAE/prior_HFM/MNIST/ld8_glog2_ep15_lmb01_dr06_gKLlog2_NL_6hl_0')\n",
    "my_model = VAE_priorHFM(input_dim=input_dim, latent_dim=8, g=np.log(2), decrease_rate=0.6, device=device, num_hidden_layers=6, LayerNorm=True).to(device)\n",
    "optimizer = optim.Adam(my_model.parameters(), lr=md.learning_rate)\n",
    "train(my_model, _lambda=0.1, writer=writer, train_loader=train_loader, val_loader=val_loader, optimizer=optimizer, device=device, epochs=15, calculate_KL_HFM=True)\n",
    "torch.save(my_model.state_dict(), '/Users/enricofrausin/Programmazione/PythonProjects/Fisica/Architetture/VAE/discrete/models_parameters/priorHFM/MNIST/ld8_glog2_ep15_lmb01_dr06_gKLlog2_NL_6hl_0.pth')\n",
    "print('Parameters saved')"
   ]
  },
  {
   "cell_type": "code",
   "execution_count": 21,
   "id": "479d5643",
   "metadata": {},
   "outputs": [
    {
     "data": {
      "image/png": "[encoded data removed]",
      "text/plain": [
       "<Figure size 1000x400 with 10 Axes>"
      ]
     },
     "metadata": {},
     "output_type": "display_data"
    },
    {
     "data": {
      "image/png": "[encoded data removed]",
      "text/plain": [
       "<Figure size 1000x400 with 10 Axes>"
      ]
     },
     "metadata": {},
     "output_type": "display_data"
    }
   ],
   "source": [
    "sample_images(my_model)"
   ]
  },
  {
   "cell_type": "markdown",
   "id": "1d56bd83",
   "metadata": {},
   "source": [
    "## train over fashionMNIST"
   ]
  },
  {
   "cell_type": "code",
   "execution_count": 13,
   "id": "8fab93e2",
   "metadata": {},
   "outputs": [],
   "source": [
    "train_loader = train_loader_FashionMNIST\n",
    "val_loader = val_loader_FashionMNIST\n",
    "input_dim = 784"
   ]
  },
  {
   "cell_type": "markdown",
   "id": "5af0e04e",
   "metadata": {},
   "source": [
    "### latent_dim = 12\n"
   ]
  },
  {
   "cell_type": "code",
   "execution_count": 14,
   "id": "7328867c",
   "metadata": {},
   "outputs": [
    {
     "name": "stdout",
     "output_type": "stream",
     "text": [
      "Epoch: 0/15, Average loss: 390.5580\n",
      "Epoch: 1/15, Average loss: 328.8307\n",
      "Epoch: 2/15, Average loss: 301.4959\n",
      "Epoch: 3/15, Average loss: 282.8894\n",
      "Epoch: 4/15, Average loss: 270.0157\n",
      "Epoch: 5/15, Average loss: 261.8850\n",
      "Epoch: 6/15, Average loss: 256.6333\n",
      "Epoch: 7/15, Average loss: 252.8290\n",
      "Epoch: 8/15, Average loss: 250.1731\n",
      "Epoch: 9/15, Average loss: 248.1693\n",
      "Epoch: 10/15, Average loss: 246.2765\n",
      "Epoch: 11/15, Average loss: 244.8467\n",
      "Epoch: 12/15, Average loss: 243.6671\n",
      "Epoch: 13/15, Average loss: 242.5018\n",
      "Epoch: 14/15, Average loss: 241.4765\n",
      "Training completato e dati scritti su tensorboard\n",
      "Parameters saved\n"
     ]
    }
   ],
   "source": [
    "#### features = 12, g_model = log(2), epochs = 15, decrease_rate = 0.5, g_HFM per KL = log2, hidden layer = 1\n",
    "\n",
    "writer = SummaryWriter(log_dir='/Users/enricofrausin/Programmazione/PythonProjects/Fisica/runs/discrete_VAE/prior_HFM/FashionMNIST/ld12_glog2_ep7_lmb01_dr05_gKLlog2_LN_1hl_0')\n",
    "my_model = VAE_priorHFM(input_dim=input_dim, latent_dim=12, g=np.log(2), decrease_rate=0.5, device=device, num_hidden_layers=1, LayerNorm=True).to(device)\n",
    "optimizer = optim.Adam(my_model.parameters(), lr=md.learning_rate)\n",
    "train(my_model, _lambda=0.1, writer=writer, train_loader=train_loader, val_loader=val_loader, optimizer=optimizer, device=device, epochs=15, calculate_KL_HFM=True)\n",
    "torch.save(my_model.state_dict(), '/Users/enricofrausin/Programmazione/PythonProjects/Fisica/Architetture/VAE/discrete/models_parameters/priorHFM/FashionMNIST/ld12_glog2_ep7_lmb01_dr05_gKLlog2_LN_1hl_0.pth')\n",
    "print('Parameters saved')\n"
   ]
  },
  {
   "cell_type": "code",
   "execution_count": 15,
   "id": "17430dfd",
   "metadata": {},
   "outputs": [
    {
     "name": "stdout",
     "output_type": "stream",
     "text": [
      "Epoch: 0/15, Average loss: 390.7023\n",
      "Epoch: 1/15, Average loss: 329.8947\n",
      "Epoch: 2/15, Average loss: 301.9531\n",
      "Epoch: 3/15, Average loss: 283.2363\n",
      "Epoch: 4/15, Average loss: 270.1758\n",
      "Epoch: 5/15, Average loss: 261.6072\n",
      "Epoch: 6/15, Average loss: 256.2617\n",
      "Epoch: 7/15, Average loss: 252.4125\n",
      "Epoch: 8/15, Average loss: 249.4742\n",
      "Epoch: 9/15, Average loss: 247.0539\n",
      "Epoch: 10/15, Average loss: 245.2985\n",
      "Epoch: 11/15, Average loss: 243.9185\n",
      "Epoch: 12/15, Average loss: 242.5683\n",
      "Epoch: 13/15, Average loss: 241.5314\n",
      "Epoch: 14/15, Average loss: 240.5676\n",
      "Training completato e dati scritti su tensorboard\n",
      "Parameters saved\n"
     ]
    }
   ],
   "source": [
    "\n",
    "#### features = 12, g_model = log(2), epochs = 15, decrease_rate = 0.5, g_HFM per KL = log2, hidden layer = 2\n",
    "\n",
    "writer = SummaryWriter(log_dir='/Users/enricofrausin/Programmazione/PythonProjects/Fisica/runs/discrete_VAE/prior_HFM/FashionMNIST/ld12_glog2_ep15_lmb01_dr05_gKLlog2_NL_2hl_0')\n",
    "my_model = VAE_priorHFM(input_dim=input_dim, latent_dim=12, g=np.log(2), decrease_rate=0.5, device=device, num_hidden_layers=2, LayerNorm=True).to(device)\n",
    "optimizer = optim.Adam(my_model.parameters(), lr=md.learning_rate)\n",
    "train(my_model, _lambda=0.1, writer=writer, train_loader=train_loader, val_loader=val_loader, optimizer=optimizer, device=device, epochs=15, calculate_KL_HFM=True)\n",
    "torch.save(my_model.state_dict(), '/Users/enricofrausin/Programmazione/PythonProjects/Fisica/Architetture/VAE/discrete/models_parameters/priorHFM/FashionMNIST/ld12_glog2_ep15_lmb01_dr05_gKLlog2_NL_2hl_0.pth')\n",
    "print('Parameters saved')\n"
   ]
  },
  {
   "cell_type": "code",
   "execution_count": 16,
   "id": "a9e0e285",
   "metadata": {},
   "outputs": [
    {
     "name": "stdout",
     "output_type": "stream",
     "text": [
      "Epoch: 0/15, Average loss: 392.7611\n",
      "Epoch: 1/15, Average loss: 332.3344\n",
      "Epoch: 2/15, Average loss: 304.8491\n",
      "Epoch: 3/15, Average loss: 285.1961\n",
      "Epoch: 4/15, Average loss: 272.0609\n",
      "Epoch: 5/15, Average loss: 263.5342\n",
      "Epoch: 6/15, Average loss: 257.9186\n",
      "Epoch: 7/15, Average loss: 253.8324\n",
      "Epoch: 8/15, Average loss: 250.7719\n",
      "Epoch: 9/15, Average loss: 248.5465\n",
      "Epoch: 10/15, Average loss: 246.4548\n",
      "Epoch: 11/15, Average loss: 244.7143\n",
      "Epoch: 12/15, Average loss: 243.6010\n",
      "Epoch: 13/15, Average loss: 242.4122\n",
      "Epoch: 14/15, Average loss: 241.4052\n",
      "Training completato e dati scritti su tensorboard\n",
      "Parameters saved\n"
     ]
    }
   ],
   "source": [
    "\n",
    "#### features = 12, g_model = log(2), epochs = 15, decrease_rate = 0.5, g_HFM per KL = log2, hidden layer = 3\n",
    "\n",
    "writer = SummaryWriter(log_dir='/Users/enricofrausin/Programmazione/PythonProjects/Fisica/Architetture/VAE/discrete/runs/prior_HFM/FashionMNIST/ld12_glog2_ep15_lmb01_dr05_gKLlog2_NL_3hl_0')\n",
    "my_model = VAE_priorHFM(input_dim=input_dim, latent_dim=12, g=np.log(2), decrease_rate=0.5, device=device, num_hidden_layers=3, LayerNorm=True).to(device)\n",
    "optimizer = optim.Adam(my_model.parameters(), lr=md.learning_rate)\n",
    "train(my_model, _lambda=0.1, writer=writer, train_loader=train_loader, val_loader=val_loader, optimizer=optimizer, device=device, epochs=15, calculate_KL_HFM=True)\n",
    "torch.save(my_model.state_dict(), '/Users/enricofrausin/Programmazione/PythonProjects/Fisica/Architetture/VAE/discrete/models_parameters/priorHFM/FashionMNIST/ld12_glog2_ep15_lmb01_dr05_gKLlog2_NL_3hl_0.pth')\n",
    "print('Parameters saved')\n"
   ]
  },
  {
   "cell_type": "code",
   "execution_count": 17,
   "id": "f8cfb242",
   "metadata": {},
   "outputs": [
    {
     "name": "stdout",
     "output_type": "stream",
     "text": [
      "Epoch: 0/15, Average loss: 396.8559\n",
      "Epoch: 1/15, Average loss: 334.7537\n",
      "Epoch: 2/15, Average loss: 309.1033\n",
      "Epoch: 3/15, Average loss: 288.9122\n",
      "Epoch: 4/15, Average loss: 274.7021\n",
      "Epoch: 5/15, Average loss: 265.8321\n",
      "Epoch: 6/15, Average loss: 259.9738\n",
      "Epoch: 7/15, Average loss: 256.1328\n",
      "Epoch: 8/15, Average loss: 252.9517\n",
      "Epoch: 9/15, Average loss: 250.8496\n",
      "Epoch: 10/15, Average loss: 249.0158\n",
      "Epoch: 11/15, Average loss: 247.4768\n",
      "Epoch: 12/15, Average loss: 246.1288\n",
      "Epoch: 13/15, Average loss: 245.3457\n",
      "Epoch: 14/15, Average loss: 244.0072\n",
      "Training completato e dati scritti su tensorboard\n",
      "Parameters saved\n"
     ]
    }
   ],
   "source": [
    "\n",
    "#### features = 12, g_model = log(2), epochs = 15, decrease_rate = 0.5, g_HFM per KL = log2, hidden layers = 4\n",
    "\n",
    "writer = SummaryWriter(log_dir='/Users/enricofrausin/Programmazione/PythonProjects/Fisica/Architetture/VAE/discrete/runs/prior_HFM/FashionMNIST/ld12_glog2_ep15_lmb01_dr05_gKLlog2_LN_4hl_0')\n",
    "my_model = VAE_priorHFM(input_dim=input_dim, latent_dim=12, g=np.log(2), decrease_rate=0.5, device=device, num_hidden_layers=4, LayerNorm=True).to(device)\n",
    "optimizer = optim.Adam(my_model.parameters(), lr=md.learning_rate)\n",
    "train(my_model, _lambda=0.1, writer=writer, train_loader=train_loader, val_loader=val_loader, optimizer=optimizer, device=device, epochs=15, calculate_KL_HFM=True)\n",
    "torch.save(my_model.state_dict(), '/Users/enricofrausin/Programmazione/PythonProjects/Fisica/Architetture/VAE/discrete/models_parameters/priorHFM/FashionMNIST/ld12_glog2_ep15_lmb01_dr05_gKLlog2_LN_4hl_0.pth')\n",
    "print('Parameters saved')\n"
   ]
  },
  {
   "cell_type": "code",
   "execution_count": 18,
   "id": "30ee9ac2",
   "metadata": {},
   "outputs": [
    {
     "name": "stdout",
     "output_type": "stream",
     "text": [
      "Epoch: 0/15, Average loss: 407.5538\n",
      "Epoch: 1/15, Average loss: 340.1971\n",
      "Epoch: 2/15, Average loss: 314.3715\n",
      "Epoch: 3/15, Average loss: 298.1911\n",
      "Epoch: 4/15, Average loss: 284.1517\n",
      "Epoch: 5/15, Average loss: 272.4562\n",
      "Epoch: 6/15, Average loss: 265.0021\n",
      "Epoch: 7/15, Average loss: 259.9460\n",
      "Epoch: 8/15, Average loss: 256.7584\n",
      "Epoch: 9/15, Average loss: 253.5896\n",
      "Epoch: 10/15, Average loss: 251.3511\n",
      "Epoch: 11/15, Average loss: 249.8446\n",
      "Epoch: 12/15, Average loss: 248.3605\n",
      "Epoch: 13/15, Average loss: 247.4314\n",
      "Epoch: 14/15, Average loss: 246.2766\n",
      "Training completato e dati scritti su tensorboard\n",
      "Parameters saved\n"
     ]
    }
   ],
   "source": [
    "\n",
    "#### features = 12, g_model = log(2), epochs = 15, decrease_rate = 0.55, g_HFM per KL = log2, hidden layers = 5\n",
    "\n",
    "writer = SummaryWriter(log_dir='/Users/enricofrausin/Programmazione/PythonProjects/Fisica/Architetture/VAE/discrete/runs/prior_HFM/FashionMNIST/ld12_glog2_ep15_lmb01_dr055_gKLlog2_NL_5hl_0')\n",
    "my_model = VAE_priorHFM(input_dim=input_dim, latent_dim=12, g=np.log(2), decrease_rate=0.55, device=device, num_hidden_layers=5, LayerNorm=True).to(device)\n",
    "optimizer = optim.Adam(my_model.parameters(), lr=md.learning_rate)\n",
    "train(my_model, _lambda=0.1, writer=writer, train_loader=train_loader, val_loader=val_loader, optimizer=optimizer, device=device, epochs=15, calculate_KL_HFM=True)\n",
    "torch.save(my_model.state_dict(), '/Users/enricofrausin/Programmazione/PythonProjects/Fisica/Architetture/VAE/discrete/models_parameters/priorHFM/FashionMNIST/ld12_glog2_ep15_lmb01_dr055_gKLlog2_NL_5hl_0.pth')\n",
    "print('Parameters saved')\n"
   ]
  },
  {
   "cell_type": "code",
   "execution_count": 19,
   "id": "0b8885a9",
   "metadata": {},
   "outputs": [
    {
     "name": "stdout",
     "output_type": "stream",
     "text": [
      "Epoch: 0/15, Average loss: 403.7192\n",
      "Epoch: 1/15, Average loss: 344.3157\n",
      "Epoch: 2/15, Average loss: 318.1620\n",
      "Epoch: 3/15, Average loss: 302.7861\n",
      "Epoch: 4/15, Average loss: 290.4061\n",
      "Epoch: 5/15, Average loss: 278.3420\n",
      "Epoch: 6/15, Average loss: 270.3972\n",
      "Epoch: 7/15, Average loss: 265.0974\n",
      "Epoch: 8/15, Average loss: 261.1610\n",
      "Epoch: 9/15, Average loss: 258.2593\n",
      "Epoch: 10/15, Average loss: 256.0371\n",
      "Epoch: 11/15, Average loss: 253.8625\n",
      "Epoch: 12/15, Average loss: 252.1910\n",
      "Epoch: 13/15, Average loss: 251.3083\n",
      "Epoch: 14/15, Average loss: 249.6799\n",
      "Training completato e dati scritti su tensorboard\n",
      "Parameters saved\n"
     ]
    }
   ],
   "source": [
    "\n",
    "#### features = 12, g_model = log(2), epochs = 15, decrease_rate = 0.6, g_HFM per KL = log2, hidden layers = 6\n",
    "\n",
    "writer = SummaryWriter(log_dir='/Users/enricofrausin/Programmazione/PythonProjects/Fisica/Architetture/VAE/discrete/runs/prior_HFM/FashionMNIST/ld12_glog2_ep15_lmb01_dr06_gKLlog2_NL_6hl_0')\n",
    "my_model = VAE_priorHFM(input_dim=input_dim, latent_dim=12, g=np.log(2), decrease_rate=0.6, device=device, num_hidden_layers=6, LayerNorm=True).to(device)\n",
    "optimizer = optim.Adam(my_model.parameters(), lr=md.learning_rate)\n",
    "train(my_model, _lambda=0.1, writer=writer, train_loader=train_loader, val_loader=val_loader, optimizer=optimizer, device=device, epochs=15, calculate_KL_HFM=True)\n",
    "torch.save(my_model.state_dict(), '/Users/enricofrausin/Programmazione/PythonProjects/Fisica/Architetture/VAE/discrete/models_parameters/priorHFM/FashionMNIST/ld12_glog2_ep15_lmb01_dr06_gKLlog2_NL_6hl_0.pth')\n",
    "print('Parameters saved')\n"
   ]
  },
  {
   "cell_type": "markdown",
   "id": "30ee527f",
   "metadata": {},
   "source": [
    "\n",
    "### latent_dim = 8\n"
   ]
  },
  {
   "cell_type": "markdown",
   "id": "7335bf3c",
   "metadata": {},
   "source": [
    "\n",
    "#### features = 8, g_model = log(2), epochs = 15, decrease_rate = 0.5, g_HFM per KL = log2, hidden layer = 1\n"
   ]
  },
  {
   "cell_type": "code",
   "execution_count": 25,
   "id": "a60ff162",
   "metadata": {},
   "outputs": [
    {
     "name": "stdout",
     "output_type": "stream",
     "text": [
      "Epoch: 0/15, Average loss: 393.8527\n",
      "Epoch: 1/15, Average loss: 333.0312\n",
      "Epoch: 2/15, Average loss: 307.6510\n",
      "Epoch: 3/15, Average loss: 290.6462\n",
      "Epoch: 4/15, Average loss: 277.5916\n",
      "Epoch: 5/15, Average loss: 268.8914\n",
      "Epoch: 6/15, Average loss: 263.5379\n",
      "Epoch: 7/15, Average loss: 259.7359\n",
      "Epoch: 8/15, Average loss: 256.8149\n",
      "Epoch: 9/15, Average loss: 254.4613\n",
      "Epoch: 10/15, Average loss: 252.5904\n",
      "Epoch: 11/15, Average loss: 250.8536\n",
      "Epoch: 12/15, Average loss: 249.6486\n",
      "Epoch: 13/15, Average loss: 248.5295\n",
      "Epoch: 14/15, Average loss: 247.4250\n",
      "Training completato e dati scritti su tensorboard\n",
      "Parameters saved\n"
     ]
    }
   ],
   "source": [
    "\n",
    "writer = SummaryWriter(log_dir='/Users/enricofrausin/Programmazione/PythonProjects/Fisica/runs/discrete_VAE/prior_HFM/FashionMNIST/ld8_glog2_ep7_lmb01_dr05_gKLlog2_LN_1hl_0')\n",
    "my_model = VAE_priorHFM(input_dim=input_dim, latent_dim=8, g=np.log(2), decrease_rate=0.5, device=device, num_hidden_layers=1, LayerNorm=True).to(device)\n",
    "optimizer = optim.Adam(my_model.parameters(), lr=md.learning_rate)\n",
    "train(my_model, _lambda=0.1, writer=writer, train_loader=train_loader, val_loader=val_loader, optimizer=optimizer, device=device, epochs=15, calculate_KL_HFM=True)\n",
    "torch.save(my_model.state_dict(), '/Users/enricofrausin/Programmazione/PythonProjects/Fisica/Architetture/VAE/discrete/models_parameters/priorHFM/FashionMNIST/ld8_glog2_ep7_lmb01_dr05_gKLlog2_LN_1hl_0.pth')\n",
    "print('Parameters saved')\n"
   ]
  },
  {
   "cell_type": "markdown",
   "id": "fd6d532d",
   "metadata": {},
   "source": [
    "\n",
    "\n",
    "#### features = 8, g_model = log(2), epochs = 15, decrease_rate = 0.5, g_HFM per KL = log2, hidden layer = 2\n",
    "\n"
   ]
  },
  {
   "cell_type": "code",
   "execution_count": null,
   "id": "4cf09cf2",
   "metadata": {},
   "outputs": [
    {
     "name": "stdout",
     "output_type": "stream",
     "text": [
      "Epoch: 0/15, Average loss: 394.6638\n",
      "Epoch: 1/15, Average loss: 333.7562\n",
      "Epoch: 2/15, Average loss: 307.5900\n",
      "Epoch: 3/15, Average loss: 289.5058\n",
      "Epoch: 4/15, Average loss: 276.9208\n",
      "Epoch: 5/15, Average loss: 268.5197\n",
      "Epoch: 6/15, Average loss: 262.9799\n",
      "Epoch: 7/15, Average loss: 259.2604\n",
      "Epoch: 8/15, Average loss: 256.2368\n",
      "Epoch: 9/15, Average loss: 253.8237\n",
      "Epoch: 10/15, Average loss: 251.8655\n",
      "Epoch: 11/15, Average loss: 250.1550\n",
      "Epoch: 12/15, Average loss: 248.6765\n",
      "Epoch: 13/15, Average loss: 247.2953\n",
      "Epoch: 14/15, Average loss: 246.0844\n",
      "Training completato e dati scritti su tensorboard\n",
      "Parameters saved\n"
     ]
    }
   ],
   "source": [
    "\n",
    "\n",
    "writer = SummaryWriter(log_dir='/Users/enricofrausin/Programmazione/PythonProjects/Fisica/runs/discrete_VAE/prior_HFM/FashionMNIST/ld8_glog2_ep15_lmb01_dr05_gKLlog2_NL_2hl_0')\n",
    "my_model = VAE_priorHFM(input_dim=input_dim, latent_dim=8, g=np.log(2), decrease_rate=0.5, device=device, num_hidden_layers=2, LayerNorm=True).to(device)\n",
    "optimizer = optim.Adam(my_model.parameters(), lr=md.learning_rate)\n",
    "train(my_model, _lambda=0.1, writer=writer, train_loader=train_loader, val_loader=val_loader, optimizer=optimizer, device=device, epochs=15, calculate_KL_HFM=True)\n",
    "torch.save(my_model.state_dict(), '/Users/enricofrausin/Programmazione/PythonProjects/Fisica/Architetture/VAE/discrete/models_parameters/priorHFM/FashionMNIST/ld8_glog2_ep15_lmb01_dr05_gKLlog2_NL_2hl_0.pth')\n",
    "print('Parameters saved')"
   ]
  },
  {
   "cell_type": "markdown",
   "id": "3d8d3169",
   "metadata": {},
   "source": [
    "\n",
    "#### features = 8, g_model = log(2), epochs = 15, decrease_rate = 0.5, g_HFM per KL = log2, hidden layer = 3\n",
    "\n"
   ]
  },
  {
   "cell_type": "code",
   "execution_count": 27,
   "id": "078fdb90",
   "metadata": {},
   "outputs": [
    {
     "name": "stdout",
     "output_type": "stream",
     "text": [
      "Epoch: 0/15, Average loss: 397.8299\n",
      "Epoch: 1/15, Average loss: 335.6916\n",
      "Epoch: 2/15, Average loss: 310.4764\n",
      "Epoch: 3/15, Average loss: 292.3859\n",
      "Epoch: 4/15, Average loss: 278.5663\n",
      "Epoch: 5/15, Average loss: 269.3754\n",
      "Epoch: 6/15, Average loss: 263.2122\n",
      "Epoch: 7/15, Average loss: 258.7293\n",
      "Epoch: 8/15, Average loss: 255.4832\n",
      "Epoch: 9/15, Average loss: 253.1279\n",
      "Epoch: 10/15, Average loss: 250.9017\n",
      "Epoch: 11/15, Average loss: 249.3471\n",
      "Epoch: 12/15, Average loss: 247.9899\n",
      "Epoch: 13/15, Average loss: 246.8600\n",
      "Epoch: 14/15, Average loss: 245.4575\n",
      "Training completato e dati scritti su tensorboard\n",
      "Parameters saved\n"
     ]
    }
   ],
   "source": [
    "\n",
    "\n",
    "writer = SummaryWriter(log_dir='/Users/enricofrausin/Programmazione/PythonProjects/Fisica/runs/discrete_VAE/prior_HFM/FashionMNIST/ld8_glog2_ep15_lmb01_dr05_gKLlog2_NL_3hl_0')\n",
    "my_model = VAE_priorHFM(input_dim=input_dim, latent_dim=8, g=np.log(2), decrease_rate=0.5, device=device, num_hidden_layers=3, LayerNorm=True).to(device)\n",
    "optimizer = optim.Adam(my_model.parameters(), lr=md.learning_rate)\n",
    "train(my_model, _lambda=0.1, writer=writer, train_loader=train_loader, val_loader=val_loader, optimizer=optimizer, device=device, epochs=15, calculate_KL_HFM=True)\n",
    "torch.save(my_model.state_dict(), '/Users/enricofrausin/Programmazione/PythonProjects/Fisica/Architetture/VAE/discrete/models_parameters/priorHFM/FashionMNIST/ld8_glog2_ep15_lmb01_dr05_gKLlog2_NL_3hl_0.pth')\n",
    "print('Parameters saved')\n"
   ]
  },
  {
   "cell_type": "markdown",
   "id": "ab729425",
   "metadata": {},
   "source": [
    "\n",
    "\n",
    "#### features = 8, g_model = log(2), epochs = 15, decrease_rate = 0.5, g_HFM per KL = log2, hidden layers = 4\n",
    "\n"
   ]
  },
  {
   "cell_type": "code",
   "execution_count": 28,
   "id": "e47c8576",
   "metadata": {},
   "outputs": [
    {
     "name": "stdout",
     "output_type": "stream",
     "text": [
      "Epoch: 0/15, Average loss: 398.3482\n",
      "Epoch: 1/15, Average loss: 336.9857\n",
      "Epoch: 2/15, Average loss: 312.6492\n",
      "Epoch: 3/15, Average loss: 295.5657\n",
      "Epoch: 4/15, Average loss: 281.1785\n",
      "Epoch: 5/15, Average loss: 271.4434\n",
      "Epoch: 6/15, Average loss: 265.2860\n",
      "Epoch: 7/15, Average loss: 261.1684\n",
      "Epoch: 8/15, Average loss: 258.2306\n",
      "Epoch: 9/15, Average loss: 256.0380\n",
      "Epoch: 10/15, Average loss: 253.8234\n",
      "Epoch: 11/15, Average loss: 252.1474\n",
      "Epoch: 12/15, Average loss: 250.8369\n",
      "Epoch: 13/15, Average loss: 249.6603\n",
      "Epoch: 14/15, Average loss: 248.8128\n",
      "Training completato e dati scritti su tensorboard\n",
      "Parameters saved\n"
     ]
    }
   ],
   "source": [
    "\n",
    "\n",
    "writer = SummaryWriter(log_dir='/Users/enricofrausin/Programmazione/PythonProjects/Fisica/runs/discrete_VAE/prior_HFM/FashionMNIST/ld8_glog2_ep15_lmb01_dr05_gKLlog2_LN_4hl_0')\n",
    "my_model = VAE_priorHFM(input_dim=input_dim, latent_dim=8, g=np.log(2), decrease_rate=0.5, device=device, num_hidden_layers=4, LayerNorm=True).to(device)\n",
    "optimizer = optim.Adam(my_model.parameters(), lr=md.learning_rate)\n",
    "train(my_model, _lambda=0.1, writer=writer, train_loader=train_loader, val_loader=val_loader, optimizer=optimizer, device=device, epochs=15, calculate_KL_HFM=True)\n",
    "torch.save(my_model.state_dict(), '/Users/enricofrausin/Programmazione/PythonProjects/Fisica/Architetture/VAE/discrete/models_parameters/priorHFM/FashionMNIST/ld8_glog2_ep15_lmb01_dr05_gKLlog2_LN_4hl_0.pth')\n",
    "print('Parameters saved')"
   ]
  },
  {
   "cell_type": "code",
   "execution_count": 35,
   "id": "7b53882b",
   "metadata": {},
   "outputs": [
    {
     "data": {
      "image/png": "[encoded data removed]",
      "text/plain": [
       "<Figure size 1000x400 with 10 Axes>"
      ]
     },
     "metadata": {},
     "output_type": "display_data"
    },
    {
     "data": {
      "image/png": "[encoded data removed]",
      "text/plain": [
       "<Figure size 1000x400 with 10 Axes>"
      ]
     },
     "metadata": {},
     "output_type": "display_data"
    }
   ],
   "source": [
    "sample_images(my_model)"
   ]
  },
  {
   "cell_type": "markdown",
   "id": "b95d1160",
   "metadata": {},
   "source": [
    "\n",
    "\n",
    "\n",
    "#### features = 8, g_model = log(2), epochs = 15, decrease_rate = 0.55, g_HFM per KL = log2, hidden layers = 5\n",
    "\n"
   ]
  },
  {
   "cell_type": "code",
   "execution_count": 38,
   "id": "af2e2611",
   "metadata": {},
   "outputs": [
    {
     "name": "stdout",
     "output_type": "stream",
     "text": [
      "Epoch: 0/15, Average loss: 400.3358\n",
      "Epoch: 1/15, Average loss: 340.4148\n",
      "Epoch: 2/15, Average loss: 317.3384\n",
      "Epoch: 3/15, Average loss: 302.8063\n",
      "Epoch: 4/15, Average loss: 290.0570\n",
      "Epoch: 5/15, Average loss: 277.6104\n",
      "Epoch: 6/15, Average loss: 269.5549\n",
      "Epoch: 7/15, Average loss: 264.5253\n",
      "Epoch: 8/15, Average loss: 260.6654\n",
      "Epoch: 9/15, Average loss: 258.6063\n",
      "Epoch: 10/15, Average loss: 256.3294\n",
      "Epoch: 11/15, Average loss: 254.8966\n",
      "Epoch: 12/15, Average loss: 253.4899\n",
      "Epoch: 13/15, Average loss: 252.2174\n",
      "Epoch: 14/15, Average loss: 251.0709\n",
      "Training completato e dati scritti su tensorboard\n",
      "Parameters saved\n"
     ]
    }
   ],
   "source": [
    "\n",
    "\n",
    "writer = SummaryWriter(log_dir='/Users/enricofrausin/Programmazione/PythonProjects/Fisica/runs/discrete_VAE/prior_HFM/FashionMNIST/ld8_glog2_ep15_lmb01_dr055_gKLlog2_NL_5hl_0')\n",
    "my_model = VAE_priorHFM(input_dim=input_dim, latent_dim=8, g=np.log(2), decrease_rate=0.55, device=device, num_hidden_layers=5, LayerNorm=True).to(device)\n",
    "optimizer = optim.Adam(my_model.parameters(), lr=md.learning_rate)\n",
    "train(my_model, _lambda=0.1, writer=writer, train_loader=train_loader, val_loader=val_loader, optimizer=optimizer, device=device, epochs=15, calculate_KL_HFM=True)\n",
    "torch.save(my_model.state_dict(), '/Users/enricofrausin/Programmazione/PythonProjects/Fisica/Architetture/VAE/discrete/models_parameters/priorHFM/FashionMNIST/ld8_glog2_ep15_lmb01_dr055_gKLlog2_NL_5hl_0.pth')\n",
    "print('Parameters saved')\n",
    "\n"
   ]
  },
  {
   "cell_type": "markdown",
   "id": "cdb2d680",
   "metadata": {},
   "source": [
    "\n",
    "\n",
    "#### features = 8, g_model = log(2), epochs = 15, decrease_rate = 0.6, g_HFM per KL = log2, hidden layers = 6\n"
   ]
  },
  {
   "cell_type": "code",
   "execution_count": 37,
   "id": "52b93dbd",
   "metadata": {},
   "outputs": [
    {
     "name": "stdout",
     "output_type": "stream",
     "text": [
      "Epoch: 0/15, Average loss: 402.9198\n",
      "Epoch: 1/15, Average loss: 345.1993\n",
      "Epoch: 2/15, Average loss: 321.5186\n",
      "Epoch: 3/15, Average loss: 306.7467\n",
      "Epoch: 4/15, Average loss: 296.3839\n",
      "Epoch: 5/15, Average loss: 283.5194\n",
      "Epoch: 6/15, Average loss: 274.3747\n",
      "Epoch: 7/15, Average loss: 267.8208\n",
      "Epoch: 8/15, Average loss: 263.7321\n",
      "Epoch: 9/15, Average loss: 260.8180\n",
      "Epoch: 10/15, Average loss: 258.8114\n",
      "Epoch: 11/15, Average loss: 256.8465\n",
      "Epoch: 12/15, Average loss: 254.9873\n",
      "Epoch: 13/15, Average loss: 254.0814\n",
      "Epoch: 14/15, Average loss: 252.5321\n",
      "Training completato e dati scritti su tensorboard\n",
      "Parameters saved\n"
     ]
    }
   ],
   "source": [
    "\n",
    "\n",
    "writer = SummaryWriter(log_dir='/Users/enricofrausin/Programmazione/PythonProjects/Fisica/runs/discrete_VAE/prior_HFM/FashionMNIST/ld8_glog2_ep15_lmb01_dr06_gKLlog2_NL_6hl_0')\n",
    "my_model = VAE_priorHFM(input_dim=input_dim, latent_dim=8, g=np.log(2), decrease_rate=0.6, device=device, num_hidden_layers=6, LayerNorm=True).to(device)\n",
    "optimizer = optim.Adam(my_model.parameters(), lr=md.learning_rate)\n",
    "train(my_model, _lambda=0.1, writer=writer, train_loader=train_loader, val_loader=val_loader, optimizer=optimizer, device=device, epochs=15, calculate_KL_HFM=True)\n",
    "torch.save(my_model.state_dict(), '/Users/enricofrausin/Programmazione/PythonProjects/Fisica/Architetture/VAE/discrete/models_parameters/priorHFM/FashionMNIST/ld8_glog2_ep15_lmb01_dr06_gKLlog2_NL_6hl_0.pth')\n",
    "print('Parameters saved')"
   ]
  },
  {
   "cell_type": "markdown",
   "id": "7a490788",
   "metadata": {},
   "source": [
    "### latent_dim = 20"
   ]
  },
  {
   "cell_type": "markdown",
   "id": "d161bc2f",
   "metadata": {},
   "source": [
    "#### features = 20, g_model = log(2), epochs = 20, decrease_rate = 0.5, g_HFM per KL = log2, hidden layer = 1"
   ]
  },
  {
   "cell_type": "code",
   "execution_count": null,
   "id": "e0a60380",
   "metadata": {},
   "outputs": [],
   "source": [
    "writer = SummaryWriter(log_dir='/Users/enricofrausin/Programmazione/PythonProjects/Fisica/runs/discrete_VAE/prior_HFM/FashionMNIST/ld20_glog2_ep20_lmb01_dr05_gKLlog2_LN_1hl_0')\n",
    "my_model = VAE_priorHFM(input_dim=input_dim, latent_dim=20, g=np.log(2), decrease_rate=0.5, device=device, num_hidden_layers=1, LayerNorm=True).to(device)\n",
    "optimizer = optim.Adam(my_model.parameters(), lr=md.learning_rate)\n",
    "train(my_model, _lambda=0.1, writer=writer, train_loader=train_loader, val_loader=val_loader, optimizer=optimizer, device=device, epochs=20, calculate_KL_HFM=True)\n",
    "torch.save(my_model.state_dict(), '/Users/enricofrausin/Programmazione/PythonProjects/Fisica/Architetture/VAE/discrete/models_parameters/priorHFM/FashionMNIST/ld20_glog2_ep20_lmb01_dr05_gKLlog2_LN_1hl_0.pth')\n",
    "print('Parameters saved')\n"
   ]
  },
  {
   "cell_type": "markdown",
   "id": "54de308c",
   "metadata": {},
   "source": [
    "#### features = 20, g_model = log(2), epochs = 20, decrease_rate = 0.5, g_HFM per KL = log2, hidden layer = 2\n"
   ]
  },
  {
   "cell_type": "code",
   "execution_count": 22,
   "id": "75e70b52",
   "metadata": {},
   "outputs": [
    {
     "name": "stdout",
     "output_type": "stream",
     "text": [
      "Epoch: 0/20, Average loss: 389.0890\n",
      "Epoch: 1/20, Average loss: 325.6962\n",
      "Epoch: 2/20, Average loss: 296.0037\n",
      "Epoch: 3/20, Average loss: 276.8709\n",
      "Epoch: 4/20, Average loss: 264.3897\n",
      "Epoch: 5/20, Average loss: 256.0267\n",
      "Epoch: 6/20, Average loss: 250.3627\n",
      "Epoch: 7/20, Average loss: 246.3227\n",
      "Epoch: 8/20, Average loss: 243.3773\n",
      "Epoch: 9/20, Average loss: 240.8766\n",
      "Epoch: 10/20, Average loss: 239.0853\n",
      "Epoch: 11/20, Average loss: 237.3914\n",
      "Epoch: 12/20, Average loss: 236.1984\n",
      "Epoch: 13/20, Average loss: 235.3642\n",
      "Epoch: 14/20, Average loss: 234.4350\n",
      "Epoch: 15/20, Average loss: 233.6106\n",
      "Epoch: 16/20, Average loss: 232.8913\n",
      "Epoch: 17/20, Average loss: 232.4347\n",
      "Epoch: 18/20, Average loss: 232.0001\n",
      "Epoch: 19/20, Average loss: 231.4370\n",
      "Training completato e dati scritti su tensorboard\n",
      "Parameters saved\n"
     ]
    }
   ],
   "source": [
    "writer = SummaryWriter(log_dir='/Users/enricofrausin/Programmazione/PythonProjects/Fisica/runs/discrete_VAE/prior_HFM/FashionMNIST/ld20_glog2_ep20_lmb01_dr05_gKLlog2_NL_2hl_0')\n",
    "my_model = VAE_priorHFM(input_dim=input_dim, latent_dim=20, g=np.log(2), decrease_rate=0.5, device=device, num_hidden_layers=2, LayerNorm=True).to(device)\n",
    "optimizer = optim.Adam(my_model.parameters(), lr=md.learning_rate)\n",
    "train(my_model, _lambda=0.1, writer=writer, train_loader=train_loader, val_loader=val_loader, optimizer=optimizer, device=device, epochs=20, calculate_KL_HFM=True)\n",
    "torch.save(my_model.state_dict(), '/Users/enricofrausin/Programmazione/PythonProjects/Fisica/Architetture/VAE/discrete/models_parameters/priorHFM/FashionMNIST/ld20_glog2_ep20_lmb01_dr05_gKLlog2_NL_2hl_0.pth')\n",
    "print('Parameters saved')\n"
   ]
  },
  {
   "cell_type": "markdown",
   "id": "2b33c17e",
   "metadata": {},
   "source": [
    "#### features = 20, g_model = log(2), epochs = 20, decrease_rate = 0.5, g_HFM per KL = log2, hidden layer = 3\n"
   ]
  },
  {
   "cell_type": "code",
   "execution_count": 21,
   "id": "c3a7a863",
   "metadata": {},
   "outputs": [
    {
     "name": "stdout",
     "output_type": "stream",
     "text": [
      "Epoch: 0/20, Average loss: 392.7184\n",
      "Epoch: 1/20, Average loss: 330.1752\n",
      "Epoch: 2/20, Average loss: 300.8050\n",
      "Epoch: 3/20, Average loss: 281.0163\n",
      "Epoch: 4/20, Average loss: 267.9777\n",
      "Epoch: 5/20, Average loss: 259.1248\n",
      "Epoch: 6/20, Average loss: 252.9723\n",
      "Epoch: 7/20, Average loss: 248.8830\n",
      "Epoch: 8/20, Average loss: 245.6547\n",
      "Epoch: 9/20, Average loss: 243.3275\n",
      "Epoch: 10/20, Average loss: 241.1693\n",
      "Epoch: 11/20, Average loss: 239.6135\n",
      "Epoch: 12/20, Average loss: 238.4788\n",
      "Epoch: 13/20, Average loss: 237.2878\n",
      "Epoch: 14/20, Average loss: 235.9741\n",
      "Epoch: 15/20, Average loss: 235.5782\n",
      "Epoch: 16/20, Average loss: 234.4863\n",
      "Epoch: 17/20, Average loss: 234.0487\n",
      "Epoch: 18/20, Average loss: 233.5277\n",
      "Epoch: 19/20, Average loss: 232.8822\n",
      "Training completato e dati scritti su tensorboard\n",
      "Parameters saved\n"
     ]
    }
   ],
   "source": [
    "writer = SummaryWriter(log_dir='/Users/enricofrausin/Programmazione/PythonProjects/Fisica/runs/discrete_VAE/prior_HFM/FashionMNIST/ld20_glog2_ep20_lmb01_dr05_gKLlog2_NL_3hl_0')\n",
    "my_model = VAE_priorHFM(input_dim=input_dim, latent_dim=20, g=np.log(2), decrease_rate=0.5, device=device, num_hidden_layers=3, LayerNorm=True).to(device)\n",
    "optimizer = optim.Adam(my_model.parameters(), lr=md.learning_rate)\n",
    "train(my_model, _lambda=0.1, writer=writer, train_loader=train_loader, val_loader=val_loader, optimizer=optimizer, device=device, epochs=20, calculate_KL_HFM=True)\n",
    "torch.save(my_model.state_dict(), '/Users/enricofrausin/Programmazione/PythonProjects/Fisica/Architetture/VAE/discrete/models_parameters/priorHFM/FashionMNIST/ld20_glog2_ep20_lmb01_dr05_gKLlog2_NL_3hl_0.pth')\n",
    "print('Parameters saved')\n"
   ]
  },
  {
   "cell_type": "markdown",
   "id": "33256f52",
   "metadata": {},
   "source": [
    "#### features = 20, g_model = log(2), epochs = 20, decrease_rate = 0.5, g_HFM per KL = log2, hidden layers = 4\n"
   ]
  },
  {
   "cell_type": "code",
   "execution_count": 20,
   "id": "6428009e",
   "metadata": {},
   "outputs": [
    {
     "name": "stdout",
     "output_type": "stream",
     "text": [
      "Epoch: 0/20, Average loss: 392.8488\n",
      "Epoch: 1/20, Average loss: 331.2440\n",
      "Epoch: 2/20, Average loss: 303.7108\n",
      "Epoch: 3/20, Average loss: 283.6276\n",
      "Epoch: 4/20, Average loss: 270.1510\n",
      "Epoch: 5/20, Average loss: 261.5015\n",
      "Epoch: 6/20, Average loss: 255.8282\n",
      "Epoch: 7/20, Average loss: 251.6353\n",
      "Epoch: 8/20, Average loss: 248.6680\n",
      "Epoch: 9/20, Average loss: 246.2480\n",
      "Epoch: 10/20, Average loss: 244.4681\n",
      "Epoch: 11/20, Average loss: 242.5636\n",
      "Epoch: 12/20, Average loss: 241.5544\n",
      "Epoch: 13/20, Average loss: 240.5480\n",
      "Epoch: 14/20, Average loss: 239.3995\n",
      "Epoch: 15/20, Average loss: 238.5651\n",
      "Epoch: 16/20, Average loss: 237.6737\n",
      "Epoch: 17/20, Average loss: 237.2265\n",
      "Epoch: 18/20, Average loss: 236.5799\n",
      "Epoch: 19/20, Average loss: 235.9901\n",
      "Training completato e dati scritti su tensorboard\n",
      "Parameters saved\n"
     ]
    }
   ],
   "source": [
    "writer = SummaryWriter(log_dir='/Users/enricofrausin/Programmazione/PythonProjects/Fisica/runs/discrete_VAE/prior_HFM/FashionMNIST/ld20_glog2_ep20_lmb01_dr05_gKLlog2_LN_4hl_0')\n",
    "my_model = VAE_priorHFM(input_dim=input_dim, latent_dim=20, g=np.log(2), decrease_rate=0.5, device=device, num_hidden_layers=4, LayerNorm=True).to(device)\n",
    "optimizer = optim.Adam(my_model.parameters(), lr=md.learning_rate)\n",
    "train(my_model, _lambda=0.1, writer=writer, train_loader=train_loader, val_loader=val_loader, optimizer=optimizer, device=device, epochs=20, calculate_KL_HFM=True)\n",
    "torch.save(my_model.state_dict(), '/Users/enricofrausin/Programmazione/PythonProjects/Fisica/Architetture/VAE/discrete/models_parameters/priorHFM/FashionMNIST/ld20_glog2_ep20_lmb01_dr05_gKLlog2_LN_4hl_0.pth')\n",
    "print('Parameters saved')\n"
   ]
  },
  {
   "cell_type": "markdown",
   "id": "ff333e97",
   "metadata": {},
   "source": [
    "#### features = 20, g_model = log(2), epochs = 20, hidden layers = 5, decrease_rate = 0.55, g_HFM per KL = log2\n"
   ]
  },
  {
   "cell_type": "code",
   "execution_count": 19,
   "id": "2f7a1169",
   "metadata": {},
   "outputs": [
    {
     "name": "stdout",
     "output_type": "stream",
     "text": [
      "Epoch: 0/20, Average loss: 397.4748\n",
      "Epoch: 1/20, Average loss: 333.8013\n",
      "Epoch: 2/20, Average loss: 308.7578\n",
      "Epoch: 3/20, Average loss: 288.8149\n",
      "Epoch: 4/20, Average loss: 274.2027\n",
      "Epoch: 5/20, Average loss: 265.1079\n",
      "Epoch: 6/20, Average loss: 259.0098\n",
      "Epoch: 7/20, Average loss: 254.6710\n",
      "Epoch: 8/20, Average loss: 251.5748\n",
      "Epoch: 9/20, Average loss: 249.3519\n",
      "Epoch: 10/20, Average loss: 247.4829\n",
      "Epoch: 11/20, Average loss: 245.3746\n",
      "Epoch: 12/20, Average loss: 244.7032\n",
      "Epoch: 13/20, Average loss: 242.9167\n",
      "Epoch: 14/20, Average loss: 241.8273\n",
      "Epoch: 15/20, Average loss: 241.1356\n",
      "Epoch: 16/20, Average loss: 240.2478\n",
      "Epoch: 17/20, Average loss: 239.6516\n",
      "Epoch: 18/20, Average loss: 238.8100\n",
      "Epoch: 19/20, Average loss: 239.0816\n",
      "Training completato e dati scritti su tensorboard\n",
      "Parameters saved\n"
     ]
    }
   ],
   "source": [
    "writer = SummaryWriter(log_dir='/Users/enricofrausin/Programmazione/PythonProjects/Fisica/runs/discrete_VAE/prior_HFM/FashionMNIST/ld20_glog2_ep20_lmb01_dr055_gKLlog2_NL_5hl_0')\n",
    "my_model = VAE_priorHFM(input_dim=input_dim, latent_dim=20, g=np.log(2), decrease_rate=0.55, device=device, num_hidden_layers=5, LayerNorm=True).to(device)\n",
    "optimizer = optim.Adam(my_model.parameters(), lr=md.learning_rate)\n",
    "train(my_model, _lambda=0.1, writer=writer, train_loader=train_loader, val_loader=val_loader, optimizer=optimizer, device=device, epochs=20, calculate_KL_HFM=True)\n",
    "torch.save(my_model.state_dict(), '/Users/enricofrausin/Programmazione/PythonProjects/Fisica/Architetture/VAE/discrete/models_parameters/priorHFM/FashionMNIST/ld20_glog2_ep20_lmb01_dr055_gKLlog2_NL_5hl_0.pth')\n",
    "print('Parameters saved')\n"
   ]
  },
  {
   "cell_type": "markdown",
   "id": "eb9e4f54",
   "metadata": {},
   "source": [
    "#### features = 20, g_model = log(2), epochs = 20, decrease_rate = 0.6, g_HFM per KL = log2, hidden layers = 6"
   ]
  },
  {
   "cell_type": "code",
   "execution_count": null,
   "id": "b292de8c",
   "metadata": {},
   "outputs": [],
   "source": [
    "writer = SummaryWriter(log_dir='/Users/enricofrausin/Programmazione/PythonProjects/Fisica/runs/discrete_VAE/prior_HFM/FashionMNIST/ld20_glog2_ep20_lmb01_dr06_gKLlog2_NL_6hl_0')\n",
    "my_model = VAE_priorHFM(input_dim=input_dim, latent_dim=20, g=np.log(2), decrease_rate=0.6, device=device, num_hidden_layers=6, LayerNorm=True).to(device)\n",
    "optimizer = optim.Adam(my_model.parameters(), lr=md.learning_rate)\n",
    "train(my_model, _lambda=0.1, writer=writer, train_loader=train_loader, val_loader=val_loader, optimizer=optimizer, device=device, epochs=20, calculate_KL_HFM=True)\n",
    "torch.save(my_model.state_dict(), '/Users/enricofrausin/Programmazione/PythonProjects/Fisica/Architetture/VAE/discrete/models_parameters/priorHFM/FashionMNIST/ld20_glog2_ep20_lmb01_dr06_gKLlog2_NL_6hl_0.pth')\n",
    "print('Parameters saved')\n",
    "\n",
    "\n"
   ]
  },
  {
   "cell_type": "markdown",
   "id": "5f09a48b",
   "metadata": {},
   "source": [
    "## train over pureHFM"
   ]
  },
  {
   "cell_type": "code",
   "execution_count": 5,
   "id": "664bb644",
   "metadata": {},
   "outputs": [],
   "source": [
    "train_loader = train_loader_pureHFM\n",
    "val_loader = val_loader_pureHFM\n",
    "input_dim = 512"
   ]
  },
  {
   "cell_type": "markdown",
   "id": "97cd45d2",
   "metadata": {},
   "source": [
    "### latent_dim = 8\n"
   ]
  },
  {
   "cell_type": "markdown",
   "id": "9483b0f3",
   "metadata": {},
   "source": [
    "#### features = 8, g_model = log(2), epochs = 15, decrease_rate = 0.5, g_HFM per KL = log2, hidden layer = 1\n"
   ]
  },
  {
   "cell_type": "code",
   "execution_count": null,
   "id": "640b1299",
   "metadata": {},
   "outputs": [
    {
     "name": "stdout",
     "output_type": "stream",
     "text": [
      "Epoch: 0/15, Average loss: 284.7243\n",
      "Epoch: 1/15, Average loss: 236.6423\n",
      "Epoch: 2/15, Average loss: 218.7505\n",
      "Epoch: 3/15, Average loss: 208.8073\n",
      "Epoch: 4/15, Average loss: 202.3695\n",
      "Epoch: 5/15, Average loss: 197.5880\n",
      "Epoch: 6/15, Average loss: 194.2041\n",
      "Epoch: 7/15, Average loss: 191.8665\n",
      "Epoch: 8/15, Average loss: 190.1675\n",
      "Epoch: 9/15, Average loss: 188.8633\n",
      "Epoch: 10/15, Average loss: 187.8459\n",
      "Epoch: 11/15, Average loss: 187.0252\n",
      "Epoch: 12/15, Average loss: 186.3370\n",
      "Epoch: 13/15, Average loss: 185.7570\n",
      "Epoch: 14/15, Average loss: 185.2364\n",
      "Training completato e dati scritti su tensorboard\n",
      "Parameters saved\n"
     ]
    }
   ],
   "source": [
    "\n",
    "writer = SummaryWriter(log_dir='/Users/enricofrausin/Programmazione/PythonProjects/Fisica/runs/discrete_VAE/prior_HFM/pureHFM/ld8_glog2_ep15_lmb01_dr05_gKLlog2_LN_1hl_0')\n",
    "my_model = VAE_priorHFM(input_dim=input_dim, latent_dim=8, g=np.log(2), decrease_rate=0.5, device=device, num_hidden_layers=1, LayerNorm=True).to(device)\n",
    "optimizer = optim.Adam(my_model.parameters(), lr=md.learning_rate)\n",
    "train(my_model, _lambda=0.1, writer=writer, train_loader=train_loader, val_loader=val_loader, optimizer=optimizer, device=device, epochs=15, calculate_KL_HFM=True)\n",
    "torch.save(my_model.state_dict(), '/Users/enricofrausin/Programmazione/PythonProjects/Fisica/Architetture/VAE/discrete/models_parameters/priorHFM/pureHFM/ld8_glog2_ep15_lmb01_dr05_gKLlog2_LN_1hl_0.pth')\n",
    "print('Parameters saved')\n",
    "    \n"
   ]
  },
  {
   "cell_type": "markdown",
   "id": "b18b6301",
   "metadata": {},
   "source": [
    "\n",
    "#### features = 8, g_model = log(2), epochs = 15, decrease_rate = 0.5, g_HFM per KL = log2, hidden layer = 2\n",
    "\n"
   ]
  },
  {
   "cell_type": "code",
   "execution_count": 22,
   "id": "09623d9c",
   "metadata": {},
   "outputs": [
    {
     "name": "stdout",
     "output_type": "stream",
     "text": [
      "Epoch: 0/15, Average loss: 284.4261\n",
      "Epoch: 1/15, Average loss: 236.2003\n",
      "Epoch: 2/15, Average loss: 218.4437\n",
      "Epoch: 3/15, Average loss: 208.6953\n",
      "Epoch: 4/15, Average loss: 202.2707\n",
      "Epoch: 5/15, Average loss: 197.5945\n",
      "Epoch: 6/15, Average loss: 194.1586\n",
      "Epoch: 7/15, Average loss: 191.8542\n",
      "Epoch: 8/15, Average loss: 190.2589\n",
      "Epoch: 9/15, Average loss: 188.9879\n",
      "Epoch: 10/15, Average loss: 187.9349\n",
      "Epoch: 11/15, Average loss: 187.0725\n",
      "Epoch: 12/15, Average loss: 186.4054\n",
      "Epoch: 13/15, Average loss: 185.8500\n",
      "Epoch: 14/15, Average loss: 185.2787\n",
      "Training completato e dati scritti su tensorboard\n",
      "Parameters saved\n"
     ]
    }
   ],
   "source": [
    "\n",
    "\n",
    "writer = SummaryWriter(log_dir='/Users/enricofrausin/Programmazione/PythonProjects/Fisica/runs/discrete_VAE/prior_HFM/pureHFM/ld8_glog2_ep15_lmb01_dr05_gKLlog2_NL_2hl_0')\n",
    "my_model = VAE_priorHFM(input_dim=input_dim, latent_dim=8, g=np.log(2), decrease_rate=0.5, device=device, num_hidden_layers=2, LayerNorm=True).to(device)\n",
    "optimizer = optim.Adam(my_model.parameters(), lr=md.learning_rate)\n",
    "train(my_model, _lambda=0.1, writer=writer, train_loader=train_loader, val_loader=val_loader, optimizer=optimizer, device=device, epochs=15, calculate_KL_HFM=True)\n",
    "torch.save(my_model.state_dict(), '/Users/enricofrausin/Programmazione/PythonProjects/Fisica/Architetture/VAE/discrete/models_parameters/priorHFM/pureHFM/ld8_glog2_ep15_lmb01_dr05_gKLlog2_NL_2hl_0.pth')\n",
    "print('Parameters saved')\n"
   ]
  },
  {
   "cell_type": "markdown",
   "id": "22cd401e",
   "metadata": {},
   "source": [
    "\n",
    "\n",
    "\n",
    "#### features = 8, g_model = log(2), epochs = 15, decrease_rate = 0.5, g_HFM per KL = log2, hidden layer = 3\n"
   ]
  },
  {
   "cell_type": "code",
   "execution_count": 23,
   "id": "02ce9a9b",
   "metadata": {},
   "outputs": [
    {
     "name": "stdout",
     "output_type": "stream",
     "text": [
      "Epoch: 0/15, Average loss: 287.3755\n",
      "Epoch: 1/15, Average loss: 237.0502\n",
      "Epoch: 2/15, Average loss: 219.5545\n",
      "Epoch: 3/15, Average loss: 209.5671\n",
      "Epoch: 4/15, Average loss: 202.7791\n",
      "Epoch: 5/15, Average loss: 197.9154\n",
      "Epoch: 6/15, Average loss: 194.5951\n",
      "Epoch: 7/15, Average loss: 192.2125\n",
      "Epoch: 8/15, Average loss: 190.5190\n",
      "Epoch: 9/15, Average loss: 189.2600\n",
      "Epoch: 10/15, Average loss: 188.1938\n",
      "Epoch: 11/15, Average loss: 187.2816\n",
      "Epoch: 12/15, Average loss: 186.8389\n",
      "Epoch: 13/15, Average loss: 186.0661\n",
      "Epoch: 14/15, Average loss: 185.5707\n",
      "Training completato e dati scritti su tensorboard\n",
      "Parameters saved\n"
     ]
    }
   ],
   "source": [
    "\n",
    "\n",
    "\n",
    "writer = SummaryWriter(log_dir='/Users/enricofrausin/Programmazione/PythonProjects/Fisica/runs/discrete_VAE/prior_HFM/pureHFM/ld8_glog2_ep15_lmb01_dr05_gKLlog2_NL_3hl_0')\n",
    "my_model = VAE_priorHFM(input_dim=input_dim, latent_dim=8, g=np.log(2), decrease_rate=0.5, device=device, num_hidden_layers=3, LayerNorm=True).to(device)\n",
    "optimizer = optim.Adam(my_model.parameters(), lr=md.learning_rate)\n",
    "train(my_model, _lambda=0.1, writer=writer, train_loader=train_loader, val_loader=val_loader, optimizer=optimizer, device=device, epochs=15, calculate_KL_HFM=True)\n",
    "torch.save(my_model.state_dict(), '/Users/enricofrausin/Programmazione/PythonProjects/Fisica/Architetture/VAE/discrete/models_parameters/priorHFM/pureHFM/ld8_glog2_ep15_lmb01_dr05_gKLlog2_NL_3hl_0.pth')\n",
    "print('Parameters saved')\n"
   ]
  },
  {
   "cell_type": "markdown",
   "id": "ee8dfeb5",
   "metadata": {},
   "source": [
    "\n",
    "\n",
    "\n",
    "#### features = 8, g_model = log(2), epochs = 15, decrease_rate = 0.5, g_HFM per KL = log2, hidden layers = 4\n"
   ]
  },
  {
   "cell_type": "code",
   "execution_count": 24,
   "id": "c0609fc8",
   "metadata": {},
   "outputs": [
    {
     "name": "stdout",
     "output_type": "stream",
     "text": [
      "Epoch: 0/15, Average loss: 284.7288\n",
      "Epoch: 1/15, Average loss: 236.6928\n",
      "Epoch: 2/15, Average loss: 219.0489\n",
      "Epoch: 3/15, Average loss: 209.1980\n",
      "Epoch: 4/15, Average loss: 202.8524\n",
      "Epoch: 5/15, Average loss: 198.0753\n",
      "Epoch: 6/15, Average loss: 194.6767\n",
      "Epoch: 7/15, Average loss: 192.2970\n",
      "Epoch: 8/15, Average loss: 190.5979\n",
      "Epoch: 9/15, Average loss: 189.3843\n",
      "Epoch: 10/15, Average loss: 188.2781\n",
      "Epoch: 11/15, Average loss: 187.4554\n",
      "Epoch: 12/15, Average loss: 186.7519\n",
      "Epoch: 13/15, Average loss: 186.1111\n",
      "Epoch: 14/15, Average loss: 185.6430\n",
      "Training completato e dati scritti su tensorboard\n",
      "Parameters saved\n"
     ]
    }
   ],
   "source": [
    "\n",
    "\n",
    "\n",
    "writer = SummaryWriter(log_dir='/Users/enricofrausin/Programmazione/PythonProjects/Fisica/runs/discrete_VAE/prior_HFM/pureHFM/ld8_glog2_ep15_lmb01_dr05_gKLlog2_LN_4hl_0')\n",
    "my_model = VAE_priorHFM(input_dim=input_dim, latent_dim=8, g=np.log(2), decrease_rate=0.5, device=device, num_hidden_layers=4, LayerNorm=True).to(device)\n",
    "optimizer = optim.Adam(my_model.parameters(), lr=md.learning_rate)\n",
    "train(my_model, _lambda=0.1, writer=writer, train_loader=train_loader, val_loader=val_loader, optimizer=optimizer, device=device, epochs=15, calculate_KL_HFM=True)\n",
    "torch.save(my_model.state_dict(), '/Users/enricofrausin/Programmazione/PythonProjects/Fisica/Architetture/VAE/discrete/models_parameters/priorHFM/pureHFM/ld8_glog2_ep15_lmb01_dr05_gKLlog2_LN_4hl_0.pth')\n",
    "print('Parameters saved')\n"
   ]
  },
  {
   "cell_type": "markdown",
   "id": "3b9903df",
   "metadata": {},
   "source": [
    "\n",
    "\n",
    "\n",
    "#### features = 8, g_model = log(2), epochs = 15, hidden layers = 5, decrease_rate = 0.55, g_HFM per KL = log2\n",
    "\n"
   ]
  },
  {
   "cell_type": "code",
   "execution_count": 25,
   "id": "bbf42b9a",
   "metadata": {},
   "outputs": [
    {
     "name": "stdout",
     "output_type": "stream",
     "text": [
      "Epoch: 0/15, Average loss: 287.7852\n",
      "Epoch: 1/15, Average loss: 237.5617\n",
      "Epoch: 2/15, Average loss: 220.1914\n",
      "Epoch: 3/15, Average loss: 210.3694\n",
      "Epoch: 4/15, Average loss: 203.5353\n",
      "Epoch: 5/15, Average loss: 198.6652\n",
      "Epoch: 6/15, Average loss: 195.2864\n",
      "Epoch: 7/15, Average loss: 193.0813\n",
      "Epoch: 8/15, Average loss: 191.3384\n",
      "Epoch: 9/15, Average loss: 189.9766\n",
      "Epoch: 10/15, Average loss: 188.9391\n",
      "Epoch: 11/15, Average loss: 188.0414\n",
      "Epoch: 12/15, Average loss: 187.3425\n",
      "Epoch: 13/15, Average loss: 186.8371\n",
      "Epoch: 14/15, Average loss: 186.1999\n",
      "Training completato e dati scritti su tensorboard\n",
      "Parameters saved\n"
     ]
    }
   ],
   "source": [
    "\n",
    "\n",
    "writer = SummaryWriter(log_dir='/Users/enricofrausin/Programmazione/PythonProjects/Fisica/runs/discrete_VAE/prior_HFM/pureHFM/ld8_glog2_ep15_lmb01_dr055_gKLlog2_NL_5hl_0')\n",
    "my_model = VAE_priorHFM(input_dim=input_dim, latent_dim=8, g=np.log(2), decrease_rate=0.55, device=device, num_hidden_layers=5, LayerNorm=True).to(device)\n",
    "optimizer = optim.Adam(my_model.parameters(), lr=md.learning_rate)\n",
    "train(my_model, _lambda=0.1, writer=writer, train_loader=train_loader, val_loader=val_loader, optimizer=optimizer, device=device, epochs=15, calculate_KL_HFM=True)\n",
    "torch.save(my_model.state_dict(), '/Users/enricofrausin/Programmazione/PythonProjects/Fisica/Architetture/VAE/discrete/models_parameters/priorHFM/pureHFM/ld8_glog2_ep15_lmb01_dr055_gKLlog2_NL_5hl_0.pth')\n",
    "print('Parameters saved')\n",
    "\n"
   ]
  },
  {
   "cell_type": "markdown",
   "id": "acc22dfd",
   "metadata": {},
   "source": [
    "\n",
    "\n",
    "#### features = 8, g_model = log(2), epochs = 15, decrease_rate = 0.6, g_HFM per KL = log2, hidden layers = 6\n"
   ]
  },
  {
   "cell_type": "code",
   "execution_count": 26,
   "id": "e01de756",
   "metadata": {},
   "outputs": [
    {
     "name": "stdout",
     "output_type": "stream",
     "text": [
      "Epoch: 0/15, Average loss: 292.6029\n",
      "Epoch: 1/15, Average loss: 238.5189\n",
      "Epoch: 2/15, Average loss: 220.9748\n",
      "Epoch: 3/15, Average loss: 210.9588\n",
      "Epoch: 4/15, Average loss: 204.0923\n",
      "Epoch: 5/15, Average loss: 199.1431\n",
      "Epoch: 6/15, Average loss: 195.4405\n",
      "Epoch: 7/15, Average loss: 192.9559\n",
      "Epoch: 8/15, Average loss: 191.2045\n",
      "Epoch: 9/15, Average loss: 189.9498\n",
      "Epoch: 10/15, Average loss: 189.1115\n",
      "Epoch: 11/15, Average loss: 187.8321\n",
      "Epoch: 12/15, Average loss: 187.3549\n",
      "Epoch: 13/15, Average loss: 186.6793\n",
      "Epoch: 14/15, Average loss: 186.0641\n",
      "Training completato e dati scritti su tensorboard\n",
      "Parameters saved\n"
     ]
    }
   ],
   "source": [
    "\n",
    "writer = SummaryWriter(log_dir='/Users/enricofrausin/Programmazione/PythonProjects/Fisica/runs/discrete_VAE/prior_HFM/pureHFM/ld8_glog2_ep15_lmb01_dr06_gKLlog2_NL_6hl_0')\n",
    "my_model = VAE_priorHFM(input_dim=input_dim, latent_dim=8, g=np.log(2), decrease_rate=0.6, device=device, num_hidden_layers=6, LayerNorm=True).to(device)\n",
    "optimizer = optim.Adam(my_model.parameters(), lr=md.learning_rate)\n",
    "train(my_model, _lambda=0.1, writer=writer, train_loader=train_loader, val_loader=val_loader, optimizer=optimizer, device=device, epochs=15, calculate_KL_HFM=True)\n",
    "torch.save(my_model.state_dict(), '/Users/enricofrausin/Programmazione/PythonProjects/Fisica/Architetture/VAE/discrete/models_parameters/priorHFM/pureHFM/ld8_glog2_ep15_lmb01_dr06_gKLlog2_NL_6hl_0.pth')\n",
    "print('Parameters saved')"
   ]
  },
  {
   "cell_type": "markdown",
   "id": "d1644b64",
   "metadata": {},
   "source": [
    "### latent_dim = 10\n"
   ]
  },
  {
   "cell_type": "code",
   "execution_count": null,
   "id": "4a39e8b4",
   "metadata": {},
   "outputs": [
    {
     "name": "stdout",
     "output_type": "stream",
     "text": [
      "Epoch: 0/15, Average loss: 284.8464\n",
      "Epoch: 1/15, Average loss: 236.1935\n",
      "Epoch: 2/15, Average loss: 218.5763\n",
      "Epoch: 3/15, Average loss: 208.8317\n",
      "Epoch: 4/15, Average loss: 202.2423\n",
      "Epoch: 5/15, Average loss: 197.4519\n",
      "Epoch: 6/15, Average loss: 194.0614\n",
      "Epoch: 7/15, Average loss: 191.6466\n",
      "Epoch: 8/15, Average loss: 189.8962\n",
      "Epoch: 9/15, Average loss: 188.5487\n",
      "Epoch: 10/15, Average loss: 187.4814\n",
      "Epoch: 11/15, Average loss: 186.5976\n",
      "Epoch: 12/15, Average loss: 185.8504\n",
      "Epoch: 13/15, Average loss: 185.2475\n",
      "Epoch: 14/15, Average loss: 184.7187\n",
      "Training completato e dati scritti su tensorboard\n",
      "Parameters saved\n"
     ]
    }
   ],
   "source": [
    "\n",
    "#### features = 10, g_model = log(2), epochs = 15, decrease_rate = 0.5, g_HFM per KL = log2, hidden layer = 1\n",
    "\n",
    "\n",
    "writer = SummaryWriter(log_dir='/Users/enricofrausin/Programmazione/PythonProjects/Fisica/runs/discrete_VAE/prior_HFM/pureHFM/ld10_glog2_ep15_lmb01_dr05_gKLlog2_LN_1hl_0')\n",
    "my_model = VAE_priorHFM(input_dim=input_dim, latent_dim=10, g=np.log(2), decrease_rate=0.5, device=device, num_hidden_layers=1, LayerNorm=True).to(device)\n",
    "optimizer = optim.Adam(my_model.parameters(), lr=md.learning_rate)\n",
    "train(my_model, _lambda=0.1, writer=writer, train_loader=train_loader, val_loader=val_loader, optimizer=optimizer, device=device, epochs=15, calculate_KL_HFM=True)\n",
    "torch.save(my_model.state_dict(), '/Users/enricofrausin/Programmazione/PythonProjects/Fisica/Architetture/VAE/discrete/models_parameters/priorHFM/pureHFM/ld10_glog2_ep15_lmb01_dr05_gKLlog2_LN_1hl_0.pth')\n",
    "print('Parameters saved')\n"
   ]
  },
  {
   "cell_type": "code",
   "execution_count": null,
   "id": "aaf447d7",
   "metadata": {},
   "outputs": [
    {
     "name": "stdout",
     "output_type": "stream",
     "text": [
      "Epoch: 0/15, Average loss: 283.7363\n",
      "Epoch: 1/15, Average loss: 235.5655\n",
      "Epoch: 2/15, Average loss: 217.9087\n",
      "Epoch: 3/15, Average loss: 208.3028\n",
      "Epoch: 4/15, Average loss: 201.9814\n",
      "Epoch: 5/15, Average loss: 197.2498\n",
      "Epoch: 6/15, Average loss: 193.8478\n",
      "Epoch: 7/15, Average loss: 191.4785\n",
      "Epoch: 8/15, Average loss: 189.7849\n",
      "Epoch: 9/15, Average loss: 188.5196\n",
      "Epoch: 10/15, Average loss: 187.5343\n",
      "Epoch: 11/15, Average loss: 186.6833\n",
      "Epoch: 12/15, Average loss: 185.9613\n",
      "Epoch: 13/15, Average loss: 185.3660\n",
      "Epoch: 14/15, Average loss: 184.8252\n",
      "Training completato e dati scritti su tensorboard\n",
      "Parameters saved\n"
     ]
    }
   ],
   "source": [
    "#### features = 10, g_model = log(2), epochs = 15, decrease_rate = 0.5, g_HFM per KL = log2, hidden layer = 2\n",
    "\n",
    "writer = SummaryWriter(log_dir='/Users/enricofrausin/Programmazione/PythonProjects/Fisica/runs/discrete_VAE/prior_HFM/pureHFM/ld10_glog2_ep15_lmb01_dr05_gKLlog2_LN_2hl_0')\n",
    "my_model = VAE_priorHFM(input_dim=input_dim, latent_dim=10, g=np.log(2), decrease_rate=0.5, device=device, num_hidden_layers=2, LayerNorm=True).to(device)\n",
    "optimizer = optim.Adam(my_model.parameters(), lr=md.learning_rate)\n",
    "train(my_model, _lambda=0.1, writer=writer, train_loader=train_loader, val_loader=val_loader, optimizer=optimizer, device=device, epochs=15, calculate_KL_HFM=True)\n",
    "torch.save(my_model.state_dict(), '/Users/enricofrausin/Programmazione/PythonProjects/Fisica/Architetture/VAE/discrete/models_parameters/priorHFM/pureHFM/ld10_glog2_ep15_lmb01_dr05_gKLlog2_LN_2hl_0.pth')\n",
    "print('Parameters saved')\n",
    "\n"
   ]
  },
  {
   "cell_type": "code",
   "execution_count": null,
   "id": "b12cc075",
   "metadata": {},
   "outputs": [
    {
     "name": "stdout",
     "output_type": "stream",
     "text": [
      "Epoch: 0/15, Average loss: 285.2223\n",
      "Epoch: 1/15, Average loss: 236.3018\n",
      "Epoch: 2/15, Average loss: 218.7822\n",
      "Epoch: 3/15, Average loss: 208.9726\n",
      "Epoch: 4/15, Average loss: 202.4610\n",
      "Epoch: 5/15, Average loss: 197.6650\n",
      "Epoch: 6/15, Average loss: 194.2955\n",
      "Epoch: 7/15, Average loss: 192.0910\n",
      "Epoch: 8/15, Average loss: 190.4163\n",
      "Epoch: 9/15, Average loss: 189.1646\n",
      "Epoch: 10/15, Average loss: 188.1475\n",
      "Epoch: 11/15, Average loss: 187.3214\n",
      "Epoch: 12/15, Average loss: 186.5558\n",
      "Epoch: 13/15, Average loss: 185.9756\n",
      "Epoch: 14/15, Average loss: 185.5028\n",
      "Training completato e dati scritti su tensorboard\n",
      "Parameters saved\n"
     ]
    }
   ],
   "source": [
    "#### features = 10, g_model = log(2), epochs = 15, decrease_rate = 0.5, g_HFM per KL = log2, hidden layer = 3\n",
    "\n",
    "writer = SummaryWriter(log_dir='/Users/enricofrausin/Programmazione/PythonProjects/Fisica/runs/discrete_VAE/prior_HFM/pureHFM/ld10_glog2_ep15_lmb01_dr05_gKLlog2_LN_3hl_0')\n",
    "my_model = VAE_priorHFM(input_dim=input_dim, latent_dim=10, g=np.log(2), decrease_rate=0.5, device=device, num_hidden_layers=3, LayerNorm=True).to(device)\n",
    "optimizer = optim.Adam(my_model.parameters(), lr=md.learning_rate)\n",
    "train(my_model, _lambda=0.1, writer=writer, train_loader=train_loader, val_loader=val_loader, optimizer=optimizer, device=device, epochs=15, calculate_KL_HFM=True)\n",
    "torch.save(my_model.state_dict(), '/Users/enricofrausin/Programmazione/PythonProjects/Fisica/Architetture/VAE/discrete/models_parameters/priorHFM/pureHFM/ld10_glog2_ep15_lmb01_dr05_gKLlog2_LN_3hl_0.pth')\n",
    "print('Parameters saved')\n"
   ]
  },
  {
   "cell_type": "code",
   "execution_count": 30,
   "id": "0ccd4bc9",
   "metadata": {},
   "outputs": [
    {
     "name": "stdout",
     "output_type": "stream",
     "text": [
      "Epoch: 0/15, Average loss: 287.0142\n",
      "Epoch: 1/15, Average loss: 236.6771\n",
      "Epoch: 2/15, Average loss: 219.3834\n",
      "Epoch: 3/15, Average loss: 209.4740\n",
      "Epoch: 4/15, Average loss: 202.7421\n",
      "Epoch: 5/15, Average loss: 197.9045\n",
      "Epoch: 6/15, Average loss: 194.7804\n",
      "Epoch: 7/15, Average loss: 192.4768\n",
      "Epoch: 8/15, Average loss: 190.7469\n",
      "Epoch: 9/15, Average loss: 189.4877\n",
      "Epoch: 10/15, Average loss: 188.5356\n",
      "Epoch: 11/15, Average loss: 187.6153\n",
      "Epoch: 12/15, Average loss: 186.8701\n",
      "Epoch: 13/15, Average loss: 186.3621\n",
      "Epoch: 14/15, Average loss: 185.8067\n",
      "Training completato e dati scritti su tensorboard\n",
      "Parameters saved\n"
     ]
    }
   ],
   "source": [
    "#### features = 10, g_model = log(2), epochs = 15, decrease_rate = 0.5, g_HFM per KL = log2, hidden layers = 4\n",
    "\n",
    "writer = SummaryWriter(log_dir='/Users/enricofrausin/Programmazione/PythonProjects/Fisica/runs/discrete_VAE/prior_HFM/pureHFM/ld10_glog2_ep15_lmb01_dr05_gKLlog2_LN_4hl_0')\n",
    "my_model = VAE_priorHFM(input_dim=input_dim, latent_dim=10, g=np.log(2), decrease_rate=0.5, device=device, num_hidden_layers=4, LayerNorm=True).to(device)\n",
    "optimizer = optim.Adam(my_model.parameters(), lr=md.learning_rate)\n",
    "train(my_model, _lambda=0.1, writer=writer, train_loader=train_loader, val_loader=val_loader, optimizer=optimizer, device=device, epochs=15, calculate_KL_HFM=True)\n",
    "torch.save(my_model.state_dict(), '/Users/enricofrausin/Programmazione/PythonProjects/Fisica/Architetture/VAE/discrete/models_parameters/priorHFM/pureHFM/ld10_glog2_ep15_lmb01_dr05_gKLlog2_LN_4hl_0.pth')\n",
    "print('Parameters saved')\n",
    "\n"
   ]
  },
  {
   "cell_type": "code",
   "execution_count": null,
   "id": "fcd09879",
   "metadata": {},
   "outputs": [
    {
     "name": "stdout",
     "output_type": "stream",
     "text": [
      "Epoch: 0/15, Average loss: 292.8941\n",
      "Epoch: 1/15, Average loss: 237.9449\n",
      "Epoch: 2/15, Average loss: 220.1433\n",
      "Epoch: 3/15, Average loss: 210.1393\n",
      "Epoch: 4/15, Average loss: 203.2156\n",
      "Epoch: 5/15, Average loss: 198.3725\n",
      "Epoch: 6/15, Average loss: 194.8614\n",
      "Epoch: 7/15, Average loss: 192.6915\n",
      "Epoch: 8/15, Average loss: 190.9345\n",
      "Epoch: 9/15, Average loss: 189.7620\n",
      "Epoch: 10/15, Average loss: 188.5940\n",
      "Epoch: 11/15, Average loss: 187.7056\n",
      "Epoch: 12/15, Average loss: 186.9935\n",
      "Epoch: 13/15, Average loss: 186.8883\n",
      "Epoch: 14/15, Average loss: 186.0274\n",
      "Training completato e dati scritti su tensorboard\n",
      "Parameters saved\n"
     ]
    }
   ],
   "source": [
    "#### features = 10, g_model = log(2), epochs = 15, decrease_rate = 0.55, g_HFM per KL = log2, hidden layers = 5\n",
    "\n",
    "writer = SummaryWriter(log_dir='/Users/enricofrausin/Programmazione/PythonProjects/Fisica/runs/discrete_VAE/prior_HFM/pureHFM/ld10_glog2_ep15_lmb01_dr055_gKLlog2_LN_5hl_0')\n",
    "my_model = VAE_priorHFM(input_dim=input_dim, latent_dim=10, g=np.log(2), decrease_rate=0.55, device=device, num_hidden_layers=5, LayerNorm=True).to(device)\n",
    "optimizer = optim.Adam(my_model.parameters(), lr=md.learning_rate)\n",
    "train(my_model, _lambda=0.1, writer=writer, train_loader=train_loader, val_loader=val_loader, optimizer=optimizer, device=device, epochs=15, calculate_KL_HFM=True)\n",
    "torch.save(my_model.state_dict(), '/Users/enricofrausin/Programmazione/PythonProjects/Fisica/Architetture/VAE/discrete/models_parameters/priorHFM/pureHFM/ld10_glog2_ep15_lmb01_dr055_gKLlog2_LN_5hl_0.pth')\n",
    "print('Parameters saved')\n",
    "\n"
   ]
  },
  {
   "cell_type": "code",
   "execution_count": null,
   "id": "5344b629",
   "metadata": {},
   "outputs": [
    {
     "name": "stdout",
     "output_type": "stream",
     "text": [
      "Epoch: 0/15, Average loss: 290.9737\n",
      "Epoch: 1/15, Average loss: 238.1177\n",
      "Epoch: 2/15, Average loss: 220.4897\n",
      "Epoch: 3/15, Average loss: 210.6305\n",
      "Epoch: 4/15, Average loss: 203.6614\n",
      "Epoch: 5/15, Average loss: 198.8301\n",
      "Epoch: 6/15, Average loss: 195.4852\n",
      "Epoch: 7/15, Average loss: 193.0148\n",
      "Epoch: 8/15, Average loss: 191.4951\n",
      "Epoch: 9/15, Average loss: 189.9841\n",
      "Epoch: 10/15, Average loss: 188.9502\n",
      "Epoch: 11/15, Average loss: 188.2171\n",
      "Epoch: 12/15, Average loss: 187.2930\n",
      "Epoch: 13/15, Average loss: 186.7010\n",
      "Epoch: 14/15, Average loss: 186.2205\n",
      "Training completato e dati scritti su tensorboard\n",
      "Parameters saved\n"
     ]
    }
   ],
   "source": [
    "#### features = 10, g_model = log(2), epochs = 15, decrease_rate = 0.6, g_HFM per KL = log2, hidden layers = 6\n",
    "\n",
    "\n",
    "writer = SummaryWriter(log_dir='/Users/enricofrausin/Programmazione/PythonProjects/Fisica/runs/discrete_VAE/prior_HFM/pureHFM/ld10_glog2_ep15_lmb01_dr06_gKLlog2_LN_6hl_0')\n",
    "my_model = VAE_priorHFM(input_dim=input_dim, latent_dim=10, g=np.log(2), decrease_rate=0.6, device=device, num_hidden_layers=6, LayerNorm=True).to(device)\n",
    "optimizer = optim.Adam(my_model.parameters(), lr=md.learning_rate)\n",
    "train(my_model, _lambda=0.1, writer=writer, train_loader=train_loader, val_loader=val_loader, optimizer=optimizer, device=device, epochs=15, calculate_KL_HFM=True)\n",
    "torch.save(my_model.state_dict(), '/Users/enricofrausin/Programmazione/PythonProjects/Fisica/Architetture/VAE/discrete/models_parameters/priorHFM/pureHFM/ld10_glog2_ep15_lmb01_dr06_gKLlog2_LN_6hl_0.pth')\n",
    "print('Parameters saved')"
   ]
  },
  {
   "cell_type": "markdown",
   "id": "65e59333",
   "metadata": {},
   "source": [
    "### latent_dim = 12\n"
   ]
  },
  {
   "cell_type": "code",
   "execution_count": null,
   "id": "7a253641",
   "metadata": {},
   "outputs": [
    {
     "name": "stdout",
     "output_type": "stream",
     "text": [
      "Epoch: 0/15, Average loss: 284.5432\n",
      "Epoch: 1/15, Average loss: 236.0743\n",
      "Epoch: 1/15, Average loss: 236.0743\n",
      "Epoch: 2/15, Average loss: 218.6306\n",
      "Epoch: 2/15, Average loss: 218.6306\n",
      "Epoch: 3/15, Average loss: 208.9190\n",
      "Epoch: 3/15, Average loss: 208.9190\n",
      "Epoch: 4/15, Average loss: 202.0166\n",
      "Epoch: 4/15, Average loss: 202.0166\n",
      "Epoch: 5/15, Average loss: 197.0756\n",
      "Epoch: 5/15, Average loss: 197.0756\n",
      "Epoch: 6/15, Average loss: 193.6763\n",
      "Epoch: 6/15, Average loss: 193.6763\n",
      "Epoch: 7/15, Average loss: 191.3216\n",
      "Epoch: 7/15, Average loss: 191.3216\n",
      "Epoch: 8/15, Average loss: 189.5958\n",
      "Epoch: 8/15, Average loss: 189.5958\n",
      "Epoch: 9/15, Average loss: 188.2371\n",
      "Epoch: 9/15, Average loss: 188.2371\n",
      "Epoch: 10/15, Average loss: 187.1204\n",
      "Epoch: 10/15, Average loss: 187.1204\n",
      "Epoch: 11/15, Average loss: 186.2441\n",
      "Epoch: 11/15, Average loss: 186.2441\n",
      "Epoch: 12/15, Average loss: 185.4375\n",
      "Epoch: 12/15, Average loss: 185.4375\n",
      "Epoch: 13/15, Average loss: 184.8307\n",
      "Epoch: 13/15, Average loss: 184.8307\n",
      "Epoch: 14/15, Average loss: 184.1982\n",
      "Training completato e dati scritti su tensorboard\n",
      "Parameters saved\n",
      "Epoch: 14/15, Average loss: 184.1982\n",
      "Training completato e dati scritti su tensorboard\n",
      "Parameters saved\n"
     ]
    }
   ],
   "source": [
    "#### features = 12, g_model = log(2), epochs = 15, decrease_rate = 0.5, g_HFM per KL = log2, hidden layer = 1\n",
    "\n",
    "writer = SummaryWriter(log_dir='/Users/enricofrausin/Programmazione/PythonProjects/Fisica/Architetture/VAE/discrete/runs/prior_HFM/pureHFM/ld12_glog2_ep15_lmb01_dr05_gKLlog2_LN_1hl_0')\n",
    "my_model = VAE_priorHFM(input_dim=input_dim, latent_dim=12, g=np.log(2), decrease_rate=0.5, device=device, num_hidden_layers=1, LayerNorm=True).to(device)\n",
    "optimizer = optim.Adam(my_model.parameters(), lr=md.learning_rate)\n",
    "train(my_model, _lambda=0.1, writer=writer, train_loader=train_loader, val_loader=val_loader, optimizer=optimizer, device=device, epochs=15, calculate_KL_HFM=True)\n",
    "torch.save(my_model.state_dict(), '/Users/enricofrausin/Programmazione/PythonProjects/Fisica/Architetture/VAE/discrete/models_parameters/priorHFM/pureHFM/ld12_glog2_ep15_lmb01_dr05_gKLlog2_LN_1hl_0.pth')\n",
    "print('Parameters saved')\n"
   ]
  },
  {
   "cell_type": "code",
   "execution_count": null,
   "id": "1e228ca7",
   "metadata": {},
   "outputs": [
    {
     "name": "stdout",
     "output_type": "stream",
     "text": [
      "Epoch: 0/15, Average loss: 284.1642\n",
      "Epoch: 1/15, Average loss: 235.6598\n",
      "Epoch: 1/15, Average loss: 235.6598\n",
      "Epoch: 2/15, Average loss: 217.7534\n",
      "Epoch: 2/15, Average loss: 217.7534\n",
      "Epoch: 3/15, Average loss: 208.2301\n",
      "Epoch: 3/15, Average loss: 208.2301\n",
      "Epoch: 4/15, Average loss: 202.0851\n",
      "Epoch: 4/15, Average loss: 202.0851\n",
      "Epoch: 5/15, Average loss: 197.3137\n",
      "Epoch: 5/15, Average loss: 197.3137\n",
      "Epoch: 6/15, Average loss: 193.7529\n",
      "Epoch: 6/15, Average loss: 193.7529\n",
      "Epoch: 7/15, Average loss: 191.3909\n",
      "Epoch: 7/15, Average loss: 191.3909\n",
      "Epoch: 8/15, Average loss: 189.6400\n",
      "Epoch: 8/15, Average loss: 189.6400\n",
      "Epoch: 9/15, Average loss: 188.3069\n",
      "Epoch: 9/15, Average loss: 188.3069\n",
      "Epoch: 10/15, Average loss: 187.2378\n",
      "Epoch: 10/15, Average loss: 187.2378\n",
      "Epoch: 11/15, Average loss: 186.3681\n",
      "Epoch: 11/15, Average loss: 186.3681\n",
      "Epoch: 12/15, Average loss: 185.7713\n",
      "Epoch: 12/15, Average loss: 185.7713\n",
      "Epoch: 13/15, Average loss: 185.1249\n",
      "Epoch: 13/15, Average loss: 185.1249\n",
      "Epoch: 14/15, Average loss: 184.5224\n",
      "Training completato e dati scritti su tensorboard\n",
      "Parameters saved\n",
      "Epoch: 14/15, Average loss: 184.5224\n",
      "Training completato e dati scritti su tensorboard\n",
      "Parameters saved\n"
     ]
    }
   ],
   "source": [
    "#### features = 12, g_model = log(2), epochs = 15, decrease_rate = 0.5, g_HFM per KL = log2, hidden layer = 2\n",
    "\n",
    "writer = SummaryWriter(log_dir='/Users/enricofrausin/Programmazione/PythonProjects/Fisica/Architetture/VAE/discrete/runs/prior_HFM/pureHFM/ld12_glog2_ep15_lmb01_dr05_gKLlog2_LN_2hl_0')\n",
    "my_model = VAE_priorHFM(input_dim=input_dim, latent_dim=12, g=np.log(2), decrease_rate=0.5, device=device, num_hidden_layers=2, LayerNorm=True).to(device)\n",
    "optimizer = optim.Adam(my_model.parameters(), lr=md.learning_rate)\n",
    "train(my_model, _lambda=0.1, writer=writer, train_loader=train_loader, val_loader=val_loader, optimizer=optimizer, device=device, epochs=15, calculate_KL_HFM=True)\n",
    "torch.save(my_model.state_dict(), '/Users/enricofrausin/Programmazione/PythonProjects/Fisica/Architetture/VAE/discrete/models_parameters/priorHFM/pureHFM/ld12_glog2_ep15_lmb01_dr05_gKLlog2_LN_2hl_0.pth')\n",
    "print('Parameters saved')\n"
   ]
  },
  {
   "cell_type": "code",
   "execution_count": 7,
   "id": "fae0f577",
   "metadata": {},
   "outputs": [
    {
     "name": "stdout",
     "output_type": "stream",
     "text": [
      "Epoch: 0/15, Average loss: 284.3945\n",
      "Epoch: 1/15, Average loss: 236.0290\n",
      "Epoch: 1/15, Average loss: 236.0290\n",
      "Epoch: 2/15, Average loss: 218.3815\n",
      "Epoch: 2/15, Average loss: 218.3815\n",
      "Epoch: 3/15, Average loss: 208.5937\n",
      "Epoch: 3/15, Average loss: 208.5937\n",
      "Epoch: 4/15, Average loss: 202.1195\n",
      "Epoch: 4/15, Average loss: 202.1195\n",
      "Epoch: 5/15, Average loss: 197.3906\n",
      "Epoch: 5/15, Average loss: 197.3906\n",
      "Epoch: 6/15, Average loss: 194.0364\n",
      "Epoch: 6/15, Average loss: 194.0364\n",
      "Epoch: 7/15, Average loss: 191.7625\n",
      "Epoch: 7/15, Average loss: 191.7625\n",
      "Epoch: 8/15, Average loss: 190.0751\n",
      "Epoch: 8/15, Average loss: 190.0751\n",
      "Epoch: 9/15, Average loss: 188.7873\n",
      "Epoch: 9/15, Average loss: 188.7873\n",
      "Epoch: 10/15, Average loss: 187.8294\n",
      "Epoch: 10/15, Average loss: 187.8294\n",
      "Epoch: 11/15, Average loss: 186.9817\n",
      "Epoch: 11/15, Average loss: 186.9817\n",
      "Epoch: 12/15, Average loss: 186.2350\n",
      "Epoch: 12/15, Average loss: 186.2350\n",
      "Epoch: 13/15, Average loss: 185.6789\n",
      "Epoch: 13/15, Average loss: 185.6789\n",
      "Epoch: 14/15, Average loss: 185.2830\n",
      "Training completato e dati scritti su tensorboard\n",
      "Parameters saved\n",
      "Epoch: 14/15, Average loss: 185.2830\n",
      "Training completato e dati scritti su tensorboard\n",
      "Parameters saved\n"
     ]
    }
   ],
   "source": [
    "#### features = 12, g_model = log(2), epochs = 15, decrease_rate = 0.5, g_HFM per KL = log2, hidden layer = 3\n",
    "\n",
    "writer = SummaryWriter(log_dir='/Users/enricofrausin/Programmazione/PythonProjects/Fisica/runs/discrete_VAE/prior_HFM/pureHFM/ld12_glog2_ep15_lmb01_dr05_gKLlog2_LN_3hl_0')\n",
    "my_model = VAE_priorHFM(input_dim=input_dim, latent_dim=12, g=np.log(2), decrease_rate=0.5, device=device, num_hidden_layers=3, LayerNorm=True).to(device)\n",
    "optimizer = optim.Adam(my_model.parameters(), lr=md.learning_rate)\n",
    "train(my_model, _lambda=0.1, writer=writer, train_loader=train_loader, val_loader=val_loader, optimizer=optimizer, device=device, epochs=15, calculate_KL_HFM=True)\n",
    "torch.save(my_model.state_dict(), '/Users/enricofrausin/Programmazione/PythonProjects/Fisica/Architetture/VAE/discrete/models_parameters/priorHFM/pureHFM/ld12_glog2_ep15_lmb01_dr05_gKLlog2_LN_3hl_0.pth')\n",
    "print('Parameters saved')\n"
   ]
  },
  {
   "cell_type": "code",
   "execution_count": null,
   "id": "a1734f23",
   "metadata": {},
   "outputs": [],
   "source": []
  },
  {
   "cell_type": "code",
   "execution_count": 9,
   "id": "6daab63b",
   "metadata": {},
   "outputs": [
    {
     "name": "stdout",
     "output_type": "stream",
     "text": [
      "Epoch: 0/15, Average loss: 284.3178\n",
      "Epoch: 1/15, Average loss: 236.2829\n",
      "Epoch: 1/15, Average loss: 236.2829\n",
      "Epoch: 2/15, Average loss: 218.3552\n",
      "Epoch: 2/15, Average loss: 218.3552\n",
      "Epoch: 3/15, Average loss: 208.6827\n",
      "Epoch: 3/15, Average loss: 208.6827\n",
      "Epoch: 4/15, Average loss: 202.2258\n",
      "Epoch: 4/15, Average loss: 202.2258\n",
      "Epoch: 5/15, Average loss: 197.5253\n",
      "Epoch: 5/15, Average loss: 197.5253\n",
      "Epoch: 6/15, Average loss: 194.2341\n",
      "Epoch: 6/15, Average loss: 194.2341\n",
      "Epoch: 7/15, Average loss: 191.9013\n",
      "Epoch: 7/15, Average loss: 191.9013\n",
      "Epoch: 8/15, Average loss: 190.1920\n",
      "Epoch: 8/15, Average loss: 190.1920\n",
      "Epoch: 9/15, Average loss: 188.9356\n",
      "Epoch: 9/15, Average loss: 188.9356\n",
      "Epoch: 10/15, Average loss: 188.1370\n",
      "Epoch: 10/15, Average loss: 188.1370\n",
      "Epoch: 11/15, Average loss: 187.1928\n",
      "Epoch: 11/15, Average loss: 187.1928\n",
      "Epoch: 12/15, Average loss: 186.4941\n",
      "Epoch: 12/15, Average loss: 186.4941\n",
      "Epoch: 13/15, Average loss: 185.9425\n",
      "Epoch: 13/15, Average loss: 185.9425\n",
      "Epoch: 14/15, Average loss: 185.5083\n",
      "Training completato e dati scritti su tensorboard\n",
      "Parameters saved\n",
      "Epoch: 14/15, Average loss: 185.5083\n",
      "Training completato e dati scritti su tensorboard\n",
      "Parameters saved\n"
     ]
    }
   ],
   "source": [
    "#### features = 12, g_model = log(2), epochs = 15, decrease_rate = 0.5, g_HFM per KL = log2, hidden layers = 4\n",
    "\n",
    "writer = SummaryWriter(log_dir='/Users/enricofrausin/Programmazione/PythonProjects/Fisica/runs/discrete_VAE/prior_HFM/pureHFM/ld12_glog2_ep15_lmb01_dr05_gKLlog2_LN_4hl_0')\n",
    "my_model = VAE_priorHFM(input_dim=input_dim, latent_dim=12, g=np.log(2), decrease_rate=0.5, device=device, num_hidden_layers=4, LayerNorm=True).to(device)\n",
    "optimizer = optim.Adam(my_model.parameters(), lr=md.learning_rate)\n",
    "train(my_model, _lambda=0.1, writer=writer, train_loader=train_loader, val_loader=val_loader, optimizer=optimizer, device=device, epochs=15, calculate_KL_HFM=True)\n",
    "torch.save(my_model.state_dict(), '/Users/enricofrausin/Programmazione/PythonProjects/Fisica/Architetture/VAE/discrete/models_parameters/priorHFM/pureHFM/ld12_glog2_ep15_lmb01_dr05_gKLlog2_LN_4hl_0.pth')\n",
    "print('Parameters saved')\n"
   ]
  },
  {
   "cell_type": "code",
   "execution_count": 10,
   "id": "95482bf6",
   "metadata": {},
   "outputs": [
    {
     "name": "stdout",
     "output_type": "stream",
     "text": [
      "Epoch: 0/15, Average loss: 289.7564\n",
      "Epoch: 1/15, Average loss: 237.0259\n",
      "Epoch: 1/15, Average loss: 237.0259\n",
      "Epoch: 2/15, Average loss: 219.7418\n",
      "Epoch: 2/15, Average loss: 219.7418\n",
      "Epoch: 3/15, Average loss: 210.0837\n",
      "Epoch: 3/15, Average loss: 210.0837\n",
      "Epoch: 4/15, Average loss: 202.9634\n",
      "Epoch: 4/15, Average loss: 202.9634\n",
      "Epoch: 5/15, Average loss: 198.2069\n",
      "Epoch: 5/15, Average loss: 198.2069\n",
      "Epoch: 6/15, Average loss: 194.9044\n",
      "Epoch: 6/15, Average loss: 194.9044\n",
      "Epoch: 7/15, Average loss: 192.4980\n",
      "Epoch: 7/15, Average loss: 192.4980\n",
      "Epoch: 8/15, Average loss: 190.9749\n",
      "Epoch: 8/15, Average loss: 190.9749\n",
      "Epoch: 9/15, Average loss: 189.7428\n",
      "Epoch: 9/15, Average loss: 189.7428\n",
      "Epoch: 10/15, Average loss: 188.6268\n",
      "Epoch: 10/15, Average loss: 188.6268\n",
      "Epoch: 11/15, Average loss: 187.7101\n",
      "Epoch: 11/15, Average loss: 187.7101\n",
      "Epoch: 12/15, Average loss: 187.0131\n",
      "Epoch: 12/15, Average loss: 187.0131\n",
      "Epoch: 13/15, Average loss: 186.5094\n",
      "Epoch: 13/15, Average loss: 186.5094\n",
      "Epoch: 14/15, Average loss: 186.0085\n",
      "Training completato e dati scritti su tensorboard\n",
      "Parameters saved\n",
      "Epoch: 14/15, Average loss: 186.0085\n",
      "Training completato e dati scritti su tensorboard\n",
      "Parameters saved\n"
     ]
    }
   ],
   "source": [
    "#### features = 12, g_model = log(2), epochs = 15, decrease_rate = 0.55, g_HFM per KL = log2, hidden layers = 5\n",
    "\n",
    "writer = SummaryWriter(log_dir='/Users/enricofrausin/Programmazione/PythonProjects/Fisica/runs/discrete_VAE/prior_HFM/pureHFM/ld12_glog2_ep15_lmb01_dr055_gKLlog2_LN_5hl_0')\n",
    "my_model = VAE_priorHFM(input_dim=input_dim, latent_dim=12, g=np.log(2), decrease_rate=0.55, device=device, num_hidden_layers=5, LayerNorm=True).to(device)\n",
    "optimizer = optim.Adam(my_model.parameters(), lr=md.learning_rate)\n",
    "train(my_model, _lambda=0.1, writer=writer, train_loader=train_loader, val_loader=val_loader, optimizer=optimizer, device=device, epochs=15, calculate_KL_HFM=True)\n",
    "torch.save(my_model.state_dict(), '/Users/enricofrausin/Programmazione/PythonProjects/Fisica/Architetture/VAE/discrete/models_parameters/priorHFM/pureHFM/ld12_glog2_ep15_lmb01_dr055_gKLlog2_LN_5hl_0.pth')\n",
    "print('Parameters saved')\n"
   ]
  },
  {
   "cell_type": "code",
   "execution_count": 11,
   "id": "1a10243d",
   "metadata": {},
   "outputs": [
    {
     "name": "stdout",
     "output_type": "stream",
     "text": [
      "Epoch: 0/15, Average loss: 286.2520\n",
      "Epoch: 1/15, Average loss: 236.8761\n",
      "Epoch: 1/15, Average loss: 236.8761\n",
      "Epoch: 2/15, Average loss: 219.5001\n",
      "Epoch: 2/15, Average loss: 219.5001\n",
      "Epoch: 3/15, Average loss: 209.7490\n",
      "Epoch: 3/15, Average loss: 209.7490\n",
      "Epoch: 4/15, Average loss: 203.1729\n",
      "Epoch: 4/15, Average loss: 203.1729\n",
      "Epoch: 5/15, Average loss: 198.4472\n",
      "Epoch: 5/15, Average loss: 198.4472\n",
      "Epoch: 6/15, Average loss: 194.9621\n",
      "Epoch: 6/15, Average loss: 194.9621\n",
      "Epoch: 7/15, Average loss: 192.6821\n",
      "Epoch: 7/15, Average loss: 192.6821\n",
      "Epoch: 8/15, Average loss: 191.2539\n",
      "Epoch: 8/15, Average loss: 191.2539\n",
      "Epoch: 9/15, Average loss: 189.7987\n",
      "Epoch: 9/15, Average loss: 189.7987\n",
      "Epoch: 10/15, Average loss: 188.6366\n",
      "Epoch: 10/15, Average loss: 188.6366\n",
      "Epoch: 11/15, Average loss: 187.8787\n",
      "Epoch: 11/15, Average loss: 187.8787\n",
      "Epoch: 12/15, Average loss: 187.1668\n",
      "Epoch: 12/15, Average loss: 187.1668\n",
      "Epoch: 13/15, Average loss: 186.4914\n",
      "Epoch: 13/15, Average loss: 186.4914\n",
      "Epoch: 14/15, Average loss: 186.0733\n",
      "Training completato e dati scritti su tensorboard\n",
      "Parameters saved\n",
      "Epoch: 14/15, Average loss: 186.0733\n",
      "Training completato e dati scritti su tensorboard\n",
      "Parameters saved\n"
     ]
    }
   ],
   "source": [
    "#### features = 12, g_model = log(2), epochs = 15, decrease_rate = 0.6, g_HFM per KL = log2, hidden layers = 6\n",
    "\n",
    "writer = SummaryWriter(log_dir='/Users/enricofrausin/Programmazione/PythonProjects/Fisica/runs/discrete_VAE/prior_HFM/pureHFM/ld12_glog2_ep15_lmb01_dr06_gKLlog2_LN_6hl_0')\n",
    "my_model = VAE_priorHFM(input_dim=input_dim, latent_dim=12, g=np.log(2), decrease_rate=0.6, device=device, num_hidden_layers=6, LayerNorm=True).to(device)\n",
    "optimizer = optim.Adam(my_model.parameters(), lr=md.learning_rate)\n",
    "train(my_model, _lambda=0.1, writer=writer, train_loader=train_loader, val_loader=val_loader, optimizer=optimizer, device=device, epochs=15, calculate_KL_HFM=True)\n",
    "torch.save(my_model.state_dict(), '/Users/enricofrausin/Programmazione/PythonProjects/Fisica/Architetture/VAE/discrete/models_parameters/priorHFM/pureHFM/ld12_glog2_ep15_lmb01_dr06_gKLlog2_LN_6hl_0.pth')\n",
    "print('Parameters saved')\n"
   ]
  },
  {
   "cell_type": "markdown",
   "id": "be859b91",
   "metadata": {},
   "source": [
    "## train over expandedHFM 32-1024"
   ]
  },
  {
   "cell_type": "code",
   "execution_count": 7,
   "id": "849abbab",
   "metadata": {},
   "outputs": [],
   "source": [
    "train_loader = train_loader_expandedHFM_32_1024\n",
    "val_loader = val_loader_expandedHFM_32_1024\n",
    "input_dim = 1024"
   ]
  },
  {
   "cell_type": "markdown",
   "id": "81128433",
   "metadata": {},
   "source": [
    "### latent_dim = 32"
   ]
  },
  {
   "cell_type": "markdown",
   "id": "ce2b4f7f",
   "metadata": {},
   "source": [
    "#### features = 32, g_model = log(2), epochs = 20, hidden layers = 1, decrease_rate = 0.5, g_HFM per KL = log2"
   ]
  },
  {
   "cell_type": "code",
   "execution_count": 28,
   "id": "ced4ab71",
   "metadata": {},
   "outputs": [
    {
     "name": "stdout",
     "output_type": "stream",
     "text": [
      "Epoch: 0/20, Average loss: 369.4557\n",
      "Epoch: 1/20, Average loss: 253.0922\n",
      "Epoch: 2/20, Average loss: 202.8551\n",
      "Epoch: 3/20, Average loss: 172.7191\n",
      "Epoch: 4/20, Average loss: 152.2356\n",
      "Epoch: 5/20, Average loss: 137.6990\n",
      "Epoch: 6/20, Average loss: 126.6692\n",
      "Epoch: 7/20, Average loss: 118.0560\n",
      "Epoch: 8/20, Average loss: 111.1311\n",
      "Epoch: 9/20, Average loss: 105.9597\n",
      "Epoch: 10/20, Average loss: 101.8351\n",
      "Epoch: 11/20, Average loss: 98.4729\n",
      "Epoch: 12/20, Average loss: 95.4016\n",
      "Epoch: 13/20, Average loss: 92.9106\n",
      "Epoch: 14/20, Average loss: 90.9402\n",
      "Epoch: 15/20, Average loss: 89.1270\n",
      "Epoch: 16/20, Average loss: 87.6784\n",
      "Epoch: 17/20, Average loss: 86.5530\n",
      "Epoch: 18/20, Average loss: 85.3882\n",
      "Epoch: 19/20, Average loss: 84.4254\n",
      "Training completato e dati scritti su tensorboard\n",
      "Parameters saved\n"
     ]
    }
   ],
   "source": [
    "writer = SummaryWriter(log_dir='/Users/enricofrausin/Programmazione/PythonProjects/Fisica/runs/discrete_VAE/prior_HFM/expandedHFM_32_1024/ld32_glog2_ep20_lmb01_LN_dr05_gKLlog2_1hl_0')\n",
    "my_model = VAE_priorHFM(input_dim=input_dim, latent_dim=32, g=np.log(2), decrease_rate=0.5, device=device, num_hidden_layers=1, LayerNorm=True).to(device)\n",
    "optimizer = optim.Adam(my_model.parameters(), lr=md.learning_rate)\n",
    "train(my_model, _lambda=0.1, writer=writer, train_loader=train_loader, val_loader=val_loader, optimizer=optimizer, device=device, epochs=20, calculate_KL_HFM=True)\n",
    "torch.save(my_model.state_dict(), '/Users/enricofrausin/Programmazione/PythonProjects/Fisica/Architetture/VAE/discrete/models_parameters/priorHFM/expandedHFM_32_1024/ld32_glog2_ep20_lmb01_LN_dr05_gKLlog2_1hl_0.pth')\n",
    "print('Parameters saved')"
   ]
  },
  {
   "cell_type": "markdown",
   "id": "f6c6e5b3",
   "metadata": {},
   "source": [
    "#### features = 32, g_model = log(2), epochs = 20, hidden layers = 2, decrease_rate = 0.5, g_HFM per KL = log2"
   ]
  },
  {
   "cell_type": "code",
   "execution_count": 29,
   "id": "5b165db4",
   "metadata": {},
   "outputs": [
    {
     "name": "stdout",
     "output_type": "stream",
     "text": [
      "Epoch: 0/20, Average loss: 393.1789\n",
      "Epoch: 1/20, Average loss: 300.7643\n",
      "Epoch: 2/20, Average loss: 241.3813\n",
      "Epoch: 3/20, Average loss: 207.7646\n",
      "Epoch: 4/20, Average loss: 179.9620\n",
      "Epoch: 5/20, Average loss: 160.1453\n",
      "Epoch: 6/20, Average loss: 144.9132\n",
      "Epoch: 7/20, Average loss: 133.3975\n",
      "Epoch: 8/20, Average loss: 125.1795\n",
      "Epoch: 9/20, Average loss: 118.3757\n",
      "Epoch: 10/20, Average loss: 112.1573\n",
      "Epoch: 11/20, Average loss: 107.3208\n",
      "Epoch: 12/20, Average loss: 103.3839\n",
      "Epoch: 13/20, Average loss: 99.9120\n",
      "Epoch: 14/20, Average loss: 96.7396\n",
      "Epoch: 15/20, Average loss: 94.4459\n",
      "Epoch: 16/20, Average loss: 92.6706\n",
      "Epoch: 17/20, Average loss: 90.7141\n",
      "Epoch: 18/20, Average loss: 88.7004\n",
      "Epoch: 19/20, Average loss: 87.0102\n",
      "Training completato e dati scritti su tensorboard\n",
      "Parameters saved\n"
     ]
    }
   ],
   "source": [
    "writer = SummaryWriter(log_dir='/Users/enricofrausin/Programmazione/PythonProjects/Fisica/runs/discrete_VAE/prior_HFM/expandedHFM_32_1024/ld32_glog2_ep20_lmb01_LN_dr05_gKLlog2_2hl_0')\n",
    "my_model = VAE_priorHFM(input_dim=input_dim, latent_dim=32, g=np.log(2), decrease_rate=0.5, device=device, num_hidden_layers=2, LayerNorm=True).to(device)\n",
    "optimizer = optim.Adam(my_model.parameters(), lr=md.learning_rate)\n",
    "train(my_model, _lambda=0.1, writer=writer, train_loader=train_loader, val_loader=val_loader, optimizer=optimizer, device=device, epochs=20, calculate_KL_HFM=True)\n",
    "torch.save(my_model.state_dict(), '/Users/enricofrausin/Programmazione/PythonProjects/Fisica/Architetture/VAE/discrete/models_parameters/priorHFM/expandedHFM_32_1024/ld32_glog2_ep20_lmb01_LN_dr05_gKLlog2_2hl_0.pth')\n",
    "print('Parameters saved')"
   ]
  },
  {
   "cell_type": "markdown",
   "id": "19ce1eed",
   "metadata": {},
   "source": [
    "#### features = 32, g_model = log(2), epochs = 20, hidden layers = 3, decrease_rate = 0.5, g_HFM per KL = log2"
   ]
  },
  {
   "cell_type": "code",
   "execution_count": 30,
   "id": "ea231cd2",
   "metadata": {},
   "outputs": [
    {
     "name": "stdout",
     "output_type": "stream",
     "text": [
      "Epoch: 0/20, Average loss: 399.2147\n",
      "Epoch: 1/20, Average loss: 324.6712\n",
      "Epoch: 2/20, Average loss: 275.4050\n",
      "Epoch: 3/20, Average loss: 239.8818\n",
      "Epoch: 4/20, Average loss: 216.3649\n",
      "Epoch: 5/20, Average loss: 198.0273\n",
      "Epoch: 6/20, Average loss: 182.2649\n",
      "Epoch: 7/20, Average loss: 170.8574\n",
      "Epoch: 8/20, Average loss: 162.9704\n",
      "Epoch: 9/20, Average loss: 154.4810\n",
      "Epoch: 10/20, Average loss: 146.7258\n",
      "Epoch: 11/20, Average loss: 139.4719\n",
      "Epoch: 12/20, Average loss: 134.2167\n",
      "Epoch: 13/20, Average loss: 129.6427\n",
      "Epoch: 14/20, Average loss: 125.4191\n",
      "Epoch: 15/20, Average loss: 121.2396\n",
      "Epoch: 16/20, Average loss: 118.2277\n",
      "Epoch: 17/20, Average loss: 115.6689\n",
      "Epoch: 18/20, Average loss: 112.8884\n",
      "Epoch: 19/20, Average loss: 111.4160\n",
      "Training completato e dati scritti su tensorboard\n",
      "Parameters saved\n"
     ]
    }
   ],
   "source": [
    "writer = SummaryWriter(log_dir='/Users/enricofrausin/Programmazione/PythonProjects/Fisica/runs/discrete_VAE/prior_HFM/expandedHFM_32_1024/ld32_glog2_ep20_lmb01_LN_dr05_gKLlog2_3hl_0')\n",
    "my_model = VAE_priorHFM(input_dim=input_dim, latent_dim=32, g=np.log(2), decrease_rate=0.5, device=device, num_hidden_layers=3, LayerNorm=True).to(device)\n",
    "optimizer = optim.Adam(my_model.parameters(), lr=md.learning_rate)\n",
    "train(my_model, _lambda=0.1, writer=writer, train_loader=train_loader, val_loader=val_loader, optimizer=optimizer, device=device, epochs=20, calculate_KL_HFM=True)\n",
    "torch.save(my_model.state_dict(), '/Users/enricofrausin/Programmazione/PythonProjects/Fisica/Architetture/VAE/discrete/models_parameters/priorHFM/expandedHFM_32_1024/ld32_glog2_ep20_lmb01_LN_dr05_gKLlog2_3hl_0.pth')\n",
    "print('Parameters saved')"
   ]
  },
  {
   "cell_type": "markdown",
   "id": "bde52c1d",
   "metadata": {},
   "source": [
    "#### features = 32, g_model = log(2), epochs = 20, hidden layers = 4, decrease_rate = 0.5, g_HFM per KL = log2"
   ]
  },
  {
   "cell_type": "code",
   "execution_count": 31,
   "id": "47314339",
   "metadata": {},
   "outputs": [
    {
     "name": "stdout",
     "output_type": "stream",
     "text": [
      "Epoch: 0/20, Average loss: 405.6318\n",
      "Epoch: 1/20, Average loss: 331.2717\n",
      "Epoch: 2/20, Average loss: 293.0868\n",
      "Epoch: 3/20, Average loss: 260.4425\n",
      "Epoch: 4/20, Average loss: 235.3888\n",
      "Epoch: 5/20, Average loss: 217.5635\n",
      "Epoch: 6/20, Average loss: 207.8059\n",
      "Epoch: 7/20, Average loss: 200.4518\n",
      "Epoch: 8/20, Average loss: 194.3792\n",
      "Epoch: 9/20, Average loss: 189.3980\n",
      "Epoch: 10/20, Average loss: 184.9584\n",
      "Epoch: 11/20, Average loss: 179.7132\n",
      "Epoch: 12/20, Average loss: 174.9633\n",
      "Epoch: 13/20, Average loss: 170.7941\n",
      "Epoch: 14/20, Average loss: 167.3850\n",
      "Epoch: 15/20, Average loss: 164.2246\n",
      "Epoch: 16/20, Average loss: 161.3431\n",
      "Epoch: 17/20, Average loss: 159.5106\n",
      "Epoch: 18/20, Average loss: 156.5435\n",
      "Epoch: 19/20, Average loss: 154.0239\n",
      "Training completato e dati scritti su tensorboard\n",
      "Parameters saved\n"
     ]
    }
   ],
   "source": [
    "writer = SummaryWriter(log_dir='/Users/enricofrausin/Programmazione/PythonProjects/Fisica/runs/discrete_VAE/prior_HFM/expandedHFM_32_1024/ld32_glog2_ep20_lmb01_LN_dr05_gKLlog2_4hl_0')\n",
    "my_model = VAE_priorHFM(input_dim=input_dim, latent_dim=32, g=np.log(2), decrease_rate=0.5, device=device, num_hidden_layers=4, LayerNorm=True).to(device)\n",
    "optimizer = optim.Adam(my_model.parameters(), lr=md.learning_rate)\n",
    "train(my_model, _lambda=0.1, writer=writer, train_loader=train_loader, val_loader=val_loader, optimizer=optimizer, device=device, epochs=20, calculate_KL_HFM=True)\n",
    "torch.save(my_model.state_dict(), '/Users/enricofrausin/Programmazione/PythonProjects/Fisica/Architetture/VAE/discrete/models_parameters/priorHFM/expandedHFM_32_1024/ld32_glog2_ep20_lmb01_LN_dr05_gKLlog2_4hl_0.pth')\n",
    "print('Parameters saved')"
   ]
  },
  {
   "cell_type": "code",
   "execution_count": 8,
   "id": "26814b0e",
   "metadata": {},
   "outputs": [
    {
     "name": "stdout",
     "output_type": "stream",
     "text": [
      "Epoch: 0/20, Average loss: 408.6061\n",
      "Epoch: 1/20, Average loss: 368.8077\n",
      "Epoch: 2/20, Average loss: 357.9416\n",
      "Epoch: 3/20, Average loss: 353.8225\n",
      "Epoch: 4/20, Average loss: 351.9900\n",
      "Epoch: 5/20, Average loss: 351.0825\n",
      "Epoch: 6/20, Average loss: 350.5930\n",
      "Epoch: 7/20, Average loss: 350.3083\n",
      "Epoch: 8/20, Average loss: 350.1508\n",
      "Epoch: 9/20, Average loss: 350.0325\n",
      "Epoch: 10/20, Average loss: 349.9596\n",
      "Epoch: 11/20, Average loss: 349.9249\n",
      "Epoch: 12/20, Average loss: 349.8968\n",
      "Epoch: 13/20, Average loss: 349.8726\n",
      "Epoch: 14/20, Average loss: 349.8558\n",
      "Epoch: 15/20, Average loss: 349.8398\n",
      "Epoch: 16/20, Average loss: 349.8369\n",
      "Epoch: 17/20, Average loss: 349.8276\n",
      "Epoch: 18/20, Average loss: 349.8294\n",
      "Epoch: 19/20, Average loss: 349.8175\n",
      "Training completato e dati scritti su tensorboard\n",
      "Parameters saved\n"
     ]
    }
   ],
   "source": [
    "# 5 hidden layers\n",
    "writer = SummaryWriter(log_dir='/Users/enricofrausin/Programmazione/PythonProjects/Fisica/Architetture/VAE/discrete/runs/prior_HFM/expandedHFM_32_1024/ld32_glog2_ep20_lmb01_LN_dr05_gKLlog2_5hl_0')\n",
    "my_model = VAE_priorHFM(input_dim=input_dim, latent_dim=32, g=np.log(2), decrease_rate=0.55, device=device, num_hidden_layers=5, LayerNorm=True).to(device)\n",
    "optimizer = optim.Adam(my_model.parameters(), lr=md.learning_rate)\n",
    "train(my_model, _lambda=0.1, writer=writer, train_loader=train_loader, val_loader=val_loader, optimizer=optimizer, device=device, epochs=20, calculate_KL_HFM=True)\n",
    "torch.save(my_model.state_dict(), '/Users/enricofrausin/Programmazione/PythonProjects/Fisica/Architetture/VAE/discrete/models_parameters/priorHFM/expandedHFM_32_1024/ld32_glog2_ep20_lmb01_LN_dr05_gKLlog2_5hl_0.pth')\n",
    "print('Parameters saved')"
   ]
  },
  {
   "cell_type": "code",
   "execution_count": 9,
   "id": "5be372af",
   "metadata": {},
   "outputs": [
    {
     "name": "stdout",
     "output_type": "stream",
     "text": [
      "Epoch: 0/20, Average loss: 408.4123\n",
      "Epoch: 1/20, Average loss: 369.0100\n",
      "Epoch: 2/20, Average loss: 357.9196\n",
      "Epoch: 3/20, Average loss: 353.9314\n",
      "Epoch: 4/20, Average loss: 351.9628\n",
      "Epoch: 5/20, Average loss: 351.0653\n",
      "Epoch: 6/20, Average loss: 350.5855\n",
      "Epoch: 7/20, Average loss: 350.3135\n",
      "Epoch: 8/20, Average loss: 350.1441\n",
      "Epoch: 9/20, Average loss: 350.0360\n",
      "Epoch: 10/20, Average loss: 349.9780\n",
      "Epoch: 11/20, Average loss: 349.9259\n",
      "Epoch: 12/20, Average loss: 349.9004\n",
      "Epoch: 13/20, Average loss: 349.8688\n",
      "Epoch: 14/20, Average loss: 349.8592\n",
      "Epoch: 15/20, Average loss: 349.8426\n",
      "Epoch: 16/20, Average loss: 349.8388\n",
      "Epoch: 17/20, Average loss: 349.8324\n",
      "Epoch: 18/20, Average loss: 349.8224\n",
      "Epoch: 19/20, Average loss: 349.8243\n",
      "Training completato e dati scritti su tensorboard\n",
      "Parameters saved\n"
     ]
    }
   ],
   "source": [
    "# 6 hidden layers\n",
    "writer = SummaryWriter(log_dir='/Users/enricofrausin/Programmazione/PythonProjects/Fisica/Architetture/VAE/discrete/runs/prior_HFM/expandedHFM_32_1024/ld32_glog2_ep20_lmb01_LN_dr06_gKLlog2_6hl_0')\n",
    "my_model = VAE_priorHFM(input_dim=input_dim, latent_dim=32, g=np.log(2), decrease_rate=0.6, device=device, num_hidden_layers=6, LayerNorm=True).to(device)\n",
    "optimizer = optim.Adam(my_model.parameters(), lr=md.learning_rate)\n",
    "train(my_model, _lambda=0.1, writer=writer, train_loader=train_loader, val_loader=val_loader, optimizer=optimizer, device=device, epochs=20, calculate_KL_HFM=True)\n",
    "torch.save(my_model.state_dict(), '/Users/enricofrausin/Programmazione/PythonProjects/Fisica/Architetture/VAE/discrete/models_parameters/priorHFM/expandedHFM_32_1024/ld32_glog2_ep20_lmb01_LN_dr06_gKLlog2_6hl_0.pth')\n",
    "print('Parameters saved')"
   ]
  },
  {
   "cell_type": "code",
   "execution_count": null,
   "id": "834d56da",
   "metadata": {},
   "outputs": [],
   "source": []
  }
 ],
 "metadata": {
  "kernelspec": {
   "display_name": "Python 3.11 (Python_nn)",
   "language": "python",
   "name": "python_nn_3.11"
  },
  "language_info": {
   "codemirror_mode": {
    "name": "ipython",
    "version": 3
   },
   "file_extension": ".py",
   "mimetype": "text/x-python",
   "name": "python",
   "nbconvert_exporter": "python",
   "pygments_lexer": "ipython3",
   "version": "3.11.12"
  }
 },
 "nbformat": 4,
 "nbformat_minor": 5
}
