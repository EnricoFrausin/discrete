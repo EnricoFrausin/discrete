{
 "cells": [
  {
   "cell_type": "code",
   "execution_count": null,
   "id": "4e1f5087",
   "metadata": {},
   "outputs": [],
   "source": [
    "import torch\n",
    "from torchvision import datasets, transforms\n",
    "import torch.nn as nn\n",
    "from torch.distributions import Categorical\n",
    "import torch.nn.functional as F\n",
    "import numpy as np\n",
    "import torch.optim as optim\n",
    "import matplotlib.pyplot as plt\n",
    "from torch.utils.tensorboard import SummaryWriter\n",
    "from torch.utils.data import Dataset, DataLoader\n",
    "\n",
    "from model import VAE_model\n",
    "import metadata as md\n",
    "from utilities import gumbel_softmax\n",
    "from Architetture.VAE.discrete.myDatasets import Dataset_HFM\n",
    "from train import train"
   ]
  },
  {
   "cell_type": "code",
   "execution_count": null,
   "id": "d58f0132",
   "metadata": {},
   "outputs": [],
   "source": [
    "if torch.backends.mps.is_available():\n",
    "    device = torch.device(\"mps\")\n",
    "    print(\"Utilizzo Apple Silicon GPU (MPS)\")\n",
    "elif torch.cuda.is_available():\n",
    "    device = torch.device(\"cuda\")\n",
    "    print(\"Utilizzo NVIDIA GPU (CUDA)\")\n",
    "else:\n",
    "    device = torch.device(\"cpu\")\n",
    "    print(\"Utilizzo la CPU\")"
   ]
  },
  {
   "cell_type": "code",
   "execution_count": null,
   "id": "b1d60391",
   "metadata": {},
   "outputs": [],
   "source": [
    "torch.manual_seed(0)\n",
    "\n",
    "torch.manual_seed(seed)\n",
    "if device.type == \"cuda\": \n",
    "    torch.cuda.manual_seed(seed)\n",
    "elif device.type == \"mps\": \n",
    "    torch.mps.manual_seed(seed)"
   ]
  },
  {
   "cell_type": "code",
   "execution_count": 2,
   "id": "a64f2626",
   "metadata": {},
   "outputs": [
    {
     "name": "stdout",
     "output_type": "stream",
     "text": [
      "['/opt/homebrew/Cellar/python@3.11/3.11.12_1/Frameworks/Python.framework/Versions/3.11/lib/python311.zip', '/opt/homebrew/Cellar/python@3.11/3.11.12_1/Frameworks/Python.framework/Versions/3.11/lib/python3.11', '/opt/homebrew/Cellar/python@3.11/3.11.12_1/Frameworks/Python.framework/Versions/3.11/lib/python3.11/lib-dynload', '', '/Users/enricofrausin/Programmazione/Python_nn/.venv/lib/python3.11/site-packages', '/var/folders/bb/kqb36gjx6c51yhmhfvh767rr0000gn/T/tmpg_rzhtd4']\n"
     ]
    }
   ],
   "source": [
    "import sys\n",
    "print(sys.path)"
   ]
  },
  {
   "cell_type": "markdown",
   "id": "92d0cca7",
   "metadata": {},
   "source": [
    "# MNIST"
   ]
  },
  {
   "cell_type": "code",
   "execution_count": null,
   "id": "6f7171d5",
   "metadata": {},
   "outputs": [],
   "source": [
    "\n",
    "train_loader = torch.utils.data.DataLoader(\n",
    "    datasets.MNIST(\n",
    "        './data/MNIST',\n",
    "        train=True,\n",
    "        download=True,\n",
    "        transform=transforms.ToTensor()\n",
    "        ),\n",
    "    batch_size=batch_size,\n",
    "    shuffle=True,\n",
    "    **kwargs\n",
    "    )\n",
    "\n",
    "val_loader = torch.utils.data.DataLoader(\n",
    "    datasets.MNIST(\n",
    "        './data/MNIST',\n",
    "        train=False,\n",
    "        download=True,\n",
    "        transform=transforms.ToTensor()\n",
    "        ),\n",
    "    batch_size=batch_size,\n",
    "    shuffle=False,\n",
    "    **kwargs\n",
    "    )"
   ]
  },
  {
   "cell_type": "markdown",
   "id": "51c77a15",
   "metadata": {},
   "source": [
    "# Train loop"
   ]
  },
  {
   "cell_type": "code",
   "execution_count": null,
   "id": "8fc9d7a2",
   "metadata": {},
   "outputs": [],
   "source": [
    "writer = SummaryWriter(log_dir='runs/discrete_VAE_Categorical/_1')"
   ]
  },
  {
   "cell_type": "code",
   "execution_count": null,
   "id": "d4b3c886",
   "metadata": {},
   "outputs": [],
   "source": [
    "\n",
    "my_model = VAE_model().to(device)\n",
    "optimizer = optim.Adam(my_model.parameters(), lr=1e-3)\n",
    "train(my_model, optimizer, epochs=15)"
   ]
  },
  {
   "cell_type": "code",
   "execution_count": null,
   "id": "4a2fa0df",
   "metadata": {},
   "outputs": [],
   "source": [
    "if __name__ == '__main__':\n",
    "    kwargs = {'num_workers': 0, 'pin_memory': False} if torch.backends.mps.is_available() else {}\n",
    "    if torch.backends.mps.is_available():\n",
    "        print(\"Running on Apple Silicon (MPS). num_workers set to 0 to avoid pickling issues.\")\n",
    "        kwargs = {'num_workers': 0, 'pin_memory': False} # pin_memory a False per MPS con num_workers=0\n",
    "\n",
    "\n",
    "    # Inizializzazione del dataset e dei DataLoader\n",
    "    dataset_HFM = Dataset_HFM(csv_file='data/feat_512_g_log2_numex_60000.csv',\n",
    "                            root_dir='data')\n",
    "    train_loader = DataLoader(\n",
    "        dataset_HFM,\n",
    "        batch_size=md.batch_size,\n",
    "        shuffle=True,\n",
    "        **kwargs\n",
    "    )\n",
    "    dataset_HFM_val = Dataset_HFM(csv_file='data/feat_512_g_log2_numex_10000.csv',\n",
    "                                root_dir='data')\n",
    "    val_loader = DataLoader(\n",
    "        dataset_HFM_val, # Importante: usa dataset_HFM_val qui, non dataset_HFM\n",
    "        batch_size=md.batch_size,\n",
    "        shuffle=False,\n",
    "        **kwargs\n",
    "    )\n",
    "\n",
    "    my_model = VAE_model()\n",
    "    my_model.to(device)\n",
    "    optimizer = optim.Adam(my_model.parameters(), lr=1e-3)\n",
    "\n",
    "    # Chiamata alla funzione train\n",
    "    train(my_model, optimizer, epochs=20)\n"
   ]
  }
 ],
 "metadata": {
  "kernelspec": {
   "display_name": "Python 3.11 (Python_nn)",
   "language": "python",
   "name": "python_nn_3.11"
  },
  "language_info": {
   "codemirror_mode": {
    "name": "ipython",
    "version": 3
   },
   "file_extension": ".py",
   "mimetype": "text/x-python",
   "name": "python",
   "nbconvert_exporter": "python",
   "pygments_lexer": "ipython3",
   "version": "3.11.12"
  }
 },
 "nbformat": 4,
 "nbformat_minor": 5
}
