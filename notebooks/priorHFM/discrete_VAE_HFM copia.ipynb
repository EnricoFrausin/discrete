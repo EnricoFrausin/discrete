{
 "cells": [
  {
   "cell_type": "code",
   "execution_count": 2,
   "id": "2ae25902",
   "metadata": {},
   "outputs": [],
   "source": [
    "import torch\n",
    "from torchvision import datasets, transforms\n",
    "import torch.nn as nn\n",
    "from torch.distributions import Categorical\n",
    "import torch.nn.functional as F\n",
    "import numpy as np\n",
    "import torch.optim as optim\n",
    "import matplotlib.pyplot as plt\n",
    "from torch.utils.tensorboard import SummaryWriter\n",
    "import pandas as pd\n",
    "from torch.utils.data import Dataset, DataLoader"
   ]
  },
  {
   "cell_type": "code",
   "execution_count": 18,
   "id": "947c43a8",
   "metadata": {},
   "outputs": [
    {
     "name": "stdout",
     "output_type": "stream",
     "text": [
      "Utilizzo Apple Silicon GPU (MPS)\n"
     ]
    }
   ],
   "source": [
    "torch.manual_seed(0)\n",
    "\n",
    "batch_size = 128\n",
    "temperature = 1.0\n",
    "seed = 0\n",
    "log_interval = 600\n",
    "log_interval_writer = 100\n",
    "hard = False\n",
    "latent_dim = 15\n",
    "categorical_dim = 2\n",
    "temp_min = 0.5\n",
    "ANNEAL_RATE = 0.00003\n",
    "n_start = 512\n",
    "num_initial_bits = 512\n",
    "\n",
    "g = np.log(2)\n",
    "\n",
    "if torch.backends.mps.is_available():\n",
    "    device = torch.device(\"mps\")\n",
    "    print(\"Utilizzo Apple Silicon GPU (MPS)\")\n",
    "elif torch.cuda.is_available():\n",
    "    device = torch.device(\"cuda\")\n",
    "    print(\"Utilizzo NVIDIA GPU (CUDA)\")\n",
    "else:\n",
    "    device = torch.device(\"cpu\")\n",
    "    print(\"Utilizzo la CPU\")\n",
    "\n",
    "# is_cuda = torch.cuda.is_available()\n",
    "torch.manual_seed(seed)\n",
    "if device.type == \"cuda\": # Mantieni la seed per CUDA se presente\n",
    "    torch.cuda.manual_seed(seed)\n",
    "elif device.type == \"mps\": # Imposta la seed anche per MPS se vuoi riproducibilità\n",
    "    torch.mps.manual_seed(seed)\n",
    "\n",
    "kwargs = {'num_workers': 1, 'pin_memory': True} if device.type == \"cuda\" or device.type == \"mps\" else {} # pin_memory può essere utile anche per MPS\n"
   ]
  },
  {
   "cell_type": "markdown",
   "id": "e9078dba",
   "metadata": {},
   "source": [
    "# Datas"
   ]
  },
  {
   "cell_type": "markdown",
   "id": "5e24ec7d",
   "metadata": {},
   "source": [
    "## HFM datas"
   ]
  },
  {
   "cell_type": "code",
   "execution_count": 4,
   "id": "0f3a3d18",
   "metadata": {},
   "outputs": [],
   "source": [
    "class Dataset_HFM(Dataset):\n",
    "    def __init__(self, csv_file, root_dir, transform=None):\n",
    "        self.data = pd.read_csv(csv_file)\n",
    "        self.transform = transform\n",
    "        self.data['examples'] = self.data['examples'].apply(lambda x: torch.tensor(np.fromstring(x.strip(\"[]\"), sep=' '), dtype=torch.float32))\n",
    "\n",
    "    def __len__(self):\n",
    "        return len(self.data)\n",
    "\n",
    "    def __getitem__(self, idx):\n",
    "        if torch.is_tensor(idx):\n",
    "            idx = idx.tolist()\n",
    "\n",
    "        example = self.data.iloc[idx,1]\n",
    "        sample = {'example': example}\n",
    "\n",
    "        if self.transform:\n",
    "            sample = self.transform(sample)\n",
    "\n",
    "        return sample"
   ]
  },
  {
   "cell_type": "code",
   "execution_count": 15,
   "id": "7fda585f",
   "metadata": {},
   "outputs": [],
   "source": [
    "dataset_HFM = Dataset_HFM(csv_file='data/feat_512_g_log2_numex_60000.csv',\n",
    "                          root_dir='data')"
   ]
  },
  {
   "cell_type": "code",
   "execution_count": null,
   "id": "9bda527f",
   "metadata": {},
   "outputs": [],
   "source": [
    "train_loader = DataLoader(\n",
    "    dataset_HFM,\n",
    "    batch_size=batch_size,\n",
    "    shuffle=True,\n",
    "    **kwargs\n",
    ")"
   ]
  },
  {
   "cell_type": "code",
   "execution_count": 23,
   "id": "07008e2d",
   "metadata": {},
   "outputs": [],
   "source": [
    "dataset_HFM_val = Dataset_HFM(csv_file='data/feat_512_g_log2_numex_10000.csv',\n",
    "                          root_dir='data')"
   ]
  },
  {
   "cell_type": "code",
   "execution_count": 24,
   "id": "e8d75e36",
   "metadata": {},
   "outputs": [],
   "source": [
    "val_loader = DataLoader(\n",
    "    dataset_HFM,\n",
    "    batch_size=batch_size,\n",
    "    shuffle=False,\n",
    "    **kwargs\n",
    ")"
   ]
  },
  {
   "cell_type": "markdown",
   "id": "5fc3072d",
   "metadata": {},
   "source": [
    "## MNIST"
   ]
  },
  {
   "cell_type": "code",
   "execution_count": null,
   "id": "3b732f51",
   "metadata": {},
   "outputs": [],
   "source": [
    "\n",
    "train_loader = torch.utils.data.DataLoader(\n",
    "    datasets.MNIST(\n",
    "        './data/MNIST',\n",
    "        train=True,\n",
    "        download=True,\n",
    "        transform=transforms.ToTensor()\n",
    "        ),\n",
    "    batch_size=batch_size,\n",
    "    shuffle=True,\n",
    "    **kwargs\n",
    "    )\n",
    "\n",
    "val_loader = torch.utils.data.DataLoader(\n",
    "    datasets.MNIST(\n",
    "        './data/MNIST',\n",
    "        train=False,\n",
    "        download=True,\n",
    "        transform=transforms.ToTensor()\n",
    "        ),\n",
    "    batch_size=batch_size,\n",
    "    shuffle=False,\n",
    "    **kwargs\n",
    "    )\n"
   ]
  },
  {
   "cell_type": "markdown",
   "id": "629a76ae",
   "metadata": {},
   "source": [
    "## Gumbel softmax"
   ]
  },
  {
   "cell_type": "code",
   "execution_count": 5,
   "id": "cf79c205",
   "metadata": {},
   "outputs": [],
   "source": [
    "\n",
    "def sample_gumbel(shape, eps=1e-20):\n",
    "    # sample from a uniform distribution\n",
    "    U = torch.rand(shape)\n",
    "    '''if is_cuda:\n",
    "        U = U.cuda()'''\n",
    "    return -torch.log(-torch.log(U.to(device) + eps) + eps)\n",
    "\n",
    "def gumbel_softmax_sample(logits, temperature):\n",
    "    y = logits + sample_gumbel(logits.size())\n",
    "    return F.softmax(y / temperature, dim=-1)\n",
    "\n",
    "\n",
    "def gumbel_softmax(logits, temperature, hard=False):\n",
    "    y = gumbel_softmax_sample(logits, temperature)\n",
    "    \n",
    "    if not hard:\n",
    "        return y.view(-1, latent_dim * categorical_dim)\n",
    "    \n",
    "    shape = y.size()\n",
    "    _, ind = y.max(dim=-1)\n",
    "    y_hard = torch.zeros_like(y).view(-1, shape[-1])\n",
    "    y_hard.scatter_(1, ind.view(-1, 1), 1)\n",
    "    y_hard = y_hard.view(*shape)\n",
    "    # skip the gradient of y_hard\n",
    "    y_hard = (y_hard - y).detach() + y \n",
    "    return y_hard.view(-1, latent_dim * categorical_dim)\n",
    "\n"
   ]
  },
  {
   "cell_type": "markdown",
   "id": "17316138",
   "metadata": {},
   "source": [
    "### alternative gumbel softmax"
   ]
  },
  {
   "cell_type": "code",
   "execution_count": null,
   "id": "762f08ff",
   "metadata": {},
   "outputs": [],
   "source": [
    "def Gumbel_softmax(logits, tau, hard=False):\n",
    "    U = torch.rand_like(logits)\n",
    "    G = -torch.log(-torch.log(U + 1e-20) + 1e-20)\n",
    "    y = F.softmax((logits + G) / tau, dim=-1)\n",
    "\n",
    "    if hard:\n",
    "        y_hard = torch.zeros_like(y)\n",
    "        y_hard.scatter_(-1, y.argmax(dim=-1, keepdim=True), 1.0)\n",
    "        y = (y_hard - y).detach() + y  # straight-through estimator\n",
    "\n",
    "    return y\n"
   ]
  },
  {
   "cell_type": "markdown",
   "id": "1c220620",
   "metadata": {},
   "source": [
    "# HFM distribution"
   ]
  },
  {
   "cell_type": "code",
   "execution_count": 6,
   "id": "629a3a52",
   "metadata": {},
   "outputs": [],
   "source": [
    "def mean_s_k(k, n, g): #0-indexed k\n",
    "    xi = 2 * np.exp(-g)\n",
    "    if abs(xi - 1) < 1e-6: #handles the case xi =1\n",
    "        E = (n - (k+1) + 2) / (2 * (n+1))\n",
    "    else:\n",
    "        E = 0.5 * (1 + (xi**(k) - 1) * (xi - 2) / (xi**n + xi -2))\n",
    "    return E\n"
   ]
  },
  {
   "cell_type": "markdown",
   "id": "d3f19ee0",
   "metadata": {},
   "source": [
    "# Class VAE"
   ]
  },
  {
   "cell_type": "code",
   "execution_count": 23,
   "id": "e51b88c4",
   "metadata": {},
   "outputs": [],
   "source": [
    "class VAE_model(nn.Module):\n",
    "    def __init__(self):\n",
    "        super(VAE_model, self).__init__()\n",
    "        self.fc1 = nn.Linear(512, 256)\n",
    "        self.fc2 = nn.Linear(256, 128)\n",
    "        self.fc3 = nn.Linear(128, latent_dim * categorical_dim)\n",
    "        self.fc4 = nn.Linear(latent_dim * categorical_dim, 128)\n",
    "        self.fc5 = nn.Linear(128, 256)\n",
    "        self.fc6 = nn.Linear(256, 512)\n",
    "        self.relu = nn.ReLU()\n",
    "        self.sigmoid = nn.Sigmoid()\n",
    "\n",
    "    def sample_img(self, img, temp, random=True):\n",
    "        with torch.no_grad():\n",
    "            logits_z = self.encode(img.view(-1, num_initial_bits))\n",
    "            logits_z = logits_z.view(-1, latent_dim, categorical_dim)\n",
    "            if random:\n",
    "                latent_z = gumbel_softmax(logits_z, temp, True)\n",
    "            else:\n",
    "                latent_z = logits_z.view(-1, latent_dim * categorical_dim)\n",
    "            logits_x = self.decode(latent_z)\n",
    "            dist_x = torch.distributions.Bernoulli(probs=logits_x)\n",
    "            sampled_img = dist_x.sample()\n",
    "        return sampled_img\n",
    "\n",
    "    def encode(self, x):\n",
    "        h1 = self.relu(self.fc1(x))\n",
    "        h2 = self.relu(self.fc2(h1))\n",
    "        return self.relu(self.fc3(h2))\n",
    "\n",
    "    def decode(self, z):\n",
    "        h4 = self.relu(self.fc4(z))\n",
    "        h5 = self.relu(self.fc5(h4))\n",
    "        return self.sigmoid(self.fc6(h5))\n",
    "\n",
    "    def forward(self, data, temp, hard):\n",
    "        logits_z = self.encode(data.view(-1, num_initial_bits))\n",
    "        logits_z = logits_z.view(-1, latent_dim, categorical_dim)\n",
    "\n",
    "        probs_z = F.softmax(logits_z, dim=-1)\n",
    "        posterior_distrib = torch.distributions.Categorical(probs=probs_z)\n",
    "\n",
    "        prior_probs_list = []\n",
    "        for i in range(latent_dim):\n",
    "            prob_activation = mean_s_k(i, latent_dim, np.log(2))\n",
    "            prob_nonactivation = 1 - prob_activation\n",
    "            prior_probs_list.append([prob_activation, prob_nonactivation])\n",
    "\n",
    "        probs_prior_base = torch.tensor(prior_probs_list, device=device, dtype=torch.float32)\n",
    "        probs_prior = probs_prior_base.unsqueeze(0).expand(data.size(0), -1, -1)\n",
    "        prior_distrib = torch.distributions.Categorical(probs=probs_prior)\n",
    "\n",
    "\n",
    "        latent_z = gumbel_softmax(logits_z, temp)\n",
    "        latent_z = latent_z.view(-1, latent_dim * categorical_dim)\n",
    "\n",
    "        probs_x = self.decode(latent_z)\n",
    "        dist_x = torch.distributions.Bernoulli(probs=probs_x, validate_args=False)\n",
    "\n",
    "        rec_loss = dist_x.log_prob(data.view(-1, num_initial_bits)).sum(dim=-1)\n",
    "        logits_z_log = F.log_softmax(logits_z, dim=-1)\n",
    "\n",
    "        #KL è la somma su tutte le (singole KL calcolate sulla distr di prob di bernoulli di ogni feature), non ancora sommata su ogni esempio del batch \n",
    "        KL = (posterior_distrib.probs * (logits_z_log - prior_distrib.probs.log())).view(-1, latent_dim * categorical_dim).sum(dim=-1)\n",
    "        elbo = rec_loss - KL\n",
    "        # a questo punto si fa la media su tutti i valori del batch\n",
    "        loss = -elbo.mean()\n",
    "        return loss, KL.mean()\n",
    "    \n",
    "    def sample_from_prior(self, num_samples=1, temp_eval=0.01):\n",
    "        \"\"\"\n",
    "        Genera immagini campionando dallo spazio latente (prior).\n",
    "        num_samples: Quante immagini vuoi generare.\n",
    "        temp_eval: La temperatura da usare per la Gumbel-Softmax.\n",
    "                Un valore molto basso (~0.01) simula un campionamento one-hot.\n",
    "                Un valore di 1.0 rende il campionamento più \"soft\".\n",
    "        \"\"\"\n",
    "        self.eval() # Imposta il modello in modalità valutazione\n",
    "        with torch.no_grad(): # Non abbiamo bisogno di calcolare i gradienti qui\n",
    "\n",
    "            prior_probs_list = []\n",
    "            for i in range(latent_dim):\n",
    "                prob_cat0 = mean_s_k(i, latent_dim, np.log(2))\n",
    "                prob_cat1 = 1.0 - prob_cat0\n",
    "                prior_probs_list.append([prob_cat0, prob_cat1])\n",
    "\n",
    "            probs_prior_base = torch.tensor(prior_probs_list, device=device, dtype=torch.float32)\n",
    "\n",
    "            sampled_indices = torch.distributions.Categorical(probs=probs_prior_base).sample((num_samples,)).to(device)\n",
    "            # sampled_indices avrà forma (num_samples, latent_dim)\n",
    "\n",
    "            # Converti gli indici campionati in un formato one-hot (o soft)\n",
    "            # Per fare un sampling \"hard\" (one-hot), possiamo usare scatter_\n",
    "            # o direttamente creare i one-hot da sampled_indices\n",
    "            latent_z_one_hot = torch.zeros(num_samples, latent_dim, categorical_dim, device=device)\n",
    "            latent_z_one_hot.scatter_(-1, sampled_indices.unsqueeze(-1), 1)\n",
    "\n",
    "            latent_z_sampled = latent_z_one_hot.view(num_samples, latent_dim * categorical_dim)\n",
    "\n",
    "\n",
    "            probs_x = self.decode(latent_z_sampled)\n",
    "\n",
    "            dist_x = torch.distributions.Bernoulli(probs=probs_x)\n",
    "            generated_img = dist_x.sample()\n",
    "\n",
    "        self.train() # Riporta il modello in modalità addestramento\n",
    "        return generated_img # Ritorna le immagini generate\n"
   ]
  },
  {
   "cell_type": "markdown",
   "id": "f1a67104",
   "metadata": {},
   "source": [
    "# Training"
   ]
  },
  {
   "cell_type": "code",
   "execution_count": 9,
   "id": "a8e35ce6",
   "metadata": {},
   "outputs": [],
   "source": [
    "writer = SummaryWriter(log_dir='runs/discrete_VAE_HFM/_1')"
   ]
  },
  {
   "cell_type": "code",
   "execution_count": 15,
   "id": "fb9549b3",
   "metadata": {},
   "outputs": [],
   "source": [
    "def train(model, optimizer, epochs):\n",
    "    global_batch_idx = 0\n",
    "    for epoch in range(epochs):\n",
    "        model.train()\n",
    "        train_loss = 0\n",
    "        temp = temperature\n",
    "\n",
    "        for batch_idx, data in enumerate(train_loader):\n",
    "            global_batch_idx += 1\n",
    "            # Sposta i dati sul device corretto\n",
    "            data = data['example'].to(device)\n",
    "            optimizer.zero_grad()\n",
    "            loss, KL = model(data, temp, hard)\n",
    "            loss.backward()\n",
    "            train_loss += loss.item() * len(data)\n",
    "            optimizer.step()\n",
    "\n",
    "            if batch_idx % 100 == 1:\n",
    "                temp = np.maximum(temp * np.exp(-ANNEAL_RATE * batch_idx), temp_min)\n",
    "\n",
    "            '''\n",
    "            if batch_idx % log_interval == 0:\n",
    "                print('Train Epoch: {} [{}/{} ({:.0f}%)]\\tLoss: {:.6f}'.format(\n",
    "                    epoch, batch_idx * len(data), len(train_loader.dataset),\n",
    "                        100. * batch_idx / len(train_loader),\n",
    "                        loss.item()))\n",
    "                print(\"Temperature : \", temp)\n",
    "            '''\n",
    "\n",
    "            if global_batch_idx % log_interval_writer == 0:\n",
    "                writer.add_scalar('KL/Train', KL, global_step=global_batch_idx)\n",
    "\n",
    "\n",
    "        writer.add_scalar('Loss/Train', train_loss/len(train_loader.dataset), global_step=epoch)\n",
    "\n",
    "\n",
    "\n",
    "        '''\n",
    "        # Sposta l'immagine campionata sulla CPU per la visualizzazione con matplotlib\n",
    "        sampled = model.sample_img(data[0].view(-1, 28*28), temp).view(28, 28).detach().cpu()\n",
    "        fig, axs = plt.subplots(1, 2, figsize=(6,4))\n",
    "        fig.suptitle('Reconstructed vs Real')\n",
    "        axs[0].imshow(sampled.reshape(28,28))\n",
    "        axs[0].axis('off')\n",
    "        axs[1].imshow(data[0].reshape(28,28).detach().cpu())\n",
    "        axs[1].axis('off')\n",
    "        plt.show()\n",
    "        '''\n",
    "\n",
    "        print('====> Epoch: {} Average loss: {:.4f}'.format(\n",
    "            epoch, train_loss / len(train_loader.dataset)))\n",
    "        \n",
    "        # Validation\n",
    "        \n",
    "        model.eval()\n",
    "        val_loss_sum = 0.0\n",
    "        with torch.no_grad():\n",
    "            for batch_idx, data in enumerate(val_loader):\n",
    "                data = data['example'].to(device)\n",
    "                loss, KL = model(data, temp, hard=True)\n",
    "                val_loss_sum += loss.item() * len(data)\n",
    "\n",
    "        writer.add_scalar('Loss/Validation', val_loss_sum/len(val_loader.dataset), global_step=epoch)\n",
    "\n",
    "        # Log histogram of weights and gradients\n",
    "        for name, param in model.named_parameters():\n",
    "            writer.add_histogram(f'Weights/{name}', param, global_step=epoch)\n",
    "            if param.grad is not None:\n",
    "                writer.add_histogram(f'Grads/{name}', param.grad, global_step=epoch)\n",
    "\n",
    "    writer.close()\n",
    "    print(\"Training completato e dati scritti su tensorboard\")\n",
    "\n",
    "\n",
    "                    \n",
    "        "
   ]
  },
  {
   "cell_type": "code",
   "execution_count": 24,
   "id": "c53f6541",
   "metadata": {},
   "outputs": [
    {
     "name": "stdout",
     "output_type": "stream",
     "text": [
      "Running on Apple Silicon (MPS). num_workers set to 0 to avoid pickling issues.\n",
      "====> Epoch: 0 Average loss: 259.6736\n",
      "====> Epoch: 1 Average loss: 257.1011\n",
      "====> Epoch: 2 Average loss: 256.9735\n",
      "====> Epoch: 3 Average loss: 256.8518\n",
      "====> Epoch: 4 Average loss: 256.6718\n",
      "====> Epoch: 5 Average loss: 256.4465\n",
      "====> Epoch: 6 Average loss: 256.2172\n",
      "====> Epoch: 7 Average loss: 256.0489\n",
      "====> Epoch: 8 Average loss: 255.8888\n",
      "====> Epoch: 9 Average loss: 255.7183\n",
      "====> Epoch: 10 Average loss: 255.5594\n",
      "====> Epoch: 11 Average loss: 255.4378\n",
      "====> Epoch: 12 Average loss: 255.3025\n",
      "====> Epoch: 13 Average loss: 255.2069\n",
      "====> Epoch: 14 Average loss: 255.1257\n",
      "====> Epoch: 15 Average loss: 255.0564\n",
      "====> Epoch: 16 Average loss: 254.9942\n",
      "====> Epoch: 17 Average loss: 254.9122\n",
      "====> Epoch: 18 Average loss: 254.8538\n",
      "====> Epoch: 19 Average loss: 254.8151\n",
      "Training completato e dati scritti su tensorboard\n"
     ]
    }
   ],
   "source": [
    "if __name__ == '__main__':\n",
    "    # Queste variabili sono definite globalmente, ma è buona pratica includerle qui\n",
    "    # per chiarezza se lo script è più grande.\n",
    "    # kwargs per DataLoader, MPS non supporta pin_memory con num_workers > 0\n",
    "    kwargs = {'num_workers': 0, 'pin_memory': True} if torch.backends.mps.is_available() else {}\n",
    "    # Per MPS, se `num_workers > 0` e `pin_memory=True`, PyTorch lancia un warning.\n",
    "    # È meglio impostare num_workers=0 per debug iniziale, poi aumentare se necessario.\n",
    "    # In questo caso, data la natura dell'errore, num_workers=0 è la prima cosa da provare.\n",
    "    if torch.backends.mps.is_available():\n",
    "        print(\"Running on Apple Silicon (MPS). num_workers set to 0 to avoid pickling issues.\")\n",
    "        kwargs = {'num_workers': 0, 'pin_memory': False} # pin_memory a False per MPS con num_workers=0\n",
    "\n",
    "\n",
    "    # Inizializzazione del dataset e dei DataLoader\n",
    "    dataset_HFM = Dataset_HFM(csv_file='data/feat_512_g_log2_numex_60000.csv',\n",
    "                            root_dir='data')\n",
    "    train_loader = DataLoader(\n",
    "        dataset_HFM,\n",
    "        batch_size=batch_size,\n",
    "        shuffle=True,\n",
    "        **kwargs\n",
    "    )\n",
    "    dataset_HFM_val = Dataset_HFM(csv_file='data/feat_512_g_log2_numex_10000.csv',\n",
    "                                root_dir='data')\n",
    "    val_loader = DataLoader(\n",
    "        dataset_HFM_val, # Importante: usa dataset_HFM_val qui, non dataset_HFM\n",
    "        batch_size=batch_size,\n",
    "        shuffle=False,\n",
    "        **kwargs\n",
    "    )\n",
    "\n",
    "    my_model = VAE_model()\n",
    "    my_model.to(device)\n",
    "    optimizer = optim.Adam(my_model.parameters(), lr=1e-3)\n",
    "\n",
    "    # Chiamata alla funzione train\n",
    "    train(my_model, optimizer, epochs=20)\n"
   ]
  },
  {
   "cell_type": "markdown",
   "id": "c4687879",
   "metadata": {},
   "source": [
    "# Validation"
   ]
  },
  {
   "cell_type": "code",
   "execution_count": 31,
   "id": "bfefa73d",
   "metadata": {},
   "outputs": [
    {
     "data": {
      "image/png": "[encoded data removed]",
      "text/plain": [
       "<Figure size 1000x200 with 5 Axes>"
      ]
     },
     "metadata": {},
     "output_type": "display_data"
    }
   ],
   "source": [
    "num_generated_images = 5\n",
    "generated_images = my_model.sample_from_prior(num_samples=num_generated_images)\n",
    "\n",
    "# Visualizza le immagini generate\n",
    "plt.figure(figsize=(num_generated_images * 2, 2))\n",
    "plt.suptitle(\"Immagini generate dal prior\", fontsize=16)\n",
    "for i in range(num_generated_images):\n",
    "    plt.subplot(1, num_generated_images, i + 1)\n",
    "    plt.imshow(generated_images[i].view(32, 16).detach().cpu().numpy(), cmap='gray')\n",
    "    plt.axis('off')\n",
    "plt.show()"
   ]
  },
  {
   "cell_type": "code",
   "execution_count": 29,
   "id": "f791d01a",
   "metadata": {},
   "outputs": [
    {
     "data": {
      "text/plain": [
       "32.0"
      ]
     },
     "execution_count": 29,
     "metadata": {},
     "output_type": "execute_result"
    }
   ],
   "source": [
    "512/16"
   ]
  },
  {
   "cell_type": "code",
   "execution_count": null,
   "id": "997030c5",
   "metadata": {},
   "outputs": [],
   "source": []
  }
 ],
 "metadata": {
  "kernelspec": {
   "display_name": "Python 3.11 (Python_nn)",
   "language": "python",
   "name": "python_nn_3.11"
  },
  "language_info": {
   "codemirror_mode": {
    "name": "ipython",
    "version": 3
   },
   "file_extension": ".py",
   "mimetype": "text/x-python",
   "name": "python",
   "nbconvert_exporter": "python",
   "pygments_lexer": "ipython3",
   "version": "3.11.12"
  }
 },
 "nbformat": 4,
 "nbformat_minor": 5
}
